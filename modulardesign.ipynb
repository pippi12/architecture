{
 "cells": [
  {
   "cell_type": "code",
   "execution_count": 56,
   "metadata": {},
   "outputs": [],
   "source": [
    "import pandas as pd\n",
    "import numpy as np\n",
    "import sklearn #機械学習のライブラリ\n",
    "from sklearn.decomposition import PCA #主成分分析器\n",
    "import math\n",
    "import random"
   ]
  },
  {
   "cell_type": "code",
   "execution_count": 57,
   "metadata": {},
   "outputs": [
    {
     "data": {
      "text/html": [
       "<div>\n",
       "<style scoped>\n",
       "    .dataframe tbody tr th:only-of-type {\n",
       "        vertical-align: middle;\n",
       "    }\n",
       "\n",
       "    .dataframe tbody tr th {\n",
       "        vertical-align: top;\n",
       "    }\n",
       "\n",
       "    .dataframe thead th {\n",
       "        text-align: right;\n",
       "    }\n",
       "</style>\n",
       "<table border=\"1\" class=\"dataframe\">\n",
       "  <thead>\n",
       "    <tr style=\"text-align: right;\">\n",
       "      <th></th>\n",
       "      <th>design_parameter_id</th>\n",
       "      <th>design_parameter_name</th>\n",
       "      <th>component_id</th>\n",
       "      <th>component_name</th>\n",
       "    </tr>\n",
       "  </thead>\n",
       "  <tbody>\n",
       "    <tr>\n",
       "      <th>0</th>\n",
       "      <td>Dp1</td>\n",
       "      <td>Length</td>\n",
       "      <td>Cp1</td>\n",
       "      <td>Main_hull</td>\n",
       "    </tr>\n",
       "    <tr>\n",
       "      <th>1</th>\n",
       "      <td>Dp2</td>\n",
       "      <td>Width</td>\n",
       "      <td>Cp1</td>\n",
       "      <td>Main_hull</td>\n",
       "    </tr>\n",
       "    <tr>\n",
       "      <th>2</th>\n",
       "      <td>Dp3</td>\n",
       "      <td>Stiffness</td>\n",
       "      <td>Cp1</td>\n",
       "      <td>Main_hull</td>\n",
       "    </tr>\n",
       "    <tr>\n",
       "      <th>3</th>\n",
       "      <td>Dp4</td>\n",
       "      <td>Length</td>\n",
       "      <td>Cp2</td>\n",
       "      <td>Side_hull</td>\n",
       "    </tr>\n",
       "    <tr>\n",
       "      <th>4</th>\n",
       "      <td>Dp5</td>\n",
       "      <td>Width</td>\n",
       "      <td>Cp2</td>\n",
       "      <td>Side_hull</td>\n",
       "    </tr>\n",
       "    <tr>\n",
       "      <th>5</th>\n",
       "      <td>Dp6</td>\n",
       "      <td>Stiffness</td>\n",
       "      <td>Cp2</td>\n",
       "      <td>Side_hull</td>\n",
       "    </tr>\n",
       "    <tr>\n",
       "      <th>6</th>\n",
       "      <td>Dp7</td>\n",
       "      <td>Length</td>\n",
       "      <td>Cp3</td>\n",
       "      <td>Main_wing</td>\n",
       "    </tr>\n",
       "    <tr>\n",
       "      <th>7</th>\n",
       "      <td>Dp8</td>\n",
       "      <td>Width</td>\n",
       "      <td>Cp3</td>\n",
       "      <td>Main_wing</td>\n",
       "    </tr>\n",
       "    <tr>\n",
       "      <th>8</th>\n",
       "      <td>Dp9</td>\n",
       "      <td>Stiffness</td>\n",
       "      <td>Cp3</td>\n",
       "      <td>Main_wing</td>\n",
       "    </tr>\n",
       "    <tr>\n",
       "      <th>9</th>\n",
       "      <td>Dp10</td>\n",
       "      <td>Length</td>\n",
       "      <td>Cp4</td>\n",
       "      <td>Front_wing</td>\n",
       "    </tr>\n",
       "    <tr>\n",
       "      <th>10</th>\n",
       "      <td>Dp11</td>\n",
       "      <td>Width</td>\n",
       "      <td>Cp4</td>\n",
       "      <td>Front_wing</td>\n",
       "    </tr>\n",
       "    <tr>\n",
       "      <th>11</th>\n",
       "      <td>Dp12</td>\n",
       "      <td>Stiffness</td>\n",
       "      <td>Cp4</td>\n",
       "      <td>Front_wing</td>\n",
       "    </tr>\n",
       "    <tr>\n",
       "      <th>12</th>\n",
       "      <td>Dp13</td>\n",
       "      <td>Sensitivity</td>\n",
       "      <td>Cp5</td>\n",
       "      <td>Height_sensor</td>\n",
       "    </tr>\n",
       "    <tr>\n",
       "      <th>13</th>\n",
       "      <td>Dp14</td>\n",
       "      <td>Length</td>\n",
       "      <td>Cp6</td>\n",
       "      <td>Solar_panel</td>\n",
       "    </tr>\n",
       "    <tr>\n",
       "      <th>14</th>\n",
       "      <td>Dp15</td>\n",
       "      <td>Width</td>\n",
       "      <td>Cp6</td>\n",
       "      <td>Solar_panel</td>\n",
       "    </tr>\n",
       "    <tr>\n",
       "      <th>15</th>\n",
       "      <td>Dp16</td>\n",
       "      <td>Output</td>\n",
       "      <td>Cp7</td>\n",
       "      <td>Battery</td>\n",
       "    </tr>\n",
       "    <tr>\n",
       "      <th>16</th>\n",
       "      <td>Dp17</td>\n",
       "      <td>Capacity</td>\n",
       "      <td>Cp7</td>\n",
       "      <td>Battery</td>\n",
       "    </tr>\n",
       "    <tr>\n",
       "      <th>17</th>\n",
       "      <td>Dp18</td>\n",
       "      <td>Torque</td>\n",
       "      <td>Cp8</td>\n",
       "      <td>Motor</td>\n",
       "    </tr>\n",
       "    <tr>\n",
       "      <th>18</th>\n",
       "      <td>Dp19</td>\n",
       "      <td>Rotation</td>\n",
       "      <td>Cp8</td>\n",
       "      <td>Motor</td>\n",
       "    </tr>\n",
       "    <tr>\n",
       "      <th>19</th>\n",
       "      <td>Dp20</td>\n",
       "      <td>Size</td>\n",
       "      <td>Cp9</td>\n",
       "      <td>Screw</td>\n",
       "    </tr>\n",
       "    <tr>\n",
       "      <th>20</th>\n",
       "      <td>Dp21</td>\n",
       "      <td>Number</td>\n",
       "      <td>Cp9</td>\n",
       "      <td>Screw</td>\n",
       "    </tr>\n",
       "    <tr>\n",
       "      <th>21</th>\n",
       "      <td>Dp22</td>\n",
       "      <td>Length</td>\n",
       "      <td>Cp10</td>\n",
       "      <td>Rudder</td>\n",
       "    </tr>\n",
       "    <tr>\n",
       "      <th>22</th>\n",
       "      <td>Dp23</td>\n",
       "      <td>Depth</td>\n",
       "      <td>Cp10</td>\n",
       "      <td>Rudder</td>\n",
       "    </tr>\n",
       "  </tbody>\n",
       "</table>\n",
       "</div>"
      ],
      "text/plain": [
       "   design_parameter_id design_parameter_name component_id component_name\n",
       "0                  Dp1                Length          Cp1      Main_hull\n",
       "1                  Dp2                 Width          Cp1      Main_hull\n",
       "2                  Dp3             Stiffness          Cp1      Main_hull\n",
       "3                  Dp4                Length          Cp2      Side_hull\n",
       "4                  Dp5                 Width          Cp2      Side_hull\n",
       "5                  Dp6             Stiffness          Cp2      Side_hull\n",
       "6                  Dp7                Length          Cp3      Main_wing\n",
       "7                  Dp8                 Width          Cp3      Main_wing\n",
       "8                  Dp9             Stiffness          Cp3      Main_wing\n",
       "9                 Dp10                Length          Cp4     Front_wing\n",
       "10                Dp11                 Width          Cp4     Front_wing\n",
       "11                Dp12             Stiffness          Cp4     Front_wing\n",
       "12                Dp13           Sensitivity          Cp5  Height_sensor\n",
       "13                Dp14                Length          Cp6    Solar_panel\n",
       "14                Dp15                 Width          Cp6    Solar_panel\n",
       "15                Dp16                Output          Cp7        Battery\n",
       "16                Dp17              Capacity          Cp7        Battery\n",
       "17                Dp18                Torque          Cp8          Motor\n",
       "18                Dp19              Rotation          Cp8          Motor\n",
       "19                Dp20                  Size          Cp9          Screw\n",
       "20                Dp21                Number          Cp9          Screw\n",
       "21                Dp22                Length         Cp10         Rudder\n",
       "22                Dp23                 Depth         Cp10         Rudder"
      ]
     },
     "execution_count": 57,
     "metadata": {},
     "output_type": "execute_result"
    }
   ],
   "source": [
    "filepath = './src/design_parameter_table.csv'\n",
    "df_dp = pd.read_csv(filepath, header=0, index_col=None)\n",
    "filepath = './src/product_definition_table.csv'\n",
    "df_product_definition = pd.read_csv(filepath, header=0, index_col=None)\n",
    "filepath = './src/product_model_1.csv'\n",
    "df_product_model = pd.read_csv(filepath, header=0, index_col=None)\n",
    "df_dp\n"
   ]
  },
  {
   "cell_type": "code",
   "execution_count": 58,
   "metadata": {},
   "outputs": [],
   "source": [
    "# numpy化\n",
    "importances = df_product_definition.iloc[:,2:].to_numpy()\n",
    "sensitivity = df_product_model.iloc[:,1:].to_numpy()\n",
    "\n",
    "# 変数定義\n",
    "n_pr = len(df_product_definition.columns)-2\n",
    "n_dp = len(df_product_model.columns)-1\n",
    "n_fm = len(df_product_definition)\n",
    "n_cp = len(df_dp[\"component_id\"].drop_duplicates())"
   ]
  },
  {
   "cell_type": "code",
   "execution_count": 59,
   "metadata": {},
   "outputs": [],
   "source": [
    "# 設計方針ベクトルの算出\n",
    "design_policy = np.zeros((len(df_product_definition.columns)-2, len(df_product_model.columns)-1, len(df_product_definition)))\n",
    "\n",
    "# i:製品，j:設計変数，k:機能尺度\n",
    "for ipr in range(n_pr):\n",
    "    for idp in range(n_dp):\n",
    "        for ifm in range(n_fm):\n",
    "            design_policy[ipr,idp,ifm] = importances[ifm,ipr] * sensitivity[ifm,idp]\n",
    "#design_policy"
   ]
  },
  {
   "cell_type": "code",
   "execution_count": 60,
   "metadata": {},
   "outputs": [
    {
     "data": {
      "text/html": [
       "        <script type=\"text/javascript\">\n",
       "        window.PlotlyConfig = {MathJaxConfig: 'local'};\n",
       "        if (window.MathJax && window.MathJax.Hub && window.MathJax.Hub.Config) {window.MathJax.Hub.Config({SVG: {font: \"STIX-Web\"}});}\n",
       "        if (typeof require !== 'undefined') {\n",
       "        require.undef(\"plotly\");\n",
       "        requirejs.config({\n",
       "            paths: {\n",
       "                'plotly': ['https://cdn.plot.ly/plotly-2.20.0.min']\n",
       "            }\n",
       "        });\n",
       "        require(['plotly'], function(Plotly) {\n",
       "            window._Plotly = Plotly;\n",
       "        });\n",
       "        }\n",
       "        </script>\n",
       "        "
      ]
     },
     "metadata": {},
     "output_type": "display_data"
    },
    {
     "data": {
      "application/vnd.plotly.v1+json": {
       "config": {
        "linkText": "Export to plot.ly",
        "plotlyServerURL": "https://plot.ly",
        "showLink": true
       },
       "data": [
        {
         "marker": {
          "color": "rgba(255, 153, 51, 1.0)",
          "line": {
           "width": 1.3
          },
          "opacity": 0.8,
          "size": 12,
          "symbol": "circle"
         },
         "mode": "markers",
         "name": "製品1",
         "textfont": {
          "color": "#4D5663"
         },
         "type": "scatter3d",
         "x": [
          -8.387699072518666
         ],
         "y": [
          9.905429227497494
         ],
         "z": [
          -3.3954345948505544
         ]
        },
        {
         "marker": {
          "color": "rgba(55, 128, 191, 1.0)",
          "line": {
           "width": 1.3
          },
          "opacity": 0.8,
          "size": 12,
          "symbol": "circle"
         },
         "mode": "markers",
         "name": "製品2",
         "textfont": {
          "color": "#4D5663"
         },
         "type": "scatter3d",
         "x": [
          6.5719496284028445
         ],
         "y": [
          1.8664360203728925
         ],
         "z": [
          9.237201668448646
         ]
        },
        {
         "marker": {
          "color": "rgba(50, 171, 96, 1.0)",
          "line": {
           "width": 1.3
          },
          "opacity": 0.8,
          "size": 12,
          "symbol": "circle"
         },
         "mode": "markers",
         "name": "製品3",
         "textfont": {
          "color": "#4D5663"
         },
         "type": "scatter3d",
         "x": [
          -12.876206858874115
         ],
         "y": [
          -8.842423212202418
         ],
         "z": [
          0.12185509339873735
         ]
        },
        {
         "marker": {
          "color": "rgba(128, 0, 128, 1.0)",
          "line": {
           "width": 1.3
          },
          "opacity": 0.8,
          "size": 12,
          "symbol": "circle"
         },
         "mode": "markers",
         "name": "製品4",
         "textfont": {
          "color": "#4D5663"
         },
         "type": "scatter3d",
         "x": [
          14.691956302989933
         ],
         "y": [
          -2.929442035667966
         ],
         "z": [
          -5.96362216699682
         ]
        }
       ],
       "layout": {
        "legend": {
         "bgcolor": "#F5F6F9",
         "font": {
          "color": "#4D5663"
         }
        },
        "paper_bgcolor": "#F5F6F9",
        "plot_bgcolor": "#F5F6F9",
        "scene": {
         "xaxis": {
          "gridcolor": "#9499A3",
          "showgrid": true,
          "tickfont": {
           "color": "#4D5663"
          },
          "title": {
           "font": {
            "color": "#4D5663"
           },
           "text": ""
          },
          "zerolinecolor": "#9499A3"
         },
         "yaxis": {
          "gridcolor": "#9499A3",
          "showgrid": true,
          "tickfont": {
           "color": "#4D5663"
          },
          "title": {
           "font": {
            "color": "#4D5663"
           },
           "text": ""
          },
          "zerolinecolor": "#9499A3"
         },
         "zaxis": {
          "gridcolor": "#9499A3",
          "showgrid": true,
          "tickfont": {
           "color": "#4D5663"
          },
          "title": {
           "font": {
            "color": "#4D5663"
           },
           "text": ""
          },
          "zerolinecolor": "#9499A3"
         }
        },
        "template": {
         "data": {
          "bar": [
           {
            "error_x": {
             "color": "#2a3f5f"
            },
            "error_y": {
             "color": "#2a3f5f"
            },
            "marker": {
             "line": {
              "color": "#E5ECF6",
              "width": 0.5
             },
             "pattern": {
              "fillmode": "overlay",
              "size": 10,
              "solidity": 0.2
             }
            },
            "type": "bar"
           }
          ],
          "barpolar": [
           {
            "marker": {
             "line": {
              "color": "#E5ECF6",
              "width": 0.5
             },
             "pattern": {
              "fillmode": "overlay",
              "size": 10,
              "solidity": 0.2
             }
            },
            "type": "barpolar"
           }
          ],
          "carpet": [
           {
            "aaxis": {
             "endlinecolor": "#2a3f5f",
             "gridcolor": "white",
             "linecolor": "white",
             "minorgridcolor": "white",
             "startlinecolor": "#2a3f5f"
            },
            "baxis": {
             "endlinecolor": "#2a3f5f",
             "gridcolor": "white",
             "linecolor": "white",
             "minorgridcolor": "white",
             "startlinecolor": "#2a3f5f"
            },
            "type": "carpet"
           }
          ],
          "choropleth": [
           {
            "colorbar": {
             "outlinewidth": 0,
             "ticks": ""
            },
            "type": "choropleth"
           }
          ],
          "contour": [
           {
            "colorbar": {
             "outlinewidth": 0,
             "ticks": ""
            },
            "colorscale": [
             [
              0,
              "#0d0887"
             ],
             [
              0.1111111111111111,
              "#46039f"
             ],
             [
              0.2222222222222222,
              "#7201a8"
             ],
             [
              0.3333333333333333,
              "#9c179e"
             ],
             [
              0.4444444444444444,
              "#bd3786"
             ],
             [
              0.5555555555555556,
              "#d8576b"
             ],
             [
              0.6666666666666666,
              "#ed7953"
             ],
             [
              0.7777777777777778,
              "#fb9f3a"
             ],
             [
              0.8888888888888888,
              "#fdca26"
             ],
             [
              1,
              "#f0f921"
             ]
            ],
            "type": "contour"
           }
          ],
          "contourcarpet": [
           {
            "colorbar": {
             "outlinewidth": 0,
             "ticks": ""
            },
            "type": "contourcarpet"
           }
          ],
          "heatmap": [
           {
            "colorbar": {
             "outlinewidth": 0,
             "ticks": ""
            },
            "colorscale": [
             [
              0,
              "#0d0887"
             ],
             [
              0.1111111111111111,
              "#46039f"
             ],
             [
              0.2222222222222222,
              "#7201a8"
             ],
             [
              0.3333333333333333,
              "#9c179e"
             ],
             [
              0.4444444444444444,
              "#bd3786"
             ],
             [
              0.5555555555555556,
              "#d8576b"
             ],
             [
              0.6666666666666666,
              "#ed7953"
             ],
             [
              0.7777777777777778,
              "#fb9f3a"
             ],
             [
              0.8888888888888888,
              "#fdca26"
             ],
             [
              1,
              "#f0f921"
             ]
            ],
            "type": "heatmap"
           }
          ],
          "heatmapgl": [
           {
            "colorbar": {
             "outlinewidth": 0,
             "ticks": ""
            },
            "colorscale": [
             [
              0,
              "#0d0887"
             ],
             [
              0.1111111111111111,
              "#46039f"
             ],
             [
              0.2222222222222222,
              "#7201a8"
             ],
             [
              0.3333333333333333,
              "#9c179e"
             ],
             [
              0.4444444444444444,
              "#bd3786"
             ],
             [
              0.5555555555555556,
              "#d8576b"
             ],
             [
              0.6666666666666666,
              "#ed7953"
             ],
             [
              0.7777777777777778,
              "#fb9f3a"
             ],
             [
              0.8888888888888888,
              "#fdca26"
             ],
             [
              1,
              "#f0f921"
             ]
            ],
            "type": "heatmapgl"
           }
          ],
          "histogram": [
           {
            "marker": {
             "pattern": {
              "fillmode": "overlay",
              "size": 10,
              "solidity": 0.2
             }
            },
            "type": "histogram"
           }
          ],
          "histogram2d": [
           {
            "colorbar": {
             "outlinewidth": 0,
             "ticks": ""
            },
            "colorscale": [
             [
              0,
              "#0d0887"
             ],
             [
              0.1111111111111111,
              "#46039f"
             ],
             [
              0.2222222222222222,
              "#7201a8"
             ],
             [
              0.3333333333333333,
              "#9c179e"
             ],
             [
              0.4444444444444444,
              "#bd3786"
             ],
             [
              0.5555555555555556,
              "#d8576b"
             ],
             [
              0.6666666666666666,
              "#ed7953"
             ],
             [
              0.7777777777777778,
              "#fb9f3a"
             ],
             [
              0.8888888888888888,
              "#fdca26"
             ],
             [
              1,
              "#f0f921"
             ]
            ],
            "type": "histogram2d"
           }
          ],
          "histogram2dcontour": [
           {
            "colorbar": {
             "outlinewidth": 0,
             "ticks": ""
            },
            "colorscale": [
             [
              0,
              "#0d0887"
             ],
             [
              0.1111111111111111,
              "#46039f"
             ],
             [
              0.2222222222222222,
              "#7201a8"
             ],
             [
              0.3333333333333333,
              "#9c179e"
             ],
             [
              0.4444444444444444,
              "#bd3786"
             ],
             [
              0.5555555555555556,
              "#d8576b"
             ],
             [
              0.6666666666666666,
              "#ed7953"
             ],
             [
              0.7777777777777778,
              "#fb9f3a"
             ],
             [
              0.8888888888888888,
              "#fdca26"
             ],
             [
              1,
              "#f0f921"
             ]
            ],
            "type": "histogram2dcontour"
           }
          ],
          "mesh3d": [
           {
            "colorbar": {
             "outlinewidth": 0,
             "ticks": ""
            },
            "type": "mesh3d"
           }
          ],
          "parcoords": [
           {
            "line": {
             "colorbar": {
              "outlinewidth": 0,
              "ticks": ""
             }
            },
            "type": "parcoords"
           }
          ],
          "pie": [
           {
            "automargin": true,
            "type": "pie"
           }
          ],
          "scatter": [
           {
            "fillpattern": {
             "fillmode": "overlay",
             "size": 10,
             "solidity": 0.2
            },
            "type": "scatter"
           }
          ],
          "scatter3d": [
           {
            "line": {
             "colorbar": {
              "outlinewidth": 0,
              "ticks": ""
             }
            },
            "marker": {
             "colorbar": {
              "outlinewidth": 0,
              "ticks": ""
             }
            },
            "type": "scatter3d"
           }
          ],
          "scattercarpet": [
           {
            "marker": {
             "colorbar": {
              "outlinewidth": 0,
              "ticks": ""
             }
            },
            "type": "scattercarpet"
           }
          ],
          "scattergeo": [
           {
            "marker": {
             "colorbar": {
              "outlinewidth": 0,
              "ticks": ""
             }
            },
            "type": "scattergeo"
           }
          ],
          "scattergl": [
           {
            "marker": {
             "colorbar": {
              "outlinewidth": 0,
              "ticks": ""
             }
            },
            "type": "scattergl"
           }
          ],
          "scattermapbox": [
           {
            "marker": {
             "colorbar": {
              "outlinewidth": 0,
              "ticks": ""
             }
            },
            "type": "scattermapbox"
           }
          ],
          "scatterpolar": [
           {
            "marker": {
             "colorbar": {
              "outlinewidth": 0,
              "ticks": ""
             }
            },
            "type": "scatterpolar"
           }
          ],
          "scatterpolargl": [
           {
            "marker": {
             "colorbar": {
              "outlinewidth": 0,
              "ticks": ""
             }
            },
            "type": "scatterpolargl"
           }
          ],
          "scatterternary": [
           {
            "marker": {
             "colorbar": {
              "outlinewidth": 0,
              "ticks": ""
             }
            },
            "type": "scatterternary"
           }
          ],
          "surface": [
           {
            "colorbar": {
             "outlinewidth": 0,
             "ticks": ""
            },
            "colorscale": [
             [
              0,
              "#0d0887"
             ],
             [
              0.1111111111111111,
              "#46039f"
             ],
             [
              0.2222222222222222,
              "#7201a8"
             ],
             [
              0.3333333333333333,
              "#9c179e"
             ],
             [
              0.4444444444444444,
              "#bd3786"
             ],
             [
              0.5555555555555556,
              "#d8576b"
             ],
             [
              0.6666666666666666,
              "#ed7953"
             ],
             [
              0.7777777777777778,
              "#fb9f3a"
             ],
             [
              0.8888888888888888,
              "#fdca26"
             ],
             [
              1,
              "#f0f921"
             ]
            ],
            "type": "surface"
           }
          ],
          "table": [
           {
            "cells": {
             "fill": {
              "color": "#EBF0F8"
             },
             "line": {
              "color": "white"
             }
            },
            "header": {
             "fill": {
              "color": "#C8D4E3"
             },
             "line": {
              "color": "white"
             }
            },
            "type": "table"
           }
          ]
         },
         "layout": {
          "annotationdefaults": {
           "arrowcolor": "#2a3f5f",
           "arrowhead": 0,
           "arrowwidth": 1
          },
          "autotypenumbers": "strict",
          "coloraxis": {
           "colorbar": {
            "outlinewidth": 0,
            "ticks": ""
           }
          },
          "colorscale": {
           "diverging": [
            [
             0,
             "#8e0152"
            ],
            [
             0.1,
             "#c51b7d"
            ],
            [
             0.2,
             "#de77ae"
            ],
            [
             0.3,
             "#f1b6da"
            ],
            [
             0.4,
             "#fde0ef"
            ],
            [
             0.5,
             "#f7f7f7"
            ],
            [
             0.6,
             "#e6f5d0"
            ],
            [
             0.7,
             "#b8e186"
            ],
            [
             0.8,
             "#7fbc41"
            ],
            [
             0.9,
             "#4d9221"
            ],
            [
             1,
             "#276419"
            ]
           ],
           "sequential": [
            [
             0,
             "#0d0887"
            ],
            [
             0.1111111111111111,
             "#46039f"
            ],
            [
             0.2222222222222222,
             "#7201a8"
            ],
            [
             0.3333333333333333,
             "#9c179e"
            ],
            [
             0.4444444444444444,
             "#bd3786"
            ],
            [
             0.5555555555555556,
             "#d8576b"
            ],
            [
             0.6666666666666666,
             "#ed7953"
            ],
            [
             0.7777777777777778,
             "#fb9f3a"
            ],
            [
             0.8888888888888888,
             "#fdca26"
            ],
            [
             1,
             "#f0f921"
            ]
           ],
           "sequentialminus": [
            [
             0,
             "#0d0887"
            ],
            [
             0.1111111111111111,
             "#46039f"
            ],
            [
             0.2222222222222222,
             "#7201a8"
            ],
            [
             0.3333333333333333,
             "#9c179e"
            ],
            [
             0.4444444444444444,
             "#bd3786"
            ],
            [
             0.5555555555555556,
             "#d8576b"
            ],
            [
             0.6666666666666666,
             "#ed7953"
            ],
            [
             0.7777777777777778,
             "#fb9f3a"
            ],
            [
             0.8888888888888888,
             "#fdca26"
            ],
            [
             1,
             "#f0f921"
            ]
           ]
          },
          "colorway": [
           "#636efa",
           "#EF553B",
           "#00cc96",
           "#ab63fa",
           "#FFA15A",
           "#19d3f3",
           "#FF6692",
           "#B6E880",
           "#FF97FF",
           "#FECB52"
          ],
          "font": {
           "color": "#2a3f5f"
          },
          "geo": {
           "bgcolor": "white",
           "lakecolor": "white",
           "landcolor": "#E5ECF6",
           "showlakes": true,
           "showland": true,
           "subunitcolor": "white"
          },
          "hoverlabel": {
           "align": "left"
          },
          "hovermode": "closest",
          "mapbox": {
           "style": "light"
          },
          "paper_bgcolor": "white",
          "plot_bgcolor": "#E5ECF6",
          "polar": {
           "angularaxis": {
            "gridcolor": "white",
            "linecolor": "white",
            "ticks": ""
           },
           "bgcolor": "#E5ECF6",
           "radialaxis": {
            "gridcolor": "white",
            "linecolor": "white",
            "ticks": ""
           }
          },
          "scene": {
           "xaxis": {
            "backgroundcolor": "#E5ECF6",
            "gridcolor": "white",
            "gridwidth": 2,
            "linecolor": "white",
            "showbackground": true,
            "ticks": "",
            "zerolinecolor": "white"
           },
           "yaxis": {
            "backgroundcolor": "#E5ECF6",
            "gridcolor": "white",
            "gridwidth": 2,
            "linecolor": "white",
            "showbackground": true,
            "ticks": "",
            "zerolinecolor": "white"
           },
           "zaxis": {
            "backgroundcolor": "#E5ECF6",
            "gridcolor": "white",
            "gridwidth": 2,
            "linecolor": "white",
            "showbackground": true,
            "ticks": "",
            "zerolinecolor": "white"
           }
          },
          "shapedefaults": {
           "line": {
            "color": "#2a3f5f"
           }
          },
          "ternary": {
           "aaxis": {
            "gridcolor": "white",
            "linecolor": "white",
            "ticks": ""
           },
           "baxis": {
            "gridcolor": "white",
            "linecolor": "white",
            "ticks": ""
           },
           "bgcolor": "#E5ECF6",
           "caxis": {
            "gridcolor": "white",
            "linecolor": "white",
            "ticks": ""
           }
          },
          "title": {
           "x": 0.05
          },
          "xaxis": {
           "automargin": true,
           "gridcolor": "white",
           "linecolor": "white",
           "ticks": "",
           "title": {
            "standoff": 15
           },
           "zerolinecolor": "white",
           "zerolinewidth": 2
          },
          "yaxis": {
           "automargin": true,
           "gridcolor": "white",
           "linecolor": "white",
           "ticks": "",
           "title": {
            "standoff": 15
           },
           "zerolinecolor": "white",
           "zerolinewidth": 2
          }
         }
        },
        "title": {
         "font": {
          "color": "#4D5663"
         }
        }
       }
      },
      "text/html": [
       "<div>                            <div id=\"1bd7091e-5b55-45f7-98ef-5ba68269f527\" class=\"plotly-graph-div\" style=\"height:525px; width:100%;\"></div>            <script type=\"text/javascript\">                require([\"plotly\"], function(Plotly) {                    window.PLOTLYENV=window.PLOTLYENV || {};\n",
       "                    window.PLOTLYENV.BASE_URL='https://plot.ly';                                    if (document.getElementById(\"1bd7091e-5b55-45f7-98ef-5ba68269f527\")) {                    Plotly.newPlot(                        \"1bd7091e-5b55-45f7-98ef-5ba68269f527\",                        [{\"marker\":{\"color\":\"rgba(255, 153, 51, 1.0)\",\"line\":{\"width\":1.3},\"opacity\":0.8,\"size\":12,\"symbol\":\"circle\"},\"mode\":\"markers\",\"name\":\"\\u88fd\\u54c11\",\"textfont\":{\"color\":\"#4D5663\"},\"x\":[-8.387699072518666],\"y\":[9.905429227497494],\"z\":[-3.3954345948505544],\"type\":\"scatter3d\"},{\"marker\":{\"color\":\"rgba(55, 128, 191, 1.0)\",\"line\":{\"width\":1.3},\"opacity\":0.8,\"size\":12,\"symbol\":\"circle\"},\"mode\":\"markers\",\"name\":\"\\u88fd\\u54c12\",\"textfont\":{\"color\":\"#4D5663\"},\"x\":[6.5719496284028445],\"y\":[1.8664360203728925],\"z\":[9.237201668448646],\"type\":\"scatter3d\"},{\"marker\":{\"color\":\"rgba(50, 171, 96, 1.0)\",\"line\":{\"width\":1.3},\"opacity\":0.8,\"size\":12,\"symbol\":\"circle\"},\"mode\":\"markers\",\"name\":\"\\u88fd\\u54c13\",\"textfont\":{\"color\":\"#4D5663\"},\"x\":[-12.876206858874115],\"y\":[-8.842423212202418],\"z\":[0.12185509339873735],\"type\":\"scatter3d\"},{\"marker\":{\"color\":\"rgba(128, 0, 128, 1.0)\",\"line\":{\"width\":1.3},\"opacity\":0.8,\"size\":12,\"symbol\":\"circle\"},\"mode\":\"markers\",\"name\":\"\\u88fd\\u54c14\",\"textfont\":{\"color\":\"#4D5663\"},\"x\":[14.691956302989933],\"y\":[-2.929442035667966],\"z\":[-5.96362216699682],\"type\":\"scatter3d\"}],                        {\"legend\":{\"bgcolor\":\"#F5F6F9\",\"font\":{\"color\":\"#4D5663\"}},\"paper_bgcolor\":\"#F5F6F9\",\"plot_bgcolor\":\"#F5F6F9\",\"scene\":{\"xaxis\":{\"gridcolor\":\"#9499A3\",\"showgrid\":true,\"tickfont\":{\"color\":\"#4D5663\"},\"title\":{\"font\":{\"color\":\"#4D5663\"},\"text\":\"\"},\"zerolinecolor\":\"#9499A3\"},\"yaxis\":{\"gridcolor\":\"#9499A3\",\"showgrid\":true,\"tickfont\":{\"color\":\"#4D5663\"},\"title\":{\"font\":{\"color\":\"#4D5663\"},\"text\":\"\"},\"zerolinecolor\":\"#9499A3\"},\"zaxis\":{\"gridcolor\":\"#9499A3\",\"showgrid\":true,\"tickfont\":{\"color\":\"#4D5663\"},\"title\":{\"font\":{\"color\":\"#4D5663\"},\"text\":\"\"},\"zerolinecolor\":\"#9499A3\"}},\"template\":{\"data\":{\"barpolar\":[{\"marker\":{\"line\":{\"color\":\"#E5ECF6\",\"width\":0.5},\"pattern\":{\"fillmode\":\"overlay\",\"size\":10,\"solidity\":0.2}},\"type\":\"barpolar\"}],\"bar\":[{\"error_x\":{\"color\":\"#2a3f5f\"},\"error_y\":{\"color\":\"#2a3f5f\"},\"marker\":{\"line\":{\"color\":\"#E5ECF6\",\"width\":0.5},\"pattern\":{\"fillmode\":\"overlay\",\"size\":10,\"solidity\":0.2}},\"type\":\"bar\"}],\"carpet\":[{\"aaxis\":{\"endlinecolor\":\"#2a3f5f\",\"gridcolor\":\"white\",\"linecolor\":\"white\",\"minorgridcolor\":\"white\",\"startlinecolor\":\"#2a3f5f\"},\"baxis\":{\"endlinecolor\":\"#2a3f5f\",\"gridcolor\":\"white\",\"linecolor\":\"white\",\"minorgridcolor\":\"white\",\"startlinecolor\":\"#2a3f5f\"},\"type\":\"carpet\"}],\"choropleth\":[{\"colorbar\":{\"outlinewidth\":0,\"ticks\":\"\"},\"type\":\"choropleth\"}],\"contourcarpet\":[{\"colorbar\":{\"outlinewidth\":0,\"ticks\":\"\"},\"type\":\"contourcarpet\"}],\"contour\":[{\"colorbar\":{\"outlinewidth\":0,\"ticks\":\"\"},\"colorscale\":[[0.0,\"#0d0887\"],[0.1111111111111111,\"#46039f\"],[0.2222222222222222,\"#7201a8\"],[0.3333333333333333,\"#9c179e\"],[0.4444444444444444,\"#bd3786\"],[0.5555555555555556,\"#d8576b\"],[0.6666666666666666,\"#ed7953\"],[0.7777777777777778,\"#fb9f3a\"],[0.8888888888888888,\"#fdca26\"],[1.0,\"#f0f921\"]],\"type\":\"contour\"}],\"heatmapgl\":[{\"colorbar\":{\"outlinewidth\":0,\"ticks\":\"\"},\"colorscale\":[[0.0,\"#0d0887\"],[0.1111111111111111,\"#46039f\"],[0.2222222222222222,\"#7201a8\"],[0.3333333333333333,\"#9c179e\"],[0.4444444444444444,\"#bd3786\"],[0.5555555555555556,\"#d8576b\"],[0.6666666666666666,\"#ed7953\"],[0.7777777777777778,\"#fb9f3a\"],[0.8888888888888888,\"#fdca26\"],[1.0,\"#f0f921\"]],\"type\":\"heatmapgl\"}],\"heatmap\":[{\"colorbar\":{\"outlinewidth\":0,\"ticks\":\"\"},\"colorscale\":[[0.0,\"#0d0887\"],[0.1111111111111111,\"#46039f\"],[0.2222222222222222,\"#7201a8\"],[0.3333333333333333,\"#9c179e\"],[0.4444444444444444,\"#bd3786\"],[0.5555555555555556,\"#d8576b\"],[0.6666666666666666,\"#ed7953\"],[0.7777777777777778,\"#fb9f3a\"],[0.8888888888888888,\"#fdca26\"],[1.0,\"#f0f921\"]],\"type\":\"heatmap\"}],\"histogram2dcontour\":[{\"colorbar\":{\"outlinewidth\":0,\"ticks\":\"\"},\"colorscale\":[[0.0,\"#0d0887\"],[0.1111111111111111,\"#46039f\"],[0.2222222222222222,\"#7201a8\"],[0.3333333333333333,\"#9c179e\"],[0.4444444444444444,\"#bd3786\"],[0.5555555555555556,\"#d8576b\"],[0.6666666666666666,\"#ed7953\"],[0.7777777777777778,\"#fb9f3a\"],[0.8888888888888888,\"#fdca26\"],[1.0,\"#f0f921\"]],\"type\":\"histogram2dcontour\"}],\"histogram2d\":[{\"colorbar\":{\"outlinewidth\":0,\"ticks\":\"\"},\"colorscale\":[[0.0,\"#0d0887\"],[0.1111111111111111,\"#46039f\"],[0.2222222222222222,\"#7201a8\"],[0.3333333333333333,\"#9c179e\"],[0.4444444444444444,\"#bd3786\"],[0.5555555555555556,\"#d8576b\"],[0.6666666666666666,\"#ed7953\"],[0.7777777777777778,\"#fb9f3a\"],[0.8888888888888888,\"#fdca26\"],[1.0,\"#f0f921\"]],\"type\":\"histogram2d\"}],\"histogram\":[{\"marker\":{\"pattern\":{\"fillmode\":\"overlay\",\"size\":10,\"solidity\":0.2}},\"type\":\"histogram\"}],\"mesh3d\":[{\"colorbar\":{\"outlinewidth\":0,\"ticks\":\"\"},\"type\":\"mesh3d\"}],\"parcoords\":[{\"line\":{\"colorbar\":{\"outlinewidth\":0,\"ticks\":\"\"}},\"type\":\"parcoords\"}],\"pie\":[{\"automargin\":true,\"type\":\"pie\"}],\"scatter3d\":[{\"line\":{\"colorbar\":{\"outlinewidth\":0,\"ticks\":\"\"}},\"marker\":{\"colorbar\":{\"outlinewidth\":0,\"ticks\":\"\"}},\"type\":\"scatter3d\"}],\"scattercarpet\":[{\"marker\":{\"colorbar\":{\"outlinewidth\":0,\"ticks\":\"\"}},\"type\":\"scattercarpet\"}],\"scattergeo\":[{\"marker\":{\"colorbar\":{\"outlinewidth\":0,\"ticks\":\"\"}},\"type\":\"scattergeo\"}],\"scattergl\":[{\"marker\":{\"colorbar\":{\"outlinewidth\":0,\"ticks\":\"\"}},\"type\":\"scattergl\"}],\"scattermapbox\":[{\"marker\":{\"colorbar\":{\"outlinewidth\":0,\"ticks\":\"\"}},\"type\":\"scattermapbox\"}],\"scatterpolargl\":[{\"marker\":{\"colorbar\":{\"outlinewidth\":0,\"ticks\":\"\"}},\"type\":\"scatterpolargl\"}],\"scatterpolar\":[{\"marker\":{\"colorbar\":{\"outlinewidth\":0,\"ticks\":\"\"}},\"type\":\"scatterpolar\"}],\"scatter\":[{\"fillpattern\":{\"fillmode\":\"overlay\",\"size\":10,\"solidity\":0.2},\"type\":\"scatter\"}],\"scatterternary\":[{\"marker\":{\"colorbar\":{\"outlinewidth\":0,\"ticks\":\"\"}},\"type\":\"scatterternary\"}],\"surface\":[{\"colorbar\":{\"outlinewidth\":0,\"ticks\":\"\"},\"colorscale\":[[0.0,\"#0d0887\"],[0.1111111111111111,\"#46039f\"],[0.2222222222222222,\"#7201a8\"],[0.3333333333333333,\"#9c179e\"],[0.4444444444444444,\"#bd3786\"],[0.5555555555555556,\"#d8576b\"],[0.6666666666666666,\"#ed7953\"],[0.7777777777777778,\"#fb9f3a\"],[0.8888888888888888,\"#fdca26\"],[1.0,\"#f0f921\"]],\"type\":\"surface\"}],\"table\":[{\"cells\":{\"fill\":{\"color\":\"#EBF0F8\"},\"line\":{\"color\":\"white\"}},\"header\":{\"fill\":{\"color\":\"#C8D4E3\"},\"line\":{\"color\":\"white\"}},\"type\":\"table\"}]},\"layout\":{\"annotationdefaults\":{\"arrowcolor\":\"#2a3f5f\",\"arrowhead\":0,\"arrowwidth\":1},\"autotypenumbers\":\"strict\",\"coloraxis\":{\"colorbar\":{\"outlinewidth\":0,\"ticks\":\"\"}},\"colorscale\":{\"diverging\":[[0,\"#8e0152\"],[0.1,\"#c51b7d\"],[0.2,\"#de77ae\"],[0.3,\"#f1b6da\"],[0.4,\"#fde0ef\"],[0.5,\"#f7f7f7\"],[0.6,\"#e6f5d0\"],[0.7,\"#b8e186\"],[0.8,\"#7fbc41\"],[0.9,\"#4d9221\"],[1,\"#276419\"]],\"sequential\":[[0.0,\"#0d0887\"],[0.1111111111111111,\"#46039f\"],[0.2222222222222222,\"#7201a8\"],[0.3333333333333333,\"#9c179e\"],[0.4444444444444444,\"#bd3786\"],[0.5555555555555556,\"#d8576b\"],[0.6666666666666666,\"#ed7953\"],[0.7777777777777778,\"#fb9f3a\"],[0.8888888888888888,\"#fdca26\"],[1.0,\"#f0f921\"]],\"sequentialminus\":[[0.0,\"#0d0887\"],[0.1111111111111111,\"#46039f\"],[0.2222222222222222,\"#7201a8\"],[0.3333333333333333,\"#9c179e\"],[0.4444444444444444,\"#bd3786\"],[0.5555555555555556,\"#d8576b\"],[0.6666666666666666,\"#ed7953\"],[0.7777777777777778,\"#fb9f3a\"],[0.8888888888888888,\"#fdca26\"],[1.0,\"#f0f921\"]]},\"colorway\":[\"#636efa\",\"#EF553B\",\"#00cc96\",\"#ab63fa\",\"#FFA15A\",\"#19d3f3\",\"#FF6692\",\"#B6E880\",\"#FF97FF\",\"#FECB52\"],\"font\":{\"color\":\"#2a3f5f\"},\"geo\":{\"bgcolor\":\"white\",\"lakecolor\":\"white\",\"landcolor\":\"#E5ECF6\",\"showlakes\":true,\"showland\":true,\"subunitcolor\":\"white\"},\"hoverlabel\":{\"align\":\"left\"},\"hovermode\":\"closest\",\"mapbox\":{\"style\":\"light\"},\"paper_bgcolor\":\"white\",\"plot_bgcolor\":\"#E5ECF6\",\"polar\":{\"angularaxis\":{\"gridcolor\":\"white\",\"linecolor\":\"white\",\"ticks\":\"\"},\"bgcolor\":\"#E5ECF6\",\"radialaxis\":{\"gridcolor\":\"white\",\"linecolor\":\"white\",\"ticks\":\"\"}},\"scene\":{\"xaxis\":{\"backgroundcolor\":\"#E5ECF6\",\"gridcolor\":\"white\",\"gridwidth\":2,\"linecolor\":\"white\",\"showbackground\":true,\"ticks\":\"\",\"zerolinecolor\":\"white\"},\"yaxis\":{\"backgroundcolor\":\"#E5ECF6\",\"gridcolor\":\"white\",\"gridwidth\":2,\"linecolor\":\"white\",\"showbackground\":true,\"ticks\":\"\",\"zerolinecolor\":\"white\"},\"zaxis\":{\"backgroundcolor\":\"#E5ECF6\",\"gridcolor\":\"white\",\"gridwidth\":2,\"linecolor\":\"white\",\"showbackground\":true,\"ticks\":\"\",\"zerolinecolor\":\"white\"}},\"shapedefaults\":{\"line\":{\"color\":\"#2a3f5f\"}},\"ternary\":{\"aaxis\":{\"gridcolor\":\"white\",\"linecolor\":\"white\",\"ticks\":\"\"},\"baxis\":{\"gridcolor\":\"white\",\"linecolor\":\"white\",\"ticks\":\"\"},\"bgcolor\":\"#E5ECF6\",\"caxis\":{\"gridcolor\":\"white\",\"linecolor\":\"white\",\"ticks\":\"\"}},\"title\":{\"x\":0.05},\"xaxis\":{\"automargin\":true,\"gridcolor\":\"white\",\"linecolor\":\"white\",\"ticks\":\"\",\"title\":{\"standoff\":15},\"zerolinecolor\":\"white\",\"zerolinewidth\":2},\"yaxis\":{\"automargin\":true,\"gridcolor\":\"white\",\"linecolor\":\"white\",\"ticks\":\"\",\"title\":{\"standoff\":15},\"zerolinecolor\":\"white\",\"zerolinewidth\":2}}},\"title\":{\"font\":{\"color\":\"#4D5663\"}}},                        {\"showLink\": true, \"linkText\": \"Export to plot.ly\", \"plotlyServerURL\": \"https://plot.ly\", \"responsive\": true}                    ).then(function(){\n",
       "                            \n",
       "var gd = document.getElementById('1bd7091e-5b55-45f7-98ef-5ba68269f527');\n",
       "var x = new MutationObserver(function (mutations, observer) {{\n",
       "        var display = window.getComputedStyle(gd).display;\n",
       "        if (!display || display === 'none') {{\n",
       "            console.log([gd, 'removed!']);\n",
       "            Plotly.purge(gd);\n",
       "            observer.disconnect();\n",
       "        }}\n",
       "}});\n",
       "\n",
       "// Listen for the removal of the full notebook cells\n",
       "var notebookContainer = gd.closest('#notebook-container');\n",
       "if (notebookContainer) {{\n",
       "    x.observe(notebookContainer, {childList: true});\n",
       "}}\n",
       "\n",
       "// Listen for the clearing of the current output cell\n",
       "var outputEl = gd.closest('.output');\n",
       "if (outputEl) {{\n",
       "    x.observe(outputEl, {childList: true});\n",
       "}}\n",
       "\n",
       "                        })                };                });            </script>        </div>"
      ]
     },
     "metadata": {},
     "output_type": "display_data"
    }
   ],
   "source": [
    "df0 = pd.DataFrame(data=design_policy[:,3,:],index=['製品1', '製品2', '製品3', '製品4'],columns=[\"Fm{}\".format(x + 1) for x in range(len(df_product_definition))])\n",
    "# import seaborn as sns\n",
    "# sns.pairplot(df0)\n",
    "\n",
    "# 主成分分析の実行\n",
    "pca = PCA(n_components=3)\n",
    "x = pca.fit_transform(df0.values)   # PCAで次元圧縮\n",
    "embed3 = pd.DataFrame(x,index=['製品1', '製品2', '製品3', '製品4']) # 可視化のためにデータフレームに変換\n",
    "embed3[\"label\"] = ['製品1', '製品2', '製品3', '製品4']              \n",
    "# embed3  # データフレームの先頭を表示\n",
    "\n",
    "import cufflinks as cf\n",
    "cf.go_offline()\n",
    "cf.set_config_file(offline=False, world_readable=True)\n",
    "embed3.iplot(kind=\"scatter3d\", x=0,y=1,z=2, categories=\"label\")"
   ]
  },
  {
   "cell_type": "code",
   "execution_count": 61,
   "metadata": {},
   "outputs": [],
   "source": [
    "def comb_index(n1, n2):\n",
    "    #-----------------------\n",
    "    # 組み合わせ番号から2つの組み合わせのインデックスを返す\n",
    "    #  n1: 組み合わせ番号\n",
    "    #  n2: インデックスの最大値（1~n2)\n",
    "    #-----------------------\n",
    "\n",
    "    cnt = 0\n",
    "    for i in range(n2):\n",
    "        for j in range(i+1, n2):\n",
    "            cnt += 1\n",
    "            if cnt == n1:\n",
    "\n",
    "                return [i+1, j+1]"
   ]
  },
  {
   "cell_type": "code",
   "execution_count": 62,
   "metadata": {},
   "outputs": [
    {
     "name": "stdout",
     "output_type": "stream",
     "text": [
      "構成部位1, 製品1 x 製品2\n",
      "構成部位1, 製品1 x 製品3\n",
      "構成部位1, 製品1 x 製品4\n",
      "構成部位1, 製品3 x 製品4\n",
      "構成部位2, 製品1 x 製品2\n",
      "構成部位2, 製品1 x 製品3\n",
      "構成部位2, 製品1 x 製品4\n",
      "構成部位2, 製品2 x 製品3\n",
      "構成部位2, 製品2 x 製品4\n",
      "構成部位2, 製品3 x 製品4\n",
      "構成部位3, 製品1 x 製品2\n",
      "構成部位3, 製品2 x 製品4\n",
      "構成部位3, 製品3 x 製品4\n",
      "構成部位4, 製品2 x 製品4\n",
      "構成部位5, 製品1 x 製品2\n",
      "構成部位5, 製品1 x 製品3\n",
      "構成部位5, 製品1 x 製品4\n",
      "構成部位5, 製品2 x 製品4\n",
      "構成部位6, 製品1 x 製品2\n",
      "構成部位6, 製品1 x 製品4\n",
      "構成部位6, 製品2 x 製品4\n",
      "構成部位7, 製品1 x 製品4\n",
      "構成部位7, 製品2 x 製品3\n",
      "構成部位7, 製品2 x 製品4\n",
      "構成部位7, 製品3 x 製品4\n",
      "構成部位8, 製品1 x 製品2\n",
      "構成部位8, 製品2 x 製品3\n",
      "構成部位8, 製品3 x 製品4\n",
      "構成部位9, 製品1 x 製品2\n",
      "構成部位9, 製品3 x 製品4\n",
      "構成部位10, 製品1 x 製品2\n",
      "構成部位10, 製品1 x 製品4\n",
      "構成部位10, 製品2 x 製品3\n",
      "構成部位10, 製品2 x 製品4\n"
     ]
    }
   ],
   "source": [
    "# 構成部位が共通か個別かを判断する染色体の遺伝子座の長さは，(n_pr)_C_2 * n_cp である．ただし，nは製品数．\n",
    "chromosome = np.zeros(math.comb(n_pr, 2) * n_cp, dtype=int)\n",
    "\n",
    "# 遺伝子の初期化ランダム\n",
    "for i, c in enumerate(chromosome):\n",
    "    chromosome[i] = random.randrange(2)\n",
    "\n",
    "for i, c in enumerate(chromosome):\n",
    "    if c == 1:\n",
    "        icp = math.floor(float(i) / math.comb(n_pr, 2))+1\n",
    "        icmb = i % math.comb(n_pr, 2) + 1\n",
    "        iprs = comb_index(icmb,n_pr)\n",
    "        print('構成部位' + str(icp) + ', 製品' + str(iprs[0]) + ' x 製品' + str(iprs[1]))"
   ]
  },
  {
   "cell_type": "code",
   "execution_count": 66,
   "metadata": {},
   "outputs": [],
   "source": [
    "chromosome[1]=0\n",
    "chromosome[2]=0"
   ]
  },
  {
   "cell_type": "code",
   "execution_count": 76,
   "metadata": {},
   "outputs": [
    {
     "data": {
      "text/plain": [
       "[['Cp1', 'Dp1', ['Pr1', 'Pr2']],\n",
       " ['Cp1', 'Dp2', ['Pr1', 'Pr2']],\n",
       " ['Cp1', 'Dp3', ['Pr1', 'Pr2']],\n",
       " ['Cp1', 'Dp1', ['Pr3', 'Pr4']],\n",
       " ['Cp1', 'Dp2', ['Pr3', 'Pr4']],\n",
       " ['Cp1', 'Dp3', ['Pr3', 'Pr4']],\n",
       " ['Cp2', 'Dp4', ['Pr1', 'Pr2', 'Pr4', 'Pr3']],\n",
       " ['Cp2', 'Dp5', ['Pr1', 'Pr2', 'Pr4', 'Pr3']],\n",
       " ['Cp2', 'Dp6', ['Pr1', 'Pr2', 'Pr4', 'Pr3']],\n",
       " ['Cp3', 'Dp7', ['Pr1', 'Pr2', 'Pr4', 'Pr3']],\n",
       " ['Cp3', 'Dp8', ['Pr1', 'Pr2', 'Pr4', 'Pr3']],\n",
       " ['Cp3', 'Dp9', ['Pr1', 'Pr2', 'Pr4', 'Pr3']],\n",
       " ['Cp4', 'Dp10', ['Pr2', 'Pr4']],\n",
       " ['Cp4', 'Dp11', ['Pr2', 'Pr4']],\n",
       " ['Cp4', 'Dp12', ['Pr2', 'Pr4']],\n",
       " ['Cp5', 'Dp13', ['Pr1', 'Pr2', 'Pr4', 'Pr3']],\n",
       " ['Cp6', 'Dp14', ['Pr1', 'Pr2', 'Pr4']],\n",
       " ['Cp6', 'Dp15', ['Pr1', 'Pr2', 'Pr4']],\n",
       " ['Cp7', 'Dp16', ['Pr1', 'Pr2', 'Pr4', 'Pr3']],\n",
       " ['Cp7', 'Dp17', ['Pr1', 'Pr2', 'Pr4', 'Pr3']],\n",
       " ['Cp7', 'Dp16', ['Pr2', 'Pr3']],\n",
       " ['Cp7', 'Dp17', ['Pr2', 'Pr3']],\n",
       " ['Cp8', 'Dp18', ['Pr1', 'Pr2', 'Pr4', 'Pr3']],\n",
       " ['Cp8', 'Dp19', ['Pr1', 'Pr2', 'Pr4', 'Pr3']],\n",
       " ['Cp9', 'Dp20', ['Pr1', 'Pr2']],\n",
       " ['Cp9', 'Dp21', ['Pr1', 'Pr2']],\n",
       " ['Cp9', 'Dp20', ['Pr3', 'Pr4']],\n",
       " ['Cp9', 'Dp21', ['Pr3', 'Pr4']],\n",
       " ['Cp10', 'Dp22', ['Pr1', 'Pr2', 'Pr4', 'Pr3']],\n",
       " ['Cp10', 'Dp23', ['Pr1', 'Pr2', 'Pr4', 'Pr3']]]"
      ]
     },
     "execution_count": 76,
     "metadata": {},
     "output_type": "execute_result"
    }
   ],
   "source": [
    "# 共通化される設計変数を格納する\n",
    "common_dp = []\n",
    "# common_dp2 = []\n",
    "tmp_1 = [] # [構成部位番号, 設計変数番号, [共通化される製品番号(複数)]] <- このリストを作成ための1次元目のリスト\n",
    "tmp_2 = [] # [構成部位番号, 設計変数番号, [共通化される製品番号(複数)]] <- このリストを作成ための2次元目のリスト\n",
    "\n",
    "for i, c in enumerate(chromosome):\n",
    "    if c == 1:\n",
    "        icp = math.floor(float(i) / math.comb(n_pr, 2))+1 # 構成部位番号\n",
    "        icmb = i % math.comb(n_pr, 2) + 1 # 組み合わせ番号（構成部位ごとに繰り返すので）\n",
    "        iprs = comb_index(icmb,n_pr) # [製品i, 製品j]のリスト\n",
    "        prs = ['Pr' + str(iprs[0]), 'Pr' + str(iprs[1])]\n",
    "        # print('構成部位' + str(icp) + ', 製品' + str(iprs[0]) + ' x 製品' + str(iprs[1]))\n",
    "\n",
    "        # 設計変数のループ\n",
    "        for dp in df_dp[df_dp.component_id == 'Cp' + str(icp)]['design_parameter_id']:\n",
    "            \n",
    "            # 既配列で，設計変数が同じ，且つ，製品が同じものがあれば，そこに製品番号を追加する\n",
    "            # なければ，新規に配列を作成して追加する\n",
    "\n",
    "            is_new = True\n",
    "            for j, l1 in enumerate(common_dp):\n",
    "                # 設計変数が同一 且つ 重複する製品番号が存在する場合，そのリストを更新する\n",
    "                if l1[1] == dp and len(set(prs) & set(l1[2])) != 0:\n",
    "                    is_new = False\n",
    "                    # 重複を削除(set)して上書きする\n",
    "                    l1[2] = list(set(prs + l1[2])).copy()\n",
    "                    break\n",
    "                \n",
    "            # 新規作成部分\n",
    "            if is_new:\n",
    "                tmp_1 = []\n",
    "                tmp_1.append('Cp' + str(icp)) # 構成部位番号の追加\n",
    "                tmp_1.append(dp) # 設計変数の追加\n",
    "                tmp_1.append(prs) # 製品組み合わせリストの追加\n",
    "\n",
    "                common_dp.append(tmp_1) \n",
    "\n",
    "            # tmp_1 = []\n",
    "            # tmp_1.append('Cp' + str(icp)) # 構成部位番号の追加\n",
    "            # tmp_1.append(dp) # 設計変数の追加\n",
    "            # tmp_1.append(prs) # 製品組み合わせリストの追加\n",
    "            # common_dp2.append(tmp_1) \n",
    "common_dp\n",
    "\n"
   ]
  },
  {
   "cell_type": "code",
   "execution_count": 77,
   "metadata": {},
   "outputs": [
    {
     "data": {
      "text/plain": [
       "[['Cp1',\n",
       "  'Dp1',\n",
       "  ['Pr1', 'Pr2'],\n",
       "  array([ 5.,  5.,  0.,  0., 21., 21.,  1.,  1.,  1.,  1.,  9.,  9.])],\n",
       " ['Cp1',\n",
       "  'Dp2',\n",
       "  ['Pr1', 'Pr2'],\n",
       "  array([ 5.,  5.,  0.,  0., 21., 21.,  1.,  1.,  1.,  1.,  9.,  9.])],\n",
       " ['Cp1',\n",
       "  'Dp3',\n",
       "  ['Pr1', 'Pr2'],\n",
       "  array([ 5.,  5.,  0.,  0., 21., 21.,  1.,  1.,  1.,  1.,  9.,  9.])],\n",
       " ['Cp1',\n",
       "  'Dp1',\n",
       "  ['Pr3', 'Pr4'],\n",
       "  array([ 1.,  1.,  0.,  0., 15., 15.,  5.,  5.,  5.,  5., 15., 15.])],\n",
       " ['Cp1',\n",
       "  'Dp2',\n",
       "  ['Pr3', 'Pr4'],\n",
       "  array([ 1.,  1.,  0.,  0., 15., 15.,  5.,  5.,  5.,  5., 15., 15.])],\n",
       " ['Cp1',\n",
       "  'Dp3',\n",
       "  ['Pr3', 'Pr4'],\n",
       "  array([ 1.,  1.,  0.,  0., 15., 15.,  5.,  5.,  5.,  5., 15., 15.])],\n",
       " ['Cp2',\n",
       "  'Dp4',\n",
       "  ['Pr1', 'Pr2', 'Pr4', 'Pr3'],\n",
       "  array([9., 3., 6., 6., 6., 6., 3., 3., 3., 3., 0., 0.])],\n",
       " ['Cp2',\n",
       "  'Dp5',\n",
       "  ['Pr1', 'Pr2', 'Pr4', 'Pr3'],\n",
       "  array([9., 3., 6., 6., 6., 6., 3., 3., 3., 3., 0., 0.])],\n",
       " ['Cp2',\n",
       "  'Dp6',\n",
       "  ['Pr1', 'Pr2', 'Pr4', 'Pr3'],\n",
       "  array([9., 3., 6., 6., 6., 6., 3., 3., 3., 3., 0., 0.])],\n",
       " ['Cp3',\n",
       "  'Dp7',\n",
       "  ['Pr1', 'Pr2', 'Pr4', 'Pr3'],\n",
       "  array([3., 3., 6., 6., 6., 6., 0., 0., 0., 0., 0., 0.])],\n",
       " ['Cp3',\n",
       "  'Dp8',\n",
       "  ['Pr1', 'Pr2', 'Pr4', 'Pr3'],\n",
       "  array([3., 3., 6., 6., 6., 6., 0., 0., 0., 0., 0., 0.])],\n",
       " ['Cp3',\n",
       "  'Dp9',\n",
       "  ['Pr1', 'Pr2', 'Pr4', 'Pr3'],\n",
       "  array([3., 3., 6., 6., 6., 6., 0., 0., 0., 0., 0., 0.])],\n",
       " ['Cp4',\n",
       "  'Dp10',\n",
       "  ['Pr2', 'Pr4'],\n",
       "  array([ 1.,  1.,  7.,  7.,  0., 21.,  1.,  1.,  1.,  1., 21.,  0.])],\n",
       " ['Cp4',\n",
       "  'Dp11',\n",
       "  ['Pr2', 'Pr4'],\n",
       "  array([ 1.,  1.,  7.,  7.,  0., 21.,  1.,  1.,  1.,  1., 21.,  0.])],\n",
       " ['Cp4',\n",
       "  'Dp12',\n",
       "  ['Pr2', 'Pr4'],\n",
       "  array([ 1.,  1.,  7.,  7.,  0., 21.,  1.,  1.,  1.,  1., 21.,  0.])],\n",
       " ['Cp5',\n",
       "  'Dp13',\n",
       "  ['Pr1', 'Pr2', 'Pr4', 'Pr3'],\n",
       "  array([3., 3., 6., 6., 0., 6., 3., 3., 3., 3., 0., 0.])],\n",
       " ['Cp6',\n",
       "  'Dp14',\n",
       "  ['Pr1', 'Pr2', 'Pr4'],\n",
       "  array([3.66666667, 3.66666667, 0.        , 0.        , 0.        ,\n",
       "         6.33333333, 0.        , 0.        , 0.        , 0.        ,\n",
       "         0.        , 0.        ])],\n",
       " ['Cp6',\n",
       "  'Dp15',\n",
       "  ['Pr1', 'Pr2', 'Pr4'],\n",
       "  array([3.66666667, 3.66666667, 0.        , 0.        , 0.        ,\n",
       "         6.33333333, 0.        , 0.        , 0.        , 0.        ,\n",
       "         0.        , 0.        ])],\n",
       " ['Cp7',\n",
       "  'Dp16',\n",
       "  ['Pr1', 'Pr2', 'Pr4', 'Pr3'],\n",
       "  array([3., 9., 6., 6., 0., 0., 3., 3., 3., 3., 4., 4.])],\n",
       " ['Cp7',\n",
       "  'Dp17',\n",
       "  ['Pr1', 'Pr2', 'Pr4', 'Pr3'],\n",
       "  array([3., 9., 6., 6., 0., 0., 3., 3., 3., 3., 4., 4.])],\n",
       " ['Cp7',\n",
       "  'Dp16',\n",
       "  ['Pr2', 'Pr3'],\n",
       "  array([1., 3., 7., 7., 0., 0., 5., 5., 5., 5., 3., 3.])],\n",
       " ['Cp7',\n",
       "  'Dp17',\n",
       "  ['Pr2', 'Pr3'],\n",
       "  array([1., 3., 7., 7., 0., 0., 5., 5., 5., 5., 3., 3.])],\n",
       " ['Cp8',\n",
       "  'Dp18',\n",
       "  ['Pr1', 'Pr2', 'Pr4', 'Pr3'],\n",
       "  array([ 3.,  9., 18., 18.,  6.,  6.,  3.,  3.,  3.,  3.,  4.,  4.])],\n",
       " ['Cp8',\n",
       "  'Dp19',\n",
       "  ['Pr1', 'Pr2', 'Pr4', 'Pr3'],\n",
       "  array([ 3.,  9., 18., 18.,  6.,  6.,  3.,  3.,  3.,  3.,  4.,  4.])],\n",
       " ['Cp9',\n",
       "  'Dp20',\n",
       "  ['Pr1', 'Pr2'],\n",
       "  array([5., 5., 7., 7., 7., 7., 0., 0., 0., 0., 3., 3.])],\n",
       " ['Cp9',\n",
       "  'Dp21',\n",
       "  ['Pr1', 'Pr2'],\n",
       "  array([5., 5., 7., 7., 7., 7., 0., 0., 0., 0., 3., 3.])],\n",
       " ['Cp9',\n",
       "  'Dp20',\n",
       "  ['Pr3', 'Pr4'],\n",
       "  array([1., 1., 5., 5., 5., 5., 0., 0., 0., 0., 5., 5.])],\n",
       " ['Cp9',\n",
       "  'Dp21',\n",
       "  ['Pr3', 'Pr4'],\n",
       "  array([1., 1., 5., 5., 5., 5., 0., 0., 0., 0., 5., 5.])],\n",
       " ['Cp10',\n",
       "  'Dp22',\n",
       "  ['Pr1', 'Pr2', 'Pr4', 'Pr3'],\n",
       "  array([3., 3., 6., 6., 0., 0., 3., 3., 3., 3., 4., 4.])],\n",
       " ['Cp10',\n",
       "  'Dp23',\n",
       "  ['Pr1', 'Pr2', 'Pr4', 'Pr3'],\n",
       "  array([3., 3., 6., 6., 0., 0., 3., 3., 3., 3., 4., 4.])]]"
      ]
     },
     "execution_count": 77,
     "metadata": {},
     "output_type": "execute_result"
    }
   ],
   "source": [
    "# 重心ベクトルを算出してcomon_dpに追加\n",
    "for l in common_dp:\n",
    "    idp = int(l[1].replace('Dp','')) - 1\n",
    "\n",
    "    # 共通化される製品番号を抽出する\n",
    "    iprs_common = [int(s.replace('Pr',''))-1 for s in l[2]]\n",
    "    icp = int(l[0].replace('Cp',''))-1\n",
    "    design_policy_center = np.average(design_policy[iprs_common, icp, :], axis=0)\n",
    "    l.append(design_policy_center)\n",
    "common_dp"
   ]
  },
  {
   "cell_type": "code",
   "execution_count": 94,
   "metadata": {},
   "outputs": [
    {
     "name": "stdout",
     "output_type": "stream",
     "text": [
      "総妥協度:2210.0\n"
     ]
    }
   ],
   "source": [
    "# 妥協ベクトルの算出（1パターン分を格納）\n",
    "compromise = np.zeros((len(df_product_definition.columns)-2, len(df_product_model.columns)-1, len(df_product_definition)))\n",
    "\n",
    "# ipr:製品，idp:設計変数，ifm:機能尺度\n",
    "for idp in range(n_dp):\n",
    "    for ipr in range(n_pr):\n",
    "\n",
    "        is_common = False\n",
    "        for l in common_dp:\n",
    "            iprs_common = [int(s.replace('Pr','')) - 1 for s in l[2]]\n",
    "\n",
    "            # 共通化される組み合わせの場合\n",
    "            if ipr in iprs_common:\n",
    "                is_common = True\n",
    "                \n",
    "                # 機能尺度が，妥協しているもののみ，差分算出する\n",
    "                for ifm in range(n_fm):\n",
    "                    if design_policy[ipr,idp,ifm] > l[3][ifm]:\n",
    "                        compromise[ipr,idp,ifm] = design_policy[ipr,idp,ifm] - l[3][ifm] #たぶんいけるはず？\n",
    "                    else:\n",
    "                        compromise[ipr,idp,ifm] = 0\n",
    "                break\n",
    "\n",
    "        # 共通化されない組み合わせの場合\n",
    "        if is_common == False:\n",
    "            compromise[ipr,idp,:] = 0\n",
    "\n",
    "total_compromise_degree = np.sum(compromise)\n",
    "print('総妥協度:' + str(total_compromise_degree))"
   ]
  },
  {
   "cell_type": "code",
   "execution_count": 40,
   "metadata": {},
   "outputs": [
    {
     "name": "stdout",
     "output_type": "stream",
     "text": [
      "[ 9.  9.  0.  0. 15. 15.  1.  1.  1.  1.  3.  3.]\n",
      "[ 1.  1.  0.  0. 27. 27.  1.  1.  1.  1. 15. 15.]\n",
      "[[ 9.  9.  0.  0. 15. 15.  1.  1.  1.  1.  3.  3.]\n",
      " [ 1.  1.  0.  0. 27. 27.  1.  1.  1.  1. 15. 15.]\n",
      " [ 1.  1.  0.  0. 15. 15.  9.  9.  9.  9.  3.  3.]\n",
      " [ 1.  1.  0.  0. 15. 15.  1.  1.  1.  1. 27. 27.]]\n",
      "[ 3.  3.  0.  0. 18. 18.  3.  3.  3.  3. 12. 12.]\n"
     ]
    }
   ],
   "source": [
    "print(design_policy[0,0,:])\n",
    "print(design_policy[1,0,:])\n",
    "print(design_policy[[0,1,2,3],0,:])\n",
    "tmp = [0,1,2,3]\n",
    "print(np.average(design_policy[tmp,0,:], axis=0))\n"
   ]
  },
  {
   "attachments": {},
   "cell_type": "markdown",
   "metadata": {},
   "source": [
    "# DSM関数"
   ]
  },
  {
   "attachments": {},
   "cell_type": "markdown",
   "metadata": {},
   "source": [
    "## 共通"
   ]
  },
  {
   "cell_type": "code",
   "execution_count": 2,
   "metadata": {},
   "outputs": [],
   "source": [
    "# class Common():\n",
    "#     def __init__(self):\n",
    "#         print(\"\")\n",
    "\n",
    "def sort_matrix_row(matrix, idx):\n",
    "    #-----------------------\n",
    "    # 行方向に降順に並び替える\n",
    "    # matrix: numpy array型\n",
    "    # idx: 固定する列インデックス\n",
    "    #-----------------------\n",
    "    \n",
    "    rtn = matrix.copy()\n",
    "\n",
    "    # Quickソートで昇順に並び替え\n",
    "    for ir1, mr1 in enumerate(rtn):\n",
    "        for ir2, mr2 in enumerate(rtn):\n",
    "            \n",
    "            if ir2 > ir1 and rtn[ir1, idx] < rtn[ir2, idx]:\n",
    "                swap = rtn[ir1, :].copy()\n",
    "                rtn[ir1, :] = rtn[ir2, :].copy()\n",
    "                rtn[ir2, :] = swap.copy()\n",
    "    return rtn\n",
    "\n",
    "def convert_1d_to_2d(l, cols):\n",
    "    return [l[i:i + cols] for i in range(0, len(l), cols)]\n"
   ]
  },
  {
   "attachments": {},
   "cell_type": "markdown",
   "metadata": {},
   "source": [
    "## MDL法"
   ]
  },
  {
   "cell_type": "code",
   "execution_count": 3,
   "metadata": {},
   "outputs": [],
   "source": [
    "class GeneticAlgorithm():\n",
    "    def __init__(self, l):\n",
    "        self.chromosome = np.zeros(l,dtype=int)\n",
    "        self.evaluation = 0.0\n",
    "        self.create_chromosome()\n",
    "\n",
    "    # 染色体をランダムに初期化\n",
    "    def create_chromosome(self):\n",
    "        for i, c in enumerate(self.chromosome):\n",
    "            self.chromosome[i] = random.randrange(2)\n",
    "        return\n",
    "\n",
    "    # 突然変異\n",
    "    def mutation(self, pm):\n",
    "        for i, c in enumerate(self.chromosome):\n",
    "            if random.random() < pm:\n",
    "                self.chromosome[i] = 1 - c\n",
    "        return                \n",
    "\n",
    "    # 評価\n",
    "    def evaluate(self, dsm, alpha, beta):\n",
    "\n",
    "        # クラスター数の算出，要素のリストアップ\n",
    "        elms_in_cls = []\n",
    "        elms_in_cl = []\n",
    "        n_cluster = 0\n",
    "        for i, g in enumerate(self.chromosome):\n",
    "            ic = 1 + math.floor(i / len(dsm))\n",
    "            ind = i % len(dsm)\n",
    "            if g == 1:\n",
    "                elms_in_cl.append(ind)\n",
    "                n_cluster = ic\n",
    "\n",
    "            if (i + 1) % len(dsm) == 0:\n",
    "                elms_in_cls.append(elms_in_cl)\n",
    "                elms_in_cl = []\n",
    "\n",
    "        nelms_in_cls = sum(len(v) for v in elms_in_cls)\n",
    "\n",
    "        # 理想的なDSMの作成\n",
    "        dsm_ideal = np.zeros((len(dsm), len(dsm)))\n",
    "        for elms in elms_in_cls:\n",
    "            for elm1 in elms:\n",
    "                for elm2 in elms:\n",
    "                    #elm1==elm2を除けば，対角は0になる\n",
    "                    dsm_ideal[elm1, elm2] = 1\n",
    "\n",
    "        # s1とs2の算出\n",
    "        s1 = 0\n",
    "        s2 = 0\n",
    "        for i, d in enumerate(dsm_ideal):\n",
    "            for j, e in enumerate(d):\n",
    "                if i != j:\n",
    "                    if dsm[i, j] < dsm_ideal[i, j]:\n",
    "                        s1 += dsm_ideal[i,j] - dsm[i, j]\n",
    "                    elif dsm[i, j] > dsm_ideal[i, j]:\n",
    "                        s2 += dsm[i, j] - dsm_ideal[i, j]\n",
    "\n",
    "        self.evaluation = \\\n",
    "            (1.0 - alpha - beta) * (n_cluster * math.log2(len(dsm)) + math.log2(len(dsm)) * nelms_in_cls) \\\n",
    "            + alpha * s1 * (2.0 * math.log2(len(dsm)) + 1.0) \\\n",
    "            + beta * s2 * (2.0 * math.log2(len(dsm)) + 1.0)\n",
    "\n",
    "        return\n"
   ]
  },
  {
   "cell_type": "code",
   "execution_count": 4,
   "metadata": {},
   "outputs": [],
   "source": [
    "class MinimumDescriptionLength():\n",
    "\n",
    "    def __init__(self, elms, values, pc, pm, lmbd, mu, alpha, beta, c_max, nrep):\n",
    "        self.label = elms\n",
    "        self.dsm = values\n",
    "\n",
    "        self.pc = int(pc)\n",
    "        self.pm = float(pm)\n",
    "        self.lmbd = int(lmbd)\n",
    "        self.mu = int(mu)\n",
    "        self.alpha = float(alpha)\n",
    "        self.beta = float(beta)\n",
    "        self.c_max = int(c_max)\n",
    "        self.nrep = int(nrep)\n",
    "        \n",
    "    def crossover(self, gas):\n",
    "        ga_child1 = GeneticAlgorithm(len(self.label)*self.c_max)\n",
    "        ga_child2 = GeneticAlgorithm(len(self.label)*self.c_max)\n",
    "        ga_child1.chromosome = gas[0].chromosome.copy()\n",
    "        ga_child2.chromosome = gas[1].chromosome.copy()\n",
    "\n",
    "        for i, c1 in enumerate(ga_child1.chromosome):\n",
    "            if np.random.rand() < 0.5:\n",
    "                ga_child1.chromosome[i] = ga_child2.chromosome[i]\n",
    "                ga_child2.chromosome[i] = c1\n",
    "\n",
    "        return [ga_child1, ga_child2]     \n",
    "\n",
    "    def select_elite(self, gas):\n",
    "\n",
    "        # 並び替え用のデータフレームを作成\n",
    "        l1 = []\n",
    "        l2 = []\n",
    "        for i, ga in enumerate(gas):\n",
    "            l1.append(i)\n",
    "            l2.append(ga.evaluation)\n",
    "        df = pd.DataFrame(zip(l1,l2), columns=['key', 'value'])            \n",
    "        df_s = df.sort_values('value') # 評価値の低い順にソート\n",
    "\n",
    "        # 評価の良い順に格納\n",
    "        selected_generations = []\n",
    "        cnt = 0\n",
    "        for index, row in df_s.iterrows():\n",
    "            selected_generations.append(gas[int(row['key'])])\n",
    "            cnt += 1\n",
    "            if cnt >= self.lmbd:\n",
    "                break\n",
    "\n",
    "        return selected_generations\n",
    "\n",
    "    def main(self):\n",
    "        # 初期個体\n",
    "        current_generations = [GeneticAlgorithm(len(self.label)*self.c_max) for i in range(self.lmbd)]\n",
    "\n",
    "        # 初期個体の適応度計算\n",
    "        for ga in current_generations:\n",
    "            ga.evaluate(self.dsm, self.alpha, self.beta)\n",
    "        \n",
    "        # 評価履歴格納用\n",
    "        evaluation_min = []\n",
    "        evaluation_max = []\n",
    "        evaluation_ave = []\n",
    "\n",
    "        # 反復\n",
    "        for irep in range(self.nrep):\n",
    "\n",
    "            # 一様交叉\n",
    "            if random.random() < self.pc:\n",
    "                \n",
    "                # 交叉するすべての組み合わせを設定\n",
    "                ga_pairs = []\n",
    "                for ga_pair in itertools.combinations(current_generations, 2):\n",
    "                    ga_pairs.append(ga_pair)\n",
    "\n",
    "                # すべての組み合わせからmu/2個選定\n",
    "                ga_pairs_selected = random.sample(ga_pairs, int(self.mu/2))\n",
    "\n",
    "                # 交叉\n",
    "                progeny_generations = []\n",
    "                for ga_pair in ga_pairs_selected: # pairはタプル\n",
    "                    # print(ga_pair[0].chromosome)\n",
    "                    progeny_generations.extend(self.crossover(ga_pair))\n",
    "\n",
    "            for ga in progeny_generations:\n",
    "                # 突然変異\n",
    "                ga.mutation(self.pm)\n",
    "    \n",
    "                # 適応度計算\n",
    "                ga.evaluate(self.dsm, self.alpha, self.beta)\n",
    "\n",
    "            # 現役世代と次世代を格納した変数の設定\n",
    "            tmp_generations = current_generations + progeny_generations\n",
    "\n",
    "            # エリート選択（淘汰）\n",
    "            current_generations = self.select_elite(tmp_generations)\n",
    "            \n",
    "            # 評価履歴格納\n",
    "            cnt = 0\n",
    "            tmp_min = 10000000\n",
    "            tmp_max = 0\n",
    "            tmp_ave = 0\n",
    "            for ga in current_generations:\n",
    "                if ga.evaluation <= tmp_min:\n",
    "                    tmp_min = ga.evaluation\n",
    "                    ga_best = ga\n",
    "                if ga.evaluation >= tmp_max:\n",
    "                    tmp_max = ga.evaluation\n",
    "                tmp_ave = tmp_ave + ga.evaluation\n",
    "                cnt += 1\n",
    "            tmp_ave = tmp_ave / cnt\n",
    "            evaluation_min.append(tmp_min)\n",
    "            evaluation_max.append(tmp_max)\n",
    "            evaluation_ave.append(tmp_ave)\n",
    "\n",
    "            # 表示\n",
    "            if irep % 10 == 0:\n",
    "                print(\"----- 第\" + str(irep) + \"世代の結果 -----\")\n",
    "                print(\"  Min:\" + str(tmp_min))\n",
    "                print(\"  Max:\" + str(tmp_max))\n",
    "                print(\"  Avg:\" + str(tmp_ave))\n",
    "\n",
    "\n",
    "        # 出力\n",
    "        os.makedirs('./out', exist_ok=True)\n",
    "        now = datetime.datetime.now().strftime(r'%Y%m%d_%H%M%S') # 現在時刻を年月曜日で表示\n",
    "        \n",
    "        with open('./out/mdl_param_' + now + '.csv', 'wt', encoding='utf-8') as f:\n",
    "            # ライター（書き込み者）を作成\n",
    "            writer = csv.writer(f)\n",
    "            # ライターでデータ（リスト）をファイルに出力\n",
    "            writer.writerow(['pc', self.pc])\n",
    "            writer.writerow(['pm', self.pm])\n",
    "            writer.writerow(['lmbd', self.lmbd])\n",
    "            writer.writerow(['mu', self.mu])\n",
    "            writer.writerow(['alpha', self.alpha])\n",
    "            writer.writerow(['beta', self.beta])\n",
    "            writer.writerow(['c_max', self.c_max])\n",
    "            writer.writerow(['nrep', self.nrep])\n",
    "            \n",
    "        df_cost_log = pd.DataFrame(zip(evaluation_min,evaluation_max,evaluation_ave), columns=['min','max','average'])\n",
    "        df_cost_log.to_csv('./out/mdl_cost_' + now + '.csv', sep=',', header=True, index=True, encoding='utf-8')\n",
    "        plt.figure()\n",
    "        df_cost_log.plot()\n",
    "        plt.savefig('./out/mdl_cost_' + now + '.png')\n",
    "        plt.close('all')\n",
    "\n",
    "        # 再配列\n",
    "        # !!!! 未実装 !!!!!\n",
    "\n",
    "        # 出力\n",
    "        with open('./out/mdl_chromosomes_' + now + '.csv', 'wt', encoding='utf-8') as f:\n",
    "            # ライター（書き込み者）を作成\n",
    "            writer = csv.writer(f)\n",
    "            # ライターでデータ（リスト）をファイルに出力\n",
    "            for ga in current_generations:\n",
    "                writer.writerow(ga.chromosome)\n",
    "\n",
    "        best_chromosome = convert_1d_to_2d(ga_best.chromosome, len(self.label))\n",
    "        df_cluster_matrix = pd.DataFrame(best_chromosome, columns=self.label)\n",
    "        df_cluster_matrix.to_csv('./out/mdl_best_cluster_matrix_' + now + '.csv', sep=',', header=True, index=True, encoding='utf-8')\n",
    "\n",
    "        return\n",
    "    "
   ]
  },
  {
   "cell_type": "code",
   "execution_count": 5,
   "metadata": {},
   "outputs": [
    {
     "name": "stdout",
     "output_type": "stream",
     "text": [
      "[[1. 1. 1. 0. 0.]\n",
      " [1. 1. 1. 0. 0.]\n",
      " [1. 1. 1. 0. 0.]\n",
      " [0. 0. 0. 1. 1.]\n",
      " [0. 0. 0. 1. 1.]]\n",
      "----- 第0世代の結果 -----\n",
      "  Min:5.526188865831921\n",
      "  Max:24.150914292088512\n",
      "  Avg:20.225609064212744\n",
      "----- 第10世代の結果 -----\n",
      "  Min:5.526188865831921\n",
      "  Max:5.526188865831921\n",
      "  Avg:5.526188865831915\n",
      "----- 第20世代の結果 -----\n",
      "  Min:5.526188865831921\n",
      "  Max:5.526188865831921\n",
      "  Avg:5.526188865831915\n",
      "----- 第30世代の結果 -----\n",
      "  Min:5.526188865831921\n",
      "  Max:5.526188865831921\n",
      "  Avg:5.526188865831915\n",
      "----- 第40世代の結果 -----\n",
      "  Min:5.526188865831921\n",
      "  Max:5.526188865831921\n",
      "  Avg:5.526188865831915\n",
      "----- 第50世代の結果 -----\n",
      "  Min:5.526188865831921\n",
      "  Max:5.526188865831921\n",
      "  Avg:5.526188865831915\n",
      "----- 第60世代の結果 -----\n",
      "  Min:5.526188865831921\n",
      "  Max:5.526188865831921\n",
      "  Avg:5.526188865831915\n",
      "----- 第70世代の結果 -----\n",
      "  Min:5.526188865831921\n",
      "  Max:5.526188865831921\n",
      "  Avg:5.526188865831915\n",
      "----- 第80世代の結果 -----\n",
      "  Min:5.526188865831921\n",
      "  Max:5.526188865831921\n",
      "  Avg:5.526188865831915\n",
      "----- 第90世代の結果 -----\n",
      "  Min:5.526188865831921\n",
      "  Max:5.526188865831921\n",
      "  Avg:5.526188865831915\n",
      "----- 第100世代の結果 -----\n",
      "  Min:5.526188865831921\n",
      "  Max:5.526188865831921\n",
      "  Avg:5.526188865831915\n",
      "----- 第110世代の結果 -----\n",
      "  Min:5.526188865831921\n",
      "  Max:5.526188865831921\n",
      "  Avg:5.526188865831915\n",
      "----- 第120世代の結果 -----\n",
      "  Min:5.526188865831921\n",
      "  Max:5.526188865831921\n",
      "  Avg:5.526188865831915\n",
      "----- 第130世代の結果 -----\n",
      "  Min:5.526188865831921\n",
      "  Max:5.526188865831921\n",
      "  Avg:5.526188865831915\n",
      "----- 第140世代の結果 -----\n",
      "  Min:5.526188865831921\n",
      "  Max:5.526188865831921\n",
      "  Avg:5.526188865831915\n",
      "----- 第150世代の結果 -----\n",
      "  Min:5.526188865831921\n",
      "  Max:5.526188865831921\n",
      "  Avg:5.526188865831915\n",
      "----- 第160世代の結果 -----\n",
      "  Min:5.526188865831921\n",
      "  Max:5.526188865831921\n",
      "  Avg:5.526188865831915\n",
      "----- 第170世代の結果 -----\n",
      "  Min:5.526188865831921\n",
      "  Max:5.526188865831921\n",
      "  Avg:5.526188865831915\n",
      "----- 第180世代の結果 -----\n",
      "  Min:5.526188865831921\n",
      "  Max:5.526188865831921\n",
      "  Avg:5.526188865831915\n",
      "----- 第190世代の結果 -----\n",
      "  Min:5.526188865831921\n",
      "  Max:5.526188865831921\n",
      "  Avg:5.526188865831915\n",
      "----- 第200世代の結果 -----\n",
      "  Min:5.526188865831921\n",
      "  Max:5.526188865831921\n",
      "  Avg:5.526188865831915\n",
      "----- 第210世代の結果 -----\n",
      "  Min:5.526188865831921\n",
      "  Max:5.526188865831921\n",
      "  Avg:5.526188865831915\n",
      "----- 第220世代の結果 -----\n",
      "  Min:5.526188865831921\n",
      "  Max:5.526188865831921\n",
      "  Avg:5.526188865831915\n",
      "----- 第230世代の結果 -----\n",
      "  Min:5.526188865831921\n",
      "  Max:5.526188865831921\n",
      "  Avg:5.526188865831915\n",
      "----- 第240世代の結果 -----\n",
      "  Min:5.526188865831921\n",
      "  Max:5.526188865831921\n",
      "  Avg:5.526188865831915\n",
      "----- 第250世代の結果 -----\n",
      "  Min:5.526188865831921\n",
      "  Max:5.526188865831921\n",
      "  Avg:5.526188865831915\n",
      "----- 第260世代の結果 -----\n",
      "  Min:5.526188865831921\n",
      "  Max:5.526188865831921\n",
      "  Avg:5.526188865831915\n",
      "----- 第270世代の結果 -----\n",
      "  Min:5.526188865831921\n",
      "  Max:5.526188865831921\n",
      "  Avg:5.526188865831915\n",
      "----- 第280世代の結果 -----\n",
      "  Min:5.526188865831921\n",
      "  Max:5.526188865831921\n",
      "  Avg:5.526188865831915\n",
      "----- 第290世代の結果 -----\n",
      "  Min:5.526188865831921\n",
      "  Max:5.526188865831921\n",
      "  Avg:5.526188865831915\n"
     ]
    }
   ],
   "source": [
    "values = np.eye(5, 5)\n",
    "values[0,1] = 1\n",
    "values[1,0] = 1\n",
    "values[0,2] = 1\n",
    "values[2,0] = 1\n",
    "values[1,2] = 1\n",
    "values[2,1] = 1\n",
    "values[3,4] = 1\n",
    "values[4,3] = 1\n",
    "print(values)\n",
    "elms = ['要素A','要素B','要素C','要素D','要素E']\n",
    "\n",
    "df_test = pd.DataFrame(values, columns=elms, index=elms)\n",
    "# df_test\n",
    "\n",
    "\n",
    "mdl = MinimumDescriptionLength(elms, values, 1, 0.03, 100, 100, 0.33, 0.33, 2, 300)\n",
    "mdl.main()\n"
   ]
  },
  {
   "cell_type": "code",
   "execution_count": 6,
   "metadata": {},
   "outputs": [
    {
     "name": "stdout",
     "output_type": "stream",
     "text": [
      "[1, 2, 3]\n",
      "[1, 2, 3]\n",
      "[1, 2, 3]\n",
      "[1, 2]\n"
     ]
    }
   ],
   "source": [
    "class Test(): \n",
    "\n",
    "    def __init__(self):\n",
    "        self.a = 10\n",
    "        self.b = [1,2]\n",
    "    def change(self):\n",
    "        self.a = 11\n",
    "    def copy(self):\n",
    "        return self\n",
    "    \n",
    "t1 = Test()\n",
    "t2 = t1\n",
    "t3 = copy.copy(t1)\n",
    "t4 = copy.deepcopy(t1)\n",
    "t1.a = 11\n",
    "t1.b.append(3)\n",
    "print(t1.b)\n",
    "print(t2.b)\n",
    "print(t3.b)\n",
    "print(t4.b)\n",
    "# l = [Test(), Test()]\n",
    "\n",
    "# print(l[0].a)\n",
    "\n",
    "# for l1 in l:\n",
    "#     l1.a = 11\n",
    "#     # l1.change()\n",
    "\n",
    "# print(l[0].a)\n"
   ]
  },
  {
   "attachments": {},
   "cell_type": "markdown",
   "metadata": {},
   "source": [
    "## TCC法"
   ]
  },
  {
   "cell_type": "code",
   "execution_count": 7,
   "metadata": {},
   "outputs": [],
   "source": [
    "class TotalCoordinationCost(): \n",
    "\n",
    "    def __init__(self, elms, values, npow_cc=1, npow_bid=0, npow_dep=1, nrand_accept=30, ntimes=5):\n",
    "        self.label = elms\n",
    "        self.dsm = values\n",
    "        \n",
    "        self.npow_cc = float(npow_cc)\n",
    "        self.npow_bid = float(npow_bid)\n",
    "        self.npow_dep = float(npow_dep)\n",
    "        self.nrand_accept = int(nrand_accept)\n",
    "        self.ntimes = int(ntimes)\n",
    "        \n",
    "        self.cluster_matrix = np.eye(len(self.label))\n",
    "        self.cost = self.total_coordination_cost()\n",
    "\n",
    "        self.cost_log = np.zeros(self.ntimes * len(self.label))\n",
    "\n",
    "        self.label_ordered = self.label.copy()\n",
    "        self.dsm_ordered = self.dsm.copy()\n",
    "        self.cluster_matrix_ordered = np.eye(len(self.label))\n",
    "        # embed()\n",
    "\n",
    "\n",
    "    def find_elements_in_cluster(self, matrix, no_key, idx, is_row):\n",
    "        # ====================================================\n",
    "        # 指定の値(key)に等しい要素の行番号/列番号を配列で返す関数\n",
    "        #  no_key    : 含まない値\n",
    "        #  idx       : 調査対象の行もしくは列\n",
    "        #  is_row    : idxは行か列か（True:行,false:列)\n",
    "        # ====================================================\n",
    "        elements_ids = []\n",
    "\n",
    "        if is_row == False:\n",
    "            for ir in range(0,len(self.label)):\n",
    "                if matrix[ir, idx] != no_key:\n",
    "                    elements_ids.append(ir)\n",
    "        else:\n",
    "            for ic in range(0,len(self.label)):\n",
    "                if matrix[idx, ic] != no_key:\n",
    "                    elements_ids.append(ic)\n",
    "\n",
    "        return elements_ids\n",
    "\n",
    "    def cluster_bid(self, element_id):\n",
    "        best_cluster_id = -1\n",
    "        best_bid = -1\n",
    "\n",
    "        for icl in range(0, len(self.label)):\n",
    "            \n",
    "            # i番目のクラスターに属する要素のリストを作成\n",
    "            elms_in_cluster = self.find_elements_in_cluster(self.cluster_matrix ,0, icl, True)\n",
    "\n",
    "            if len(elms_in_cluster) > 0:\n",
    "                bid = 0\n",
    "                for i, elm in enumerate(elms_in_cluster):\n",
    "                    #!!!! 要検討 2校目を追加したが正しいか？ !!!! \n",
    "                    bid += self.dsm[element_id, elm] + self.dsm[elm, element_id] #2項目追加\n",
    "\n",
    "                bid = (bid ** self.npow_dep) / (len(elms_in_cluster) ** self.npow_bid)\n",
    "\n",
    "                if bid > best_bid:\n",
    "                    best_bid = bid\n",
    "                    best_cluster_id = icl\n",
    "                    \n",
    "        return best_cluster_id\n",
    "\n",
    "    def total_coordination_cost(self):\n",
    "        intra_cost = 0.0\n",
    "        extra_cost = 0.0\n",
    "        \n",
    "        for i in range(0, len(self.label)):\n",
    "            # ここはVBAから変更した．重複がないようにiとjで．\n",
    "            for j in range(i + 1, len(self.label)):\n",
    "            # for j in range(0, len(self.label)):\n",
    "                cluster_ofi = self.find_elements_in_cluster(self.cluster_matrix, 0, i, False)\n",
    "                cluster_ofj = self.find_elements_in_cluster(self.cluster_matrix, 0, j, False)\n",
    "\n",
    "                if len(cluster_ofi) > 0 and len(cluster_ofj) > 0:\n",
    "                    cost = self.dsm[i, j] + self.dsm[j,i]\n",
    "\n",
    "                    if cluster_ofi == cluster_ofj:\n",
    "                        intra_cost += cost * (len(cluster_ofi) ** self.npow_cc)\n",
    "                    else:\n",
    "                        extra_cost += cost * (len(self.label) ** self.npow_cc)\n",
    "                else:\n",
    "                    print(\"まだ未対応\")\n",
    "                    embed()\n",
    "\n",
    "        return intra_cost + extra_cost\n",
    "\n",
    "    def reorder_cluster_DSM(self):\n",
    "\n",
    "        # 1. 並び替え用のクラスターマトリクスを作成\n",
    "        # (1) クラスターマトリクスに，クラスターの属する個数を併記(@ゼロ列目)した配列\n",
    "        cluster_matrix_tmp = np.zeros((len(self.label), len(self.label) + 1))\n",
    "        for i, ci in enumerate(self.cluster_matrix):\n",
    "            for j, cij in enumerate(ci):\n",
    "                cluster_matrix_tmp[i, 0] += cij\n",
    "                cluster_matrix_tmp[i, j + 1] = cij\n",
    "\n",
    "        # (2) 並び替え用の配列の０列目を基準に並び替え\n",
    "        cluster_matrix_tmp = sort_matrix_row(cluster_matrix_tmp, 0)\n",
    "\n",
    "        # (3) 並び替え後のクラスターマトリクス\n",
    "        self.cluster_matrix_ordered[:,:] = cluster_matrix_tmp[:,1:].copy()\n",
    "\n",
    "        elms_order = []\n",
    "        for icl in range(0, len(self.label)):\n",
    "            elms_order.extend(self.find_elements_in_cluster(self.cluster_matrix_ordered, 0, icl, True)) #icl行目の0でない値の列番号を取ってくる．\n",
    "\n",
    "        # 2. 並び替え後のラベル\n",
    "        self.label_ordered = [self.label[i] for i in elms_order]\n",
    "\n",
    "        # 3. 並び替え後のDSM\n",
    "        rep = np.zeros((len(self.label), len(self.label)))\n",
    "        eigen_mat = np.eye(len(self.label))\n",
    "        for i in range(len(self.label)):\n",
    "            for j in range(len(self.label)):\n",
    "                rep[i, j] = eigen_mat[elms_order[i],j]\n",
    "        self.dsm_ordered = np.dot(np.dot(rep, self.dsm), rep.T)\n",
    "\n",
    "        return\n",
    "\n",
    "    def main(self):\n",
    "\n",
    "        for i, cost in enumerate(self.cost_log):\n",
    "            pre_cluster_matrix = self.cluster_matrix\n",
    "            \n",
    "            # ランダムに選んだ要素に対して，ベストなクラスターidを算出する\n",
    "            element_id = random.randrange(0, len(self.label))\n",
    "            best_cluster_id = self.cluster_bid(element_id)\n",
    "            # クラスターマトリクスの更新\n",
    "            self.cluster_matrix[:, element_id] = 0\n",
    "            self.cluster_matrix[best_cluster_id, element_id] = 1\n",
    "\n",
    "            cost_new = self.total_coordination_cost()\n",
    "\n",
    "            # コスト判定\n",
    "            if self.cost <= max(cost, self.nrand_accept):\n",
    "                # コストが低くなった場合，低いコストを現状のコストにする\n",
    "                self.cost = cost_new\n",
    "            else:\n",
    "                # コストが高くなった場合，元のクラスタに戻す\n",
    "                self.cluster_matrix = pre_cluster_matrix\n",
    "\n",
    "            self.cost_log[i] = cost_new\n",
    "\n",
    "        # 出力\n",
    "        os.makedirs('./out', exist_ok=True)\n",
    "        now = datetime.datetime.now().strftime(r'%Y%m%d_%H%M%S') # 現在時刻を年月曜日で表示\n",
    "        \n",
    "        with open('./out/tcc_param_' + now + '.csv', 'wt', encoding='utf-8') as f:\n",
    "            # ライター（書き込み者）を作成\n",
    "            writer = csv.writer(f)\n",
    "            # ライターでデータ（リスト）をファイルに出力\n",
    "            writer.writerow(['npow_cc', self.npow_cc])\n",
    "            writer.writerow(['npow_bid', self.npow_bid])\n",
    "            writer.writerow(['npow_dep', self.npow_dep])\n",
    "            writer.writerow(['nrand_accept', self.nrand_accept])\n",
    "            writer.writerow(['ntimes', self.ntimes])\n",
    "\n",
    "        df_cost_log = pd.DataFrame(self.cost_log, columns=['cost'])\n",
    "        df_cost_log.to_csv('./out/tcc_cost_' + now + '.csv', sep=',', header=False, index=True, encoding='utf-8')\n",
    "        plt.figure()\n",
    "        df_cost_log.plot()\n",
    "        plt.savefig('./out/tcc_cost_' + now + '.png')\n",
    "        plt.close('all')\n",
    "\n",
    "        # 再配列\n",
    "        self.reorder_cluster_DSM()\n",
    "\n",
    "        # 出力（クラスターマトリクスは，再配列されたもののほうが見やすいので）\n",
    "        df_cluster_matrix = pd.DataFrame(self.cluster_matrix_ordered, columns=self.label)\n",
    "        df_cluster_matrix.to_csv('./out/tcc_cluster_matrix_' + now + '.csv', sep=',', header=True, index=True, encoding='utf-8')\n",
    "\n",
    "\n",
    "        # embed()\n",
    "        \n",
    "        return"
   ]
  },
  {
   "cell_type": "code",
   "execution_count": 8,
   "metadata": {},
   "outputs": [
    {
     "name": "stdout",
     "output_type": "stream",
     "text": [
      "[[1. 1. 0. 1. 0.]\n",
      " [0. 1. 1. 0. 1.]\n",
      " [0. 1. 1. 0. 1.]\n",
      " [0. 0. 0. 1. 0.]\n",
      " [0. 0. 0. 0. 1.]]\n"
     ]
    }
   ],
   "source": [
    "values = np.eye(5, 5)\n",
    "values[0,1] = 1\n",
    "values[0,3] = 1\n",
    "values[1,2] = 1\n",
    "values[1,4] = 1\n",
    "values[2,1] = 1\n",
    "values[2,4] = 1\n",
    "print(values)\n",
    "elms = ['要素A','要素B','要素C','要素D','要素E']\n",
    "\n",
    "df_test = pd.DataFrame(values, columns=elms, index=elms)\n",
    "# df_test\n",
    "\n",
    "\n",
    "\n",
    "# tcc = TotalCoordinationCost(elms, values)\n",
    "# print(tcc.cluster_matrix)"
   ]
  },
  {
   "attachments": {},
   "cell_type": "markdown",
   "metadata": {},
   "source": [
    "# メニュー部"
   ]
  },
  {
   "attachments": {},
   "cell_type": "markdown",
   "metadata": {},
   "source": [
    "## DSM表示部"
   ]
  },
  {
   "cell_type": "code",
   "execution_count": 9,
   "metadata": {},
   "outputs": [],
   "source": [
    "class AppDSM(ttk.Frame): #ttk.Frameを継承したクラスになっている\n",
    "\n",
    "    def __init__(self,master):\n",
    "        super().__init__(master,borderwidth=5)\n",
    "\n",
    "        # 変数\n",
    "        self.square_size = 20 # マスのサイズ\n",
    "        self.canvas_size = self.square_size * 5\n",
    "        self.canvas_size_elm_width = 200 # 要素部（縦）キャンバスの幅\n",
    "        self.canvas_size_elm_height = 200 # 要素部（横）キャンバスの高さ\n",
    "        self.DSM_values = np.zeros((5, 5),dtype = 'int64')\n",
    "        self.DSM_elms = ['要素A','要素B','要素C','要素D','要素E']\n",
    "        self.idx_elm_selected_vertical = -1\n",
    "        self.idx_elm_selected_horizontal = -1\n",
    "\n",
    "        self.create_widgets_DSM()\n",
    "        self.create_widgets_operations()\n",
    "        self.set_events_DSM()\n",
    "        self.set_events_operations()\n",
    "        self.init_DSM()\n",
    "\n",
    "    def click_DSM(self, event):\n",
    "        # クリックされた位置がどのマスであるかを計算\n",
    "        self.idx_elm_selected_horizontal = event.x // self.square_size\n",
    "        self.idx_elm_selected_vertical = event.y // self.square_size\n",
    "        self.highlight_selected()\n",
    "\n",
    "\n",
    "    def highlight_selected(self):\n",
    "\n",
    "        # 対応する要素をハイライト\n",
    "        for i in range(self.num_square):\n",
    "            tag_name = 'elm_vertical_' + str(i)\n",
    "            if i == self.idx_elm_selected_vertical:\n",
    "                self.canvas_elm_vertical.itemconfig(\n",
    "                    tag_name,\n",
    "                    fill=\"red\"\n",
    "                )\n",
    "            else:\n",
    "                self.canvas_elm_vertical.itemconfig(\n",
    "                    tag_name,\n",
    "                    fill=\"white\"\n",
    "                )\n",
    "\n",
    "        for i in range(self.num_square):\n",
    "            tag_name = 'elm_horizontal_' + str(i)\n",
    "            if i == self.idx_elm_selected_horizontal:\n",
    "                self.canvas_elm_horizontal.itemconfig(\n",
    "                    tag_name,\n",
    "                    fill=\"red\"\n",
    "                )\n",
    "            else:\n",
    "                self.canvas_elm_horizontal.itemconfig(\n",
    "                    tag_name,\n",
    "                    fill=\"white\"\n",
    "                )\n",
    "\n",
    "        for ix in range(self.num_square):\n",
    "            for iy in range(self.num_square):\n",
    "                tag_name = 'DSM_' + str(ix) + '_' + str(iy)\n",
    "                if ix == iy:\n",
    "                    self.canvasDSM.itemconfig(\n",
    "                        tag_name,\n",
    "                        fill=\"black\"\n",
    "                    )\n",
    "                elif self.idx_elm_selected_vertical == iy and self.idx_elm_selected_horizontal >= ix:\n",
    "                    self.canvasDSM.itemconfig(\n",
    "                        tag_name,\n",
    "                        fill=\"red\"\n",
    "                    )\n",
    "                elif self.idx_elm_selected_horizontal == ix and self.idx_elm_selected_vertical >= iy:\n",
    "                    self.canvasDSM.itemconfig(\n",
    "                        tag_name,\n",
    "                        fill=\"red\"\n",
    "                    )\n",
    "\n",
    "                else:\n",
    "                    if self.DSM_values[ix][iy] == 0:\n",
    "                        self.canvasDSM.itemconfig(\n",
    "                            tag_name,\n",
    "                            fill=\"#555\"\n",
    "                        )\n",
    "                    else:\n",
    "                        self.canvasDSM.itemconfig(\n",
    "                            tag_name,\n",
    "                            fill=\"white\"\n",
    "                        )\n",
    "\n",
    "\n",
    "    def click_operation(self, event):\n",
    "\n",
    "        # ボタンの種類の判別\n",
    "        if str(event.widget[\"text\"]) == '↑':\n",
    "            updown = -1\n",
    "        else:\n",
    "            updown = 1\n",
    "\n",
    "\n",
    "        # 選択要素を特定\n",
    "        if self.idx_elm_selected_vertical == -1:\n",
    "            messagebox.showerror('並び替えエラー', '先に要素を選択してください')\n",
    "            return\n",
    "        elif updown == -1 and self.idx_elm_selected_vertical == 0:\n",
    "            return\n",
    "        elif updown == 1 and self.idx_elm_selected_vertical == len(self.DSM_elms) - 1:\n",
    "            return\n",
    "\n",
    "        # DSM_values, DSM_elmsを変換\n",
    "        (self.DSM_values, self.DSM_elms) = sort_DSM(self.DSM_values, self.DSM_elms, self.idx_elm_selected_vertical, updown)\n",
    "\n",
    "        # 再描写\n",
    "        # → 消してやり直すか，特定の要素だけ変更するか．．．\n",
    "        #  枠は消さなくてOKだが，結局ますの色が変わるので，，，\n",
    "        self.canvasDSM.delete('all')\n",
    "        self.canvas_elm_vertical.delete('all')\n",
    "        self.canvas_elm_horizontal.delete('all')\n",
    "        self.canvas_elm_top.delete('all')\n",
    "\n",
    "        self.create_widgets_DSM()\n",
    "        self.set_events_DSM()\n",
    "        self.init_DSM()\n",
    "\n",
    "        if self.idx_elm_selected_horizontal == self.idx_elm_selected_vertical:\n",
    "            # 同じ要素を選択していた場合\n",
    "            self.idx_elm_selected_horizontal = self.idx_elm_selected_horizontal + updown\n",
    "\n",
    "        elif self.idx_elm_selected_horizontal == self.idx_elm_selected_vertical + updown:\n",
    "            # 入れ替わる要素を選択していた場合\n",
    "            self.idx_elm_selected_horizontal = self.idx_elm_selected_horizontal - updown\n",
    "\n",
    "        self.idx_elm_selected_vertical = self.idx_elm_selected_vertical + updown\n",
    "\n",
    "        self.highlight_selected()\n",
    "\n",
    "    def import_DSM(self, values, elms):\n",
    "        self.DSM_values = values\n",
    "        self.DSM_elms = elms\n",
    "        \n",
    "        self.canvasDSM.delete('all')\n",
    "        self.canvas_elm_vertical.delete('all')\n",
    "        self.canvas_elm_horizontal.delete('all')\n",
    "        self.canvas_elm_top.delete('all')\n",
    "\n",
    "        self.create_widgets_DSM()\n",
    "        self.set_events_DSM()\n",
    "        self.init_DSM()\n",
    "\n",
    "    def create_widgets_operations(self):\n",
    "        self.grid(row=0, column=0, rowspan=2)\n",
    "        frame_operation = ttk.Frame(self)\n",
    "        frame_operation.pack()\n",
    "\n",
    "        self.label_operation = ttk.Label(frame_operation, text=\"選択要素を移動\")\n",
    "        self.label_operation.pack(side=tk.TOP, expand = True)\n",
    "\n",
    "        self.button_up = ttk.Button(frame_operation, text=\"↑\")\n",
    "        self.button_up.pack(side=tk.TOP, expand = True)\n",
    "\n",
    "        self.button_down = ttk.Button(frame_operation,text=\"↓\")\n",
    "        self.button_down.pack(side=tk.TOP, expand = True)\n",
    "\n",
    "\n",
    "    def create_widgets_DSM(self):\n",
    "        \n",
    "        self.num_square = len(self.DSM_elms) # 横方向・縦方向のマスの数\n",
    "        self.canvas_size = self.num_square*self.square_size # DSMキャンバスのサイズ\n",
    "\n",
    "        # DSM値部キャンバスの作成\n",
    "        self.canvasDSM = tk.Canvas(\n",
    "            self.master,\n",
    "            bg='white',\n",
    "            width=self.canvas_size+1, # +1は枠線描画のため\n",
    "            height=self.canvas_size+1, # +1は枠線描画のため\n",
    "            highlightthickness=0\n",
    "        )\n",
    "        self.canvasDSM.grid(row=1, column=2, sticky=tk.N+tk.W)\n",
    "\n",
    "        # DSM要素部(縦) キャンバスの作成\n",
    "        self.canvas_elm_vertical = tk.Canvas(\n",
    "            self.master,\n",
    "            bg='white',\n",
    "            width=self.canvas_size_elm_width+1, # +1は枠線描画のため\n",
    "            height=self.canvas_size+1, # +1は枠線描画のため\n",
    "            highlightthickness=0\n",
    "        )\n",
    "        self.canvas_elm_vertical.grid(row=1, column=1, sticky=tk.N+tk.W)\n",
    "\n",
    "        # DSM要素部(横) キャンバスの作成\n",
    "        self.canvas_elm_horizontal = tk.Canvas(\n",
    "            self.master,\n",
    "            bg='white',\n",
    "            width=self.canvas_size+1, # +1は枠線描画のため\n",
    "            height=self.canvas_size_elm_height+1, # +1は枠線描画のため\n",
    "            highlightthickness=0\n",
    "        )\n",
    "        self.canvas_elm_horizontal.grid(row=0, column=2,sticky=tk.S+tk.W)\n",
    "\n",
    "        # DSMの左上 キャンバスの作成\n",
    "        self.canvas_elm_top = tk.Canvas(\n",
    "            self.master,\n",
    "            bg='white',\n",
    "            width=self.canvas_size_elm_width+1, # +1は枠線描画のため\n",
    "            height=self.canvas_size_elm_height+1, # +1は枠線描画のため\n",
    "            highlightthickness=0\n",
    "        )\n",
    "        self.canvas_elm_top.grid(row=0, column=1)\n",
    "\n",
    "    def set_events_DSM(self):\n",
    "        # DSM値部キャンバス上のマウスクリックを受け付ける\n",
    "        self.canvasDSM.bind('<1>', self.click_DSM)\n",
    "\n",
    "    def set_events_operations(self):\n",
    "        self.button_up.bind('<1>', self.click_operation)\n",
    "        self.button_down.bind('<1>', self.click_operation)\n",
    "\n",
    "\n",
    "    def init_DSM(self):\n",
    "\n",
    "        # マスを描画(DSM値部)\n",
    "        for iy in range(self.num_square):\n",
    "            for ix in range(self.num_square):\n",
    "                # 長方形の開始・終了座標を計算\n",
    "                xs = ix * self.square_size\n",
    "                ys = iy * self.square_size\n",
    "                xe = (ix + 1) * self.square_size\n",
    "                ye = (iy + 1) * self.square_size\n",
    "                \n",
    "                # 長方形を描画\n",
    "                tag_name = 'DSM_' + str(ix) + '_' + str(iy)\n",
    "                if ix == iy:\n",
    "                    color = 'black'\n",
    "                elif self.DSM_values[ix][iy] == 0:\n",
    "                    color = '#555'\n",
    "                else:\n",
    "                    color = 'white'\n",
    "\n",
    "                self.canvasDSM.create_rectangle(\n",
    "                    xs, ys,\n",
    "                    xe, ye,\n",
    "                    tag = tag_name,\n",
    "                    fill = color, outline ='black'\n",
    "                )\n",
    "\n",
    "        # マスを描画(DSM要素部)\n",
    "        for i in range(self.num_square):\n",
    "            # 長方形の開始・終了座標を計算\n",
    "            pos_beg = i * self.square_size\n",
    "            pos_end = (i + 1) * self.square_size\n",
    "            \n",
    "            # 長方形を描画\n",
    "            tag_name_v = 'elm_vertical_' + str(i)\n",
    "            tag_name_h = 'elm_horizontal_' + str(i)\n",
    "\n",
    "            self.canvas_elm_vertical.create_rectangle(\n",
    "                0, pos_beg,\n",
    "                self.canvas_size_elm_width, pos_end,\n",
    "                tag = tag_name_v,\n",
    "                fill = \"white\", outline ='black'\n",
    "            )\n",
    "            self.canvas_elm_horizontal.create_rectangle(\n",
    "                pos_beg, 0,\n",
    "                pos_end, self.canvas_size_elm_height,\n",
    "                tag = tag_name_h,\n",
    "                fill = \"white\", outline ='black'\n",
    "            )\n",
    "            self.canvas_elm_top.create_rectangle(\n",
    "                0, 0,\n",
    "                self.canvas_size_elm_width, self.canvas_size_elm_height,\n",
    "                tag = \"top\",\n",
    "                fill = \"white\", outline ='black'\n",
    "            )\n",
    "\n",
    "        # DSM値の初期化\n",
    "        for ix in range(self.num_square):\n",
    "            for iy in range(self.num_square):\n",
    "                tag_name = 'DSM_value_' + str(ix) + '_' + str(iy)\n",
    "\n",
    "                # 長方形の開始・終了座標を計算\n",
    "                xc = (ix + 0.5) * self.square_size\n",
    "                yc = (iy + 0.5) * self.square_size\n",
    "                self.canvasDSM.create_text(xc, yc, text=str(self.DSM_values[ix][iy]),\n",
    "                    width=self.square_size, fill='black',tag=tag_name)\n",
    "        \n",
    "        # 要素名\n",
    "        for i in range(self.num_square):\n",
    "            # 長方形の開始・終了座標を計算\n",
    "            pos_center = (i + 0.5) * self.square_size\n",
    "            self.canvas_elm_vertical.create_text(self.canvas_size_elm_width/2, pos_center, text=self.DSM_elms[i],\n",
    "                width=self.canvas_size_elm_width, fill=\"black\",tag=\"tag\")\n",
    "            self.canvas_elm_horizontal.create_text(pos_center, self.canvas_size_elm_height/2, text=self.DSM_elms[i],\n",
    "                width=self.canvas_size_elm_height, fill=\"black\",tag=\"tag\",angle=90)\n",
    "        \n",
    "        self.canvas_elm_top.create_text(self.canvas_size_elm_width/2, self.canvas_size_elm_height/2, text=\"\",\n",
    "            width=self.canvas_size_elm_width, fill=\"black\",tag=\"tag\")\n"
   ]
  },
  {
   "attachments": {},
   "cell_type": "markdown",
   "metadata": {},
   "source": [
    "## メニュー駆動部"
   ]
  },
  {
   "cell_type": "code",
   "execution_count": 10,
   "metadata": {},
   "outputs": [],
   "source": [
    "class AppMenu(ttk.Frame):\n",
    "    def __init__(self, master = None):\n",
    "        super().__init__(master)\n",
    "        self.master.title(\"Design Structure Matrix\")\n",
    "        self.master.geometry(\"800x500\")\n",
    "\n",
    "        # メニューバーの作成\n",
    "        menubar = tk.Menu(self)\n",
    "\n",
    "        # ファイル\n",
    "        menu_file = tk.Menu(menubar, tearoff = False)\n",
    "        menu_file.add_command(label = \"インポート\",  command = self.menu_file_open_click,  accelerator=\"Ctrl+O\")\n",
    "        menu_file.add_command(label = \"エクスポート\", command = self.menu_file_saveas_click, accelerator=\"Ctrl+S\")\n",
    "        menu_file.add_separator() # 仕切り線\n",
    "        menu_file.add_command(label = \"終了\", command = self.master.destroy)\n",
    "        # ショートカットキーの関連付け\n",
    "        menu_file.bind_all(\"<Control-o>\", self.menu_file_open_click)\n",
    "        menu_file.bind_all(\"<Control-s>\", self.menu_file_saveas_click)\n",
    "\n",
    "        # クラスタリング\n",
    "        menu_clustering = tk.Menu(menubar, tearoff = False)\n",
    "        menu_clustering.add_command(label = \"Coordination Cost法\",  command = self.tcc_click)\n",
    "        menu_clustering.add_command(label = \"Minimum Description Length法\",  command = self.mdl_click)\n",
    "        menu_clustering.add_command(label = \"評価のみ（Coordination Cost法）\",  command = self.evaluate_tcc_click)\n",
    "        menu_clustering.add_command(label = \"評価のみ（Minimum Description Length法）\",  command = self.evaluate_mdl_click)\n",
    "\n",
    "        # 可視化\n",
    "        menu_visualize = tk.Menu(menubar, tearoff = False)\n",
    "        menu_visualize.add_command(label = \"ネットワーク図(pyviz)\",  command = self.pyviz_click)\n",
    "\n",
    "        # 表示(Checkbutton)\n",
    "        menu_disp = tk.Menu(menubar, tearoff = False)\n",
    "        self.disp1_value = tk.BooleanVar()\n",
    "        self.disp2_value = tk.BooleanVar()\n",
    "        self.disp3_value = tk.BooleanVar()\n",
    "        menu_disp.add_checkbutton(label = \"表示１\", command = self.menu_disp1_click, variable = self.disp1_value)\n",
    "        menu_disp.add_checkbutton(label = \"表示２\", command = self.menu_disp2_click, variable = self.disp2_value)\n",
    "        menu_disp.add_checkbutton(label = \"表示３\", command = self.menu_disp3_click, variable = self.disp3_value)\n",
    "\n",
    "        # 選択(Radiobutton)\n",
    "        self.radio_val = tk.IntVar() # ラジオボタンの値\n",
    "        menu_select = tk.Menu(menubar, tearoff = False)\n",
    "        menu_select.add_radiobutton(label = \"選択１\", command = self.menu_select_click, variable = self.radio_val, value = 1)\n",
    "        menu_select.add_radiobutton(label = \"選択２\", command = self.menu_select_click, variable = self.radio_val, value = 2)\n",
    "        menu_select.add_radiobutton(label = \"選択３\", command = self.menu_select_click, variable = self.radio_val, value = 3)\n",
    "\n",
    "        # メニューバーに各メニューを追加\n",
    "        menubar.add_cascade(label=\"ファイル\", menu = menu_file)\n",
    "        menubar.add_cascade(label=\"クラスタリング\", menu = menu_clustering)\n",
    "        menubar.add_cascade(label=\"グラフ化\", menu = menu_visualize)\n",
    "        menubar.add_cascade(label=\"表示\", menu = menu_disp)\n",
    "        menubar.add_cascade(label=\"選択\", menu = menu_select)\n",
    "\n",
    "        # 親ウィンドウのメニューに、作成したメニューバーを設定\n",
    "        self.master.config(menu = menubar)\n",
    "\n",
    "        # 他のフレームの作成\n",
    "        self.app_DSM = AppDSM(self.master)\n",
    "\n",
    "    def menu_file_open_click(self, event=None):\n",
    "        filepath = filedialog.askopenfilename(\n",
    "            title = \"ファイルを開く\",\n",
    "            filetypes=[(\"csv files\",\"*.csv\")],\n",
    "            initialdir = os.getcwd()\n",
    "            )\n",
    "        \n",
    "        # utf-8かどうかチェック\n",
    "        with open(filepath, 'rb') as f:  \n",
    "            detector = UniversalDetector()\n",
    "            for line in f:\n",
    "                detector.feed(line)\n",
    "                if detector.done:\n",
    "                    break   \n",
    "            detector.close()\n",
    "            result = detector.result\n",
    "        if result['encoding'] == 'SHIFT_JIS':\n",
    "            encoding = 'CP932'\n",
    "        else:\n",
    "            encoding = 'utf-8'\n",
    "\n",
    "        # １行目に要素ラベル，２行目以降に値となっているかチェックする\n",
    "\n",
    "        # 値読み込み\n",
    "        values = np.loadtxt(filepath, delimiter=',', dtype='int64', skiprows=1).T\n",
    "        print(values)\n",
    "        # 対角要素は1にする\n",
    "        for i, row in enumerate(values):\n",
    "            for j, c in enumerate(row):\n",
    "                if i == j:\n",
    "                    values[i, j] = 1\n",
    "        print(values)\n",
    "\n",
    "        # 要素ラベル読み込み\n",
    "        with open(filepath, encoding=encoding, newline='') as f:\n",
    "        # with open(filepath, encoding='utf8', newline='') as f:\n",
    "            row1 = next(csv.reader(f, delimiter=','))\n",
    "        elms = row1\n",
    "\n",
    "        # 不正なファイルでないかチェックする\n",
    "        if values.shape[0] != values.shape[1]:\n",
    "            messagebox.showerror('インポートエラー', 'DSMが正方行列ではありません')\n",
    "            return\n",
    "        elif values.shape[0] != len(elms):\n",
    "            messagebox.showerror('インポートエラー', '要素ラベルの数とDSMの行列数が異なります')\n",
    "            return\n",
    "\n",
    "        self.app_DSM.import_DSM(values, elms)\n",
    "        messagebox.showinfo('', 'DSMがインポートされました')\n",
    "\n",
    "    def menu_file_saveas_click(self, event=None):\n",
    "        os.makedirs('./out', exist_ok=True)\n",
    "        now = datetime.datetime.now().strftime(r'%Y%m%d_%H%M%S') # 現在時刻を年月曜日で表示\n",
    "\n",
    "        df_dsm = pd.DataFrame(self.app_DSM.DSM_values, index=self.app_DSM.DSM_elms, columns=self.app_DSM.DSM_elms)\n",
    "        df_dsm.to_csv('./out/dsm_' + now + '.csv', sep=',', header=True, index=False, encoding='utf-8')\n",
    "        messagebox.showinfo('', 'DSMがエクスポートされました')\n",
    "\n",
    "\n",
    "    def invalidText(self):\n",
    "        messagebox.showwarning('警告','数値を入力してください')\n",
    "\n",
    "    def onValidate(self, S):\n",
    "        # 入力された文字が半角数字の場合\n",
    "        # reについて : https://note.nkmk.me/python-re-match-search-findall-etc/\n",
    "        if re.match(re.compile('[0-9]+'), S):\n",
    "            return True\n",
    "        elif S == r'.':\n",
    "            return True\n",
    "        else:\n",
    "            # 入力不正のブザーを鳴らす。\n",
    "            self.bell()\n",
    "            return False\n",
    "\n",
    "    def tcc_click(self, event=None):\n",
    "        self.app_tcc_param = tk.Tk()       \n",
    "        self.app_tcc_param.title(\"クラスタリング(Total Coordination)パラメータ\")\n",
    "        self.app_tcc_param.geometry(\"500x300\")\n",
    "        self.app_tcc_param.attributes(\"-topmost\", True)\n",
    "\n",
    "        # メインフレームの作成と設置\n",
    "        vcmd = self.register(self.onValidate)\n",
    "        \n",
    "        frame_app = ttk.Frame(self.app_tcc_param)\n",
    "        frame_app.pack()\n",
    "        label_npow_cc = tk.Label(frame_app, text='npow_cc')\n",
    "        label_npow_cc.grid(row=0, column=0)\n",
    "        self.entry_npow_cc = tk.Entry(frame_app)\n",
    "        vcmd = (self.entry_npow_cc.register(self.onValidate), '%S')\n",
    "        self.entry_npow_cc.configure(validate='key', vcmd=vcmd)\n",
    "        self.entry_npow_cc.grid(row=0, column=1)\n",
    "        self.entry_npow_cc.insert(0, 1)\n",
    "\n",
    "        label_npow_bid = tk.Label(frame_app, text='npow_bid')\n",
    "        label_npow_bid.grid(row=1, column=0)\n",
    "        self.entry_npow_bid = tk.Entry(frame_app)\n",
    "        vcmd = (self.entry_npow_bid.register(self.onValidate), '%S')\n",
    "        self.entry_npow_bid.configure(validate='key', vcmd=vcmd)\n",
    "        self.entry_npow_bid.grid(row=1, column=1)\n",
    "        self.entry_npow_bid.insert(0, \"0\")\n",
    "\n",
    "        label_npow_dep = tk.Label(frame_app, text='npow_dep')\n",
    "        label_npow_dep.grid(row=2, column=0)\n",
    "        self.entry_npow_dep = tk.Entry(frame_app)\n",
    "        vcmd = (self.entry_npow_dep.register(self.onValidate), '%S')\n",
    "        self.entry_npow_dep.configure(validate='key', vcmd=vcmd)\n",
    "        self.entry_npow_dep.grid(row=2, column=1)\n",
    "        self.entry_npow_dep.insert(0, \"1\")\n",
    "\n",
    "        label_nrand_accept = tk.Label(frame_app, text='nrand_accept')\n",
    "        label_nrand_accept.grid(row=3, column=0)\n",
    "        self.entry_nrand_accept = tk.Entry(frame_app)\n",
    "        vcmd = (self.entry_nrand_accept.register(self.onValidate), '%S')\n",
    "        self.entry_nrand_accept.configure(validate='key', vcmd=vcmd)\n",
    "        self.entry_nrand_accept.grid(row=3, column=1)\n",
    "        self.entry_nrand_accept.insert(0, \"30\")\n",
    "\n",
    "        label_ntimes = tk.Label(frame_app, text='ntimes')\n",
    "        label_ntimes.grid(row=4, column=0)\n",
    "        self.entry_ntimes = tk.Entry(frame_app)\n",
    "        vcmd = (self.entry_ntimes.register(self.onValidate), '%S')\n",
    "        self.entry_ntimes.configure(validate='key', vcmd=vcmd)\n",
    "        self.entry_ntimes.grid(row=4, column=1)\n",
    "        self.entry_ntimes.insert(0, \"5\")\n",
    "\n",
    "        button_execute = ttk.Button(frame_app, text=\"実行\", command=self.tcc_exec)\n",
    "        button_execute.grid(row=5, column=0)\n",
    "        \n",
    "        # self.app_tcc_param.protocol(\"WM_DELETE_WINDOW\") #ウィンドウ削除\n",
    "        self.app_tcc_param.mainloop()\n",
    "\n",
    "    def tcc_exec(self):\n",
    "        npow_cc = self.entry_npow_cc.get()\n",
    "        npow_bid = self.entry_npow_bid.get()\n",
    "        npow_dep = self.entry_npow_dep.get()\n",
    "        nrand_accept = self.entry_nrand_accept.get()\n",
    "        ntimes = self.entry_ntimes.get()\n",
    "\n",
    "        tcc = TotalCoordinationCost(\n",
    "                self.app_DSM.DSM_elms, \n",
    "                self.app_DSM.DSM_values,\n",
    "                npow_cc,\n",
    "                npow_bid,\n",
    "                npow_dep,\n",
    "                nrand_accept,\n",
    "                ntimes)\n",
    "        tcc.main()\n",
    "\n",
    "        # 再配列されたDSMを表示する\n",
    "        self.app_DSM.import_DSM(tcc.dsm_ordered.astype('int64'), tcc.label_ordered)\n",
    "\n",
    "        self.app_tcc_param.destroy()\n",
    "        messagebox.showinfo('', 'クラスタリング(TCC)が完了し，実行ログを出力しました')\n",
    "\n",
    "    def mdl_click(self, event=None):\n",
    "        self.app_mdl_param = tk.Tk()       \n",
    "        self.app_mdl_param.title(\"クラスタリング(Minimum Description Length)パラメータ\")\n",
    "        self.app_mdl_param.geometry(\"500x300\")\n",
    "        self.app_mdl_param.attributes(\"-topmost\", True)\n",
    "\n",
    "        # メインフレームの作成と設置\n",
    "        vcmd = self.register(self.onValidate)\n",
    "        \n",
    "        frame_app = ttk.Frame(self.app_mdl_param)\n",
    "        frame_app.pack()\n",
    "        label_pc = tk.Label(frame_app, text='pc')\n",
    "        label_pc.grid(row=0, column=0)\n",
    "        self.entry_pc = tk.Entry(frame_app)\n",
    "        vcmd = (self.entry_pc.register(self.onValidate), '%S')\n",
    "        self.entry_pc.configure(validate='key', vcmd=vcmd)\n",
    "        self.entry_pc.grid(row=0, column=1)\n",
    "        self.entry_pc.insert(0, '1')\n",
    "\n",
    "        label_pm = tk.Label(frame_app, text='pm')\n",
    "        label_pm.grid(row=1, column=0)\n",
    "        self.entry_pm = tk.Entry(frame_app)\n",
    "        vcmd = (self.entry_pm.register(self.onValidate), '%S')\n",
    "        self.entry_pm.configure(validate='key', vcmd=vcmd)\n",
    "        self.entry_pm.grid(row=1, column=1)\n",
    "        self.entry_pm.insert(0, '0.278')\n",
    "\n",
    "        label_lmbd = tk.Label(frame_app, text='lambda')\n",
    "        label_lmbd.grid(row=2, column=0)\n",
    "        self.entry_lmbd = tk.Entry(frame_app)\n",
    "        vcmd = (self.entry_lmbd.register(self.onValidate), '%S')\n",
    "        self.entry_lmbd.configure(validate='key', vcmd=vcmd)\n",
    "        self.entry_lmbd.grid(row=2, column=1)\n",
    "        self.entry_lmbd.insert(0, '50')\n",
    "\n",
    "        label_mu = tk.Label(frame_app, text='mu')\n",
    "        label_mu.grid(row=3, column=0)\n",
    "        self.entry_mu = tk.Entry(frame_app)\n",
    "        vcmd = (self.entry_mu.register(self.onValidate), '%S')\n",
    "        self.entry_mu.configure(validate='key', vcmd=vcmd)\n",
    "        self.entry_mu.grid(row=3, column=1)\n",
    "        self.entry_mu.insert(0, '50')\n",
    "\n",
    "        label_alpha = tk.Label(frame_app, text='alpha')\n",
    "        label_alpha.grid(row=4, column=0)\n",
    "        self.entry_alpha = tk.Entry(frame_app)\n",
    "        vcmd = (self.entry_alpha.register(self.onValidate), '%S')\n",
    "        self.entry_alpha.configure(validate='key', vcmd=vcmd)\n",
    "        self.entry_alpha.grid(row=4, column=1)\n",
    "        self.entry_alpha.insert(0, '0.33')\n",
    "\n",
    "        label_beta = tk.Label(frame_app, text='beta')\n",
    "        label_beta.grid(row=5, column=0)\n",
    "        self.entry_beta = tk.Entry(frame_app)\n",
    "        vcmd = (self.entry_beta.register(self.onValidate), '%S')\n",
    "        self.entry_beta.configure(validate='key', vcmd=vcmd)\n",
    "        self.entry_beta.grid(row=5, column=1)\n",
    "        self.entry_beta.insert(0, '0.33')\n",
    "\n",
    "        label_c_max = tk.Label(frame_app, text='c_max')\n",
    "        label_c_max.grid(row=6, column=0)\n",
    "        self.entry_c_max = tk.Entry(frame_app)\n",
    "        vcmd = (self.entry_c_max.register(self.onValidate), '%S')\n",
    "        self.entry_c_max.configure(validate='key', vcmd=vcmd)\n",
    "        self.entry_c_max.grid(row=6, column=1)\n",
    "        self.entry_c_max.insert(0, '3')\n",
    "\n",
    "        label_nrep = tk.Label(frame_app, text='nrep')\n",
    "        label_nrep.grid(row=7, column=0)\n",
    "        self.entry_nrep = tk.Entry(frame_app)\n",
    "        vcmd = (self.entry_nrep.register(self.onValidate), '%S')\n",
    "        self.entry_nrep.configure(validate='key', vcmd=vcmd)\n",
    "        self.entry_nrep.grid(row=7, column=1)\n",
    "        self.entry_nrep.insert(0, '100')\n",
    "\n",
    "        button_execute = ttk.Button(frame_app, text=\"実行\", command=self.mdl_exec)\n",
    "        button_execute.grid(row=8, column=0)\n",
    "        \n",
    "        self.app_mdl_param.mainloop()\n",
    "\n",
    "    def mdl_exec(self):\n",
    "        pc = self.entry_pc.get()\n",
    "        pm = self.entry_pm.get()\n",
    "        lmbd = self.entry_lmbd.get()\n",
    "        mu = self.entry_mu.get()\n",
    "        alpha = self.entry_alpha.get()\n",
    "        beta = self.entry_beta.get()\n",
    "        c_max = self.entry_c_max.get()\n",
    "        nrep = self.entry_nrep.get()\n",
    "\n",
    "        # DSMの要素値を最大値で正規化する\n",
    "        DSM_values_tmp = np.copy(self.app_DSM.DSM_values)\n",
    "        value_max = DSM_values_tmp.max()\n",
    "        DSM_values_tmp = DSM_values_tmp / value_max\n",
    "\n",
    "        mdl = MinimumDescriptionLength(\n",
    "                self.app_DSM.DSM_elms, \n",
    "                DSM_values_tmp,\n",
    "                pc, pm, lmbd, mu, alpha, beta, c_max, nrep)\n",
    "        mdl.main()\n",
    "        # 再配列されたDSMを表示する\n",
    "        # self.app_DSM.import_DSM(tcc.dsm_ordered.astype('int64'), tcc.label_ordered)\n",
    "\n",
    "        self.app_mdl_param.destroy()\n",
    "        messagebox.showinfo('', 'クラスタリング(MDL)が完了し，実行ログを出力しました')\n",
    "\n",
    "    def evaluate_tcc_click(self):\n",
    "        messagebox.showinfo('', '評価')\n",
    "        self.app_tcc_param = tk.Tk()       \n",
    "        self.app_tcc_param.title(\"評価(Total Coordination)パラメータ\")\n",
    "        self.app_tcc_param.geometry(\"500x300\")\n",
    "        self.app_tcc_param.attributes(\"-topmost\", True)\n",
    "\n",
    "        # メインフレームの作成と設置\n",
    "        vcmd = self.register(self.onValidate)\n",
    "        \n",
    "        frame_app = ttk.Frame(self.app_tcc_param)\n",
    "        frame_app.pack()\n",
    "        label_npow_cc = tk.Label(frame_app, text='npow_cc')\n",
    "        label_npow_cc.grid(row=0, column=0)\n",
    "        self.entry_npow_cc = tk.Entry(frame_app)\n",
    "        vcmd = (self.entry_npow_cc.register(self.onValidate), '%S')\n",
    "        self.entry_npow_cc.configure(validate='key', vcmd=vcmd)\n",
    "        self.entry_npow_cc.grid(row=0, column=1)\n",
    "        self.entry_npow_cc.insert(0, 1)\n",
    "\n",
    "        button_execute = ttk.Button(frame_app, text=\"クラスターマトリクス指定\", command=self.evaluate_tcc_file_path)\n",
    "        button_execute.grid(row=1, column=0)\n",
    "        label_file_name = tk.Label(frame_app, text='ファイル名')\n",
    "        label_file_name.grid(row=2, column=0)\n",
    "        var=tk.StringVar()\n",
    "        label_file_name_value = tk.Label(frame_app, text=var)\n",
    "        label_file_name_value.grid(row=2, column=1)\n",
    "\n",
    "        button_execute = ttk.Button(frame_app, text=\"実行\", command=self.evaluate_tcc)\n",
    "        button_execute.grid(row=3, column=0)\n",
    "\n",
    "        return\n",
    "    \n",
    "    def evaluate_tcc_file_path(self):\n",
    "        self.filepath = filedialog.askopenfilename(\n",
    "            title = \"クラスターマトリクスファイルを開く\",\n",
    "            filetypes=[(\"csv files\",\"*.csv\")],\n",
    "            initialdir = os.getcwd()\n",
    "            )\n",
    "        \n",
    "        # １行目に要素ラベル，２行目以降に値となっているかチェックする\n",
    "\n",
    "        df = pd.read_csv(self.filepath, header = 0, index_col=0)\n",
    "        self.cluster_matrix = df.values\n",
    "\n",
    "        messagebox.showinfo('', 'クラスターマトリクスが指定されました')\n",
    "        return\n",
    "    \n",
    "    def evaluate_tcc(self):\n",
    "        npow_cc = self.entry_npow_cc.get()\n",
    "\n",
    "        tcc = TotalCoordinationCost(\n",
    "                self.app_DSM.DSM_elms, \n",
    "                self.app_DSM.DSM_values,\n",
    "                npow_cc)\n",
    "        tcc.cluster_matrix = self.cluster_matrix\n",
    "        cost = tcc.total_coordination_cost()\n",
    "\n",
    "        # 再配列されたDSMを表示する\n",
    "        self.app_DSM.import_DSM(tcc.dsm_ordered.astype('int64'), tcc.label_ordered)\n",
    "\n",
    "        self.app_tcc_param.destroy()\n",
    "        messagebox.showinfo('', '評価(TCC)が完了し，実行ログを出力しました')\n",
    "\n",
    "\n",
    "\n",
    "    def evaluate_mdl_click(self):\n",
    "        messagebox.showinfo('', '評価')\n",
    "        \n",
    "\n",
    "\n",
    "    def pyviz_click(self, event=None):\n",
    "\n",
    "        df = pd.DataFrame(self.app_DSM.DSM_values, columns=self.app_DSM.DSM_elms, index=self.app_DSM.DSM_elms)\n",
    "        mask_df = df.mask(np.triu(np.ones(df.shape)).astype(bool), None)\n",
    "        # エッジリストを生成\n",
    "        edge_lists = mask_df.stack().reset_index().apply(tuple, axis=1).values\n",
    "        # networkxのグラフを作成\n",
    "        G = nx.Graph()\n",
    "        G.add_weighted_edges_from(edge_lists)\n",
    "        # networkxグラフをpyvisグラフに変換\n",
    "        g = Network()\n",
    "        g.from_nx(G)\n",
    "\n",
    "        # weightに応じて、エッジの太さを変更\n",
    "        edges_rem = [] #除外するedgeをリスト化\n",
    "        for i, edge in enumerate(g.edges):\n",
    "            if abs(g.edges[i]['width']) > 0.1:\n",
    "                g.edges[i]['width'] = abs(g.edges[i]['width'])*5\n",
    "            else:\n",
    "                edges_rem.append(edge)\n",
    "        for edge in edges_rem:\n",
    "            g.edges.remove(edge)\n",
    "\n",
    "        # ボタンやバーなどのGUIを有効化\n",
    "        g.show_buttons(filter_=['physics', 'nodes'])  # 一部の機能のみ使用\n",
    "        # g.show_buttons(True)   # 全機能使用\n",
    "\n",
    "        # グラフをhtmlで表示\n",
    "        os.makedirs('./out', exist_ok=True)\n",
    "        now = datetime.datetime.now().strftime(r'%Y%m%d_%H%M%S') # 現在時刻を年月曜日で表示\n",
    "        g.show(\"./out/dsm_pyviz_\" + now + '.html')\n",
    "        messagebox.showinfo('', 'グラフ(pyviz)が出力されました')\n",
    "\n",
    "\n",
    "    def menu_disp1_click(self):\n",
    "        print(\"「表示１」が選択された\")\n",
    "        print(f\"チェック状態は{self.disp1_value.get()}\")\n",
    "\n",
    "    def menu_disp2_click(self):\n",
    "        print(\"「表示２」が選択された\")\n",
    "        print(f\"チェック状態は{self.disp2_value.get()}\")\n",
    "\n",
    "    def menu_disp3_click(self):\n",
    "        print(\"「表示３」が選択された\")\n",
    "        print(f\"チェック状態は{self.disp3_value.get()}\")\n",
    "    \n",
    "    def menu_select_click(self):\n",
    "        print(self.radio_val.get(), \"番目のラジオボタンが選択されました。\")\n"
   ]
  },
  {
   "cell_type": "code",
   "execution_count": 11,
   "metadata": {},
   "outputs": [],
   "source": [
    "def sort_DSM(values, elms, idx, direction):\n",
    "    \n",
    "    values_ = values.copy()\n",
    "    elms_ = elms.copy()\n",
    "\n",
    "    # 単位行列の作成\n",
    "    p = np.identity(len(elms_), dtype='int64')\n",
    "\n",
    "    idx_change = idx + direction\n",
    "\n",
    "    # DSMの並び替え\n",
    "    p[idx][idx]=0\n",
    "    p[idx][idx_change]=1\n",
    "    p[idx_change][idx_change]=0\n",
    "    p[idx_change][idx]=1\n",
    "    values_ = np.dot(np.dot(p, values_), p.T)\n",
    "\n",
    "    # 要素名の並び替え\n",
    "    # https://qiita.com/koshian2/items/c5f2fb548b9bffe80fdf\n",
    "    elms_[idx], elms_[idx_change] = elms_[idx_change], elms_[idx]\n",
    "\n",
    "    return (values_, elms_)"
   ]
  },
  {
   "attachments": {},
   "cell_type": "markdown",
   "metadata": {},
   "source": [
    "# メイン処理部"
   ]
  },
  {
   "cell_type": "code",
   "execution_count": 12,
   "metadata": {},
   "outputs": [],
   "source": [
    "if __name__ == '__main__':\n",
    "    root = tk.Tk()              #ウィンドウを定義\n",
    "    menu = AppMenu(root)\n",
    "    root.mainloop()"
   ]
  },
  {
   "cell_type": "code",
   "execution_count": 13,
   "metadata": {},
   "outputs": [
    {
     "name": "stdout",
     "output_type": "stream",
     "text": [
      "20230301_231209\n"
     ]
    }
   ],
   "source": [
    "now = datetime.datetime.now().strftime(r'%Y%m%d_%H%M%S') # 現在時刻を年月曜日で表示\n",
    "print(now)\n"
   ]
  },
  {
   "cell_type": "code",
   "execution_count": null,
   "metadata": {},
   "outputs": [],
   "source": []
  },
  {
   "cell_type": "code",
   "execution_count": null,
   "metadata": {},
   "outputs": [],
   "source": []
  }
 ],
 "metadata": {
  "kernelspec": {
   "display_name": "Python 3",
   "language": "python",
   "name": "python3"
  },
  "language_info": {
   "codemirror_mode": {
    "name": "ipython",
    "version": 3
   },
   "file_extension": ".py",
   "mimetype": "text/x-python",
   "name": "python",
   "nbconvert_exporter": "python",
   "pygments_lexer": "ipython3",
   "version": "3.10.9"
  },
  "orig_nbformat": 4,
  "vscode": {
   "interpreter": {
    "hash": "4f2ce2489340f4480ed50cb2a034e1fb97842cd444ee7510d01ca2a3599e2494"
   }
  }
 },
 "nbformat": 4,
 "nbformat_minor": 2
}
