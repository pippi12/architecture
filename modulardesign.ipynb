{
 "cells": [
  {
   "cell_type": "code",
   "execution_count": 3,
   "metadata": {},
   "outputs": [],
   "source": [
    "import pandas as pd\n",
    "import numpy as np\n",
    "import sklearn #機械学習のライブラリ\n",
    "from sklearn.decomposition import PCA #主成分分析器\n",
    "import seaborn as sns\n",
    "import matplotlib.pyplot as plt\n",
    "import math\n",
    "import random\n",
    "from IPython import embed"
   ]
  },
  {
   "cell_type": "code",
   "execution_count": 23,
   "metadata": {},
   "outputs": [],
   "source": [
    "class ProductFamily():\n",
    "    def __init__(self):\n",
    "        # インポート\n",
    "        filepath = './src/design_parameter_table.csv'\n",
    "        self.df_dp = pd.read_csv(filepath, header=0, index_col=None)\n",
    "        filepath = './src/product_definition_table.csv'\n",
    "        self.df_product_definition = pd.read_csv(filepath, header=0, index_col=None)\n",
    "        filepath = './src/product_model_1.csv'\n",
    "        self.df_product_model = pd.read_csv(filepath, header=0, index_col=None)\n",
    "\n",
    "        # numpy化\n",
    "        self.importances = self.df_product_definition.iloc[:,2:].to_numpy()\n",
    "        self.sensitivity = self.df_product_model.iloc[:,1:].to_numpy()\n",
    "        self.dpcp = self.df_dp.loc[:,['design_parameter_id','component_id']].values.tolist()\n",
    "        self.dpcp = [[int(s[0].replace('Dp', ''))-1, int(s[1].replace('Cp', ''))-1] for s in self.dpcp]\n",
    "\n",
    "        # 変数定義\n",
    "        n_pr = len(self.df_product_definition.columns)-2\n",
    "        n_dp = len(self.df_product_model.columns)-1\n",
    "        n_fm = len(self.df_product_definition)\n",
    "        n_cp = len(self.df_dp[\"component_id\"].drop_duplicates())\n",
    "\n",
    "\n",
    "    def test(self):\n",
    "        print('a')\n",
    "\n",
    "pf = ProductFamily()"
   ]
  },
  {
   "attachments": {},
   "cell_type": "markdown",
   "metadata": {},
   "source": [
    "# インポート"
   ]
  },
  {
   "cell_type": "code",
   "execution_count": 4,
   "metadata": {},
   "outputs": [
    {
     "data": {
      "text/html": [
       "<div>\n",
       "<style scoped>\n",
       "    .dataframe tbody tr th:only-of-type {\n",
       "        vertical-align: middle;\n",
       "    }\n",
       "\n",
       "    .dataframe tbody tr th {\n",
       "        vertical-align: top;\n",
       "    }\n",
       "\n",
       "    .dataframe thead th {\n",
       "        text-align: right;\n",
       "    }\n",
       "</style>\n",
       "<table border=\"1\" class=\"dataframe\">\n",
       "  <thead>\n",
       "    <tr style=\"text-align: right;\">\n",
       "      <th></th>\n",
       "      <th>functional_metric_id</th>\n",
       "      <th>functional_metric_name</th>\n",
       "      <th>product1</th>\n",
       "      <th>product2</th>\n",
       "      <th>product3</th>\n",
       "      <th>product4</th>\n",
       "    </tr>\n",
       "  </thead>\n",
       "  <tbody>\n",
       "    <tr>\n",
       "      <th>0</th>\n",
       "      <td>Fm1</td>\n",
       "      <td>Maximum speed</td>\n",
       "      <td>9</td>\n",
       "      <td>1</td>\n",
       "      <td>1</td>\n",
       "      <td>1</td>\n",
       "    </tr>\n",
       "    <tr>\n",
       "      <th>1</th>\n",
       "      <td>Fm2</td>\n",
       "      <td>Acceleration</td>\n",
       "      <td>9</td>\n",
       "      <td>1</td>\n",
       "      <td>1</td>\n",
       "      <td>1</td>\n",
       "    </tr>\n",
       "    <tr>\n",
       "      <th>2</th>\n",
       "      <td>Fm3</td>\n",
       "      <td>Role stability in high speed</td>\n",
       "      <td>5</td>\n",
       "      <td>9</td>\n",
       "      <td>5</td>\n",
       "      <td>5</td>\n",
       "    </tr>\n",
       "    <tr>\n",
       "      <th>3</th>\n",
       "      <td>Fm4</td>\n",
       "      <td>Role stability in low speed</td>\n",
       "      <td>5</td>\n",
       "      <td>9</td>\n",
       "      <td>5</td>\n",
       "      <td>5</td>\n",
       "    </tr>\n",
       "    <tr>\n",
       "      <th>4</th>\n",
       "      <td>Fm5</td>\n",
       "      <td>Yaw stability in high speed</td>\n",
       "      <td>5</td>\n",
       "      <td>9</td>\n",
       "      <td>5</td>\n",
       "      <td>5</td>\n",
       "    </tr>\n",
       "    <tr>\n",
       "      <th>5</th>\n",
       "      <td>Fm6</td>\n",
       "      <td>Yaw stability in low speed</td>\n",
       "      <td>5</td>\n",
       "      <td>9</td>\n",
       "      <td>5</td>\n",
       "      <td>5</td>\n",
       "    </tr>\n",
       "    <tr>\n",
       "      <th>6</th>\n",
       "      <td>Fm7</td>\n",
       "      <td>Reachable Distance in low speed</td>\n",
       "      <td>1</td>\n",
       "      <td>1</td>\n",
       "      <td>9</td>\n",
       "      <td>1</td>\n",
       "    </tr>\n",
       "    <tr>\n",
       "      <th>7</th>\n",
       "      <td>Fm8</td>\n",
       "      <td>Reachable Distance in high speed</td>\n",
       "      <td>1</td>\n",
       "      <td>1</td>\n",
       "      <td>9</td>\n",
       "      <td>1</td>\n",
       "    </tr>\n",
       "    <tr>\n",
       "      <th>8</th>\n",
       "      <td>Fm9</td>\n",
       "      <td>Reachable Distance in low speed (cloudy)</td>\n",
       "      <td>1</td>\n",
       "      <td>1</td>\n",
       "      <td>9</td>\n",
       "      <td>1</td>\n",
       "    </tr>\n",
       "    <tr>\n",
       "      <th>9</th>\n",
       "      <td>Fm10</td>\n",
       "      <td>Reachable Distance in high speed (cloudy)</td>\n",
       "      <td>1</td>\n",
       "      <td>1</td>\n",
       "      <td>9</td>\n",
       "      <td>1</td>\n",
       "    </tr>\n",
       "    <tr>\n",
       "      <th>10</th>\n",
       "      <td>Fm11</td>\n",
       "      <td>Minumum turning radius in low speed</td>\n",
       "      <td>1</td>\n",
       "      <td>5</td>\n",
       "      <td>1</td>\n",
       "      <td>9</td>\n",
       "    </tr>\n",
       "    <tr>\n",
       "      <th>11</th>\n",
       "      <td>Fm12</td>\n",
       "      <td>Minumum turning radius in high speed</td>\n",
       "      <td>1</td>\n",
       "      <td>5</td>\n",
       "      <td>1</td>\n",
       "      <td>9</td>\n",
       "    </tr>\n",
       "  </tbody>\n",
       "</table>\n",
       "</div>"
      ],
      "text/plain": [
       "   functional_metric_id                     functional_metric_name  product1  \\\n",
       "0                   Fm1                              Maximum speed         9   \n",
       "1                   Fm2                               Acceleration         9   \n",
       "2                   Fm3               Role stability in high speed         5   \n",
       "3                   Fm4                Role stability in low speed         5   \n",
       "4                   Fm5                Yaw stability in high speed         5   \n",
       "5                   Fm6                 Yaw stability in low speed         5   \n",
       "6                   Fm7            Reachable Distance in low speed         1   \n",
       "7                   Fm8           Reachable Distance in high speed         1   \n",
       "8                   Fm9   Reachable Distance in low speed (cloudy)         1   \n",
       "9                  Fm10  Reachable Distance in high speed (cloudy)         1   \n",
       "10                 Fm11        Minumum turning radius in low speed         1   \n",
       "11                 Fm12       Minumum turning radius in high speed         1   \n",
       "\n",
       "    product2  product3  product4  \n",
       "0          1         1         1  \n",
       "1          1         1         1  \n",
       "2          9         5         5  \n",
       "3          9         5         5  \n",
       "4          9         5         5  \n",
       "5          9         5         5  \n",
       "6          1         9         1  \n",
       "7          1         9         1  \n",
       "8          1         9         1  \n",
       "9          1         9         1  \n",
       "10         5         1         9  \n",
       "11         5         1         9  "
      ]
     },
     "execution_count": 4,
     "metadata": {},
     "output_type": "execute_result"
    }
   ],
   "source": [
    "filepath = './src/design_parameter_table.csv'\n",
    "df_dp = pd.read_csv(filepath, header=0, index_col=None)\n",
    "filepath = './src/product_definition_table.csv'\n",
    "df_product_definition = pd.read_csv(filepath, header=0, index_col=None)\n",
    "filepath = './src/product_model_1.csv'\n",
    "df_product_model = pd.read_csv(filepath, header=0, index_col=None)\n",
    "df_product_definition\n"
   ]
  },
  {
   "cell_type": "code",
   "execution_count": 5,
   "metadata": {},
   "outputs": [
    {
     "data": {
      "text/plain": [
       "[[0, 0],\n",
       " [1, 0],\n",
       " [2, 0],\n",
       " [3, 1],\n",
       " [4, 1],\n",
       " [5, 1],\n",
       " [6, 2],\n",
       " [7, 2],\n",
       " [8, 2],\n",
       " [9, 3],\n",
       " [10, 3],\n",
       " [11, 3],\n",
       " [12, 4],\n",
       " [13, 5],\n",
       " [14, 5],\n",
       " [15, 6],\n",
       " [16, 6],\n",
       " [17, 7],\n",
       " [18, 7],\n",
       " [19, 8],\n",
       " [20, 8],\n",
       " [21, 9],\n",
       " [22, 9]]"
      ]
     },
     "execution_count": 5,
     "metadata": {},
     "output_type": "execute_result"
    }
   ],
   "source": [
    "# numpy化\n",
    "importances = df_product_definition.iloc[:,2:].to_numpy()\n",
    "sensitivity = df_product_model.iloc[:,1:].to_numpy()\n",
    "dpcp = df_dp.loc[:,['design_parameter_id','component_id']].values.tolist()\n",
    "dpcp = [[int(s[0].replace('Dp', ''))-1, int(s[1].replace('Cp', ''))-1] for s in dpcp]\n",
    "\n",
    "# 変数定義\n",
    "n_pr = len(df_product_definition.columns)-2\n",
    "n_dp = len(df_product_model.columns)-1\n",
    "n_fm = len(df_product_definition)\n",
    "n_cp = len(df_dp[\"component_id\"].drop_duplicates())\n",
    "\n",
    "dpcp"
   ]
  },
  {
   "attachments": {},
   "cell_type": "markdown",
   "metadata": {},
   "source": [
    "# 事前算出"
   ]
  },
  {
   "attachments": {},
   "cell_type": "markdown",
   "metadata": {},
   "source": [
    "## 調整阻害度算出のための$C_p$間の重要度を算出"
   ]
  },
  {
   "cell_type": "code",
   "execution_count": 6,
   "metadata": {},
   "outputs": [],
   "source": [
    "# Dp間の重要度DSM\n",
    "dp_dsms = []\n",
    "\n",
    "for ipr in range(n_pr):\n",
    "    dp_dsm = []\n",
    "    for idp1 in range(n_dp-1):\n",
    "        for idp2 in range(idp1+1, n_dp):\n",
    "            imp = 0\n",
    "            for ifm in range(n_fm):\n",
    "                if sensitivity[ifm,idp1] > 0 and sensitivity[ifm,idp2] > 0:\n",
    "                    imp += importances[ifm,ipr]\n",
    "                    # print('dp1:'+str(idp1)+',dp2:'+str(idp2)+',fm:'+str(ifm)+',imp:'+str(importances[ifm,ipr]))\n",
    "            dp_dsm.append(imp)\n",
    "    dp_dsms.append(dp_dsm)\n",
    "# dp_dsms"
   ]
  },
  {
   "cell_type": "code",
   "execution_count": 7,
   "metadata": {},
   "outputs": [],
   "source": [
    "def comb_index2(idx1, idx2, n2):\n",
    "    #-----------------------\n",
    "    # 組み合わせインデックスから組み合わせ番号を返す\n",
    "    #  idx1/2: 組み合わせインデックス (1~n2)\n",
    "    #  n2: インデックスの最大値（1~n2)\n",
    "    #-----------------------\n",
    "\n",
    "    if idx1 >= idx2 or idx1 < 1 or idx1 > n2 or idx2 < 1 or idx2 > n2:\n",
    "        print('エラー')\n",
    "\n",
    "    s = 0\n",
    "    for i in range(1, idx1):\n",
    "        s += (n2 - i)\n",
    "    s += (idx2 - idx1)\n",
    "    return s"
   ]
  },
  {
   "cell_type": "code",
   "execution_count": 8,
   "metadata": {},
   "outputs": [],
   "source": [
    "# Cp間の重要度DSM\n",
    "cp_dsms = []\n",
    "\n",
    "for ipr in range(n_pr):\n",
    "    cp_dsm = []\n",
    "    for icp1 in range(n_cp-1):\n",
    "        idps1 = [s[0] for s in dpcp if s[1]==icp1]\n",
    "        for icp2 in range(icp1+1, n_cp):\n",
    "            idps2 = [s[0] for s in dpcp if s[1]==icp2]\n",
    "\n",
    "            imp = 0\n",
    "            for idp1 in idps1:\n",
    "                for idp2 in idps2:\n",
    "                    imp += int(dp_dsms[ipr][comb_index2(icp1+1, icp2+1, n_cp)-1])\n",
    "            cp_dsm.append(imp)\n",
    "    cp_dsms.append(cp_dsm)\n",
    "# cp_dsms\n"
   ]
  },
  {
   "attachments": {
    "image.png": {
     "image/png": "[encoded data removed]"
    }
   },
   "cell_type": "markdown",
   "metadata": {},
   "source": [
    "## 設計方針ベクトル$\\bm{D}_{ij}$の算出\n",
    "\n",
    "![image.png](attachment:image.png)"
   ]
  },
  {
   "cell_type": "code",
   "execution_count": 9,
   "metadata": {},
   "outputs": [],
   "source": [
    "# 設計方針ベクトルの算出\n",
    "design_policy = np.zeros((n_pr, n_dp, n_fm))\n",
    "\n",
    "# i:製品，j:設計変数，k:機能尺度\n",
    "for ipr in range(n_pr):\n",
    "    for idp in range(n_dp):\n",
    "        for ifm in range(n_fm):\n",
    "            design_policy[ipr,idp,ifm] = importances[ifm,ipr] * sensitivity[ifm,idp]\n",
    "#design_policy"
   ]
  },
  {
   "attachments": {},
   "cell_type": "markdown",
   "metadata": {},
   "source": [
    "### 設計方針ベクトルの可視化"
   ]
  },
  {
   "cell_type": "code",
   "execution_count": 10,
   "metadata": {},
   "outputs": [
    {
     "data": {
      "text/html": [
       "        <script type=\"text/javascript\">\n",
       "        window.PlotlyConfig = {MathJaxConfig: 'local'};\n",
       "        if (window.MathJax && window.MathJax.Hub && window.MathJax.Hub.Config) {window.MathJax.Hub.Config({SVG: {font: \"STIX-Web\"}});}\n",
       "        if (typeof require !== 'undefined') {\n",
       "        require.undef(\"plotly\");\n",
       "        requirejs.config({\n",
       "            paths: {\n",
       "                'plotly': ['https://cdn.plot.ly/plotly-2.20.0.min']\n",
       "            }\n",
       "        });\n",
       "        require(['plotly'], function(Plotly) {\n",
       "            window._Plotly = Plotly;\n",
       "        });\n",
       "        }\n",
       "        </script>\n",
       "        "
      ]
     },
     "metadata": {},
     "output_type": "display_data"
    },
    {
     "data": {
      "application/vnd.plotly.v1+json": {
       "config": {
        "linkText": "Export to plot.ly",
        "plotlyServerURL": "https://plot.ly",
        "showLink": true
       },
       "data": [
        {
         "marker": {
          "color": "rgba(255, 153, 51, 1.0)",
          "line": {
           "width": 1.3
          },
          "opacity": 0.8,
          "size": 12,
          "symbol": "circle"
         },
         "mode": "markers",
         "name": "製品1",
         "textfont": {
          "color": "#4D5663"
         },
         "type": "scatter3d",
         "x": [
          -8.387699072518666
         ],
         "y": [
          9.905429227497494
         ],
         "z": [
          -3.3954345948505544
         ]
        },
        {
         "marker": {
          "color": "rgba(55, 128, 191, 1.0)",
          "line": {
           "width": 1.3
          },
          "opacity": 0.8,
          "size": 12,
          "symbol": "circle"
         },
         "mode": "markers",
         "name": "製品2",
         "textfont": {
          "color": "#4D5663"
         },
         "type": "scatter3d",
         "x": [
          6.5719496284028445
         ],
         "y": [
          1.8664360203728925
         ],
         "z": [
          9.237201668448646
         ]
        },
        {
         "marker": {
          "color": "rgba(50, 171, 96, 1.0)",
          "line": {
           "width": 1.3
          },
          "opacity": 0.8,
          "size": 12,
          "symbol": "circle"
         },
         "mode": "markers",
         "name": "製品3",
         "textfont": {
          "color": "#4D5663"
         },
         "type": "scatter3d",
         "x": [
          -12.876206858874115
         ],
         "y": [
          -8.842423212202418
         ],
         "z": [
          0.12185509339873735
         ]
        },
        {
         "marker": {
          "color": "rgba(128, 0, 128, 1.0)",
          "line": {
           "width": 1.3
          },
          "opacity": 0.8,
          "size": 12,
          "symbol": "circle"
         },
         "mode": "markers",
         "name": "製品4",
         "textfont": {
          "color": "#4D5663"
         },
         "type": "scatter3d",
         "x": [
          14.691956302989933
         ],
         "y": [
          -2.929442035667966
         ],
         "z": [
          -5.96362216699682
         ]
        }
       ],
       "layout": {
        "legend": {
         "bgcolor": "#F5F6F9",
         "font": {
          "color": "#4D5663"
         }
        },
        "paper_bgcolor": "#F5F6F9",
        "plot_bgcolor": "#F5F6F9",
        "scene": {
         "xaxis": {
          "gridcolor": "#9499A3",
          "showgrid": true,
          "tickfont": {
           "color": "#4D5663"
          },
          "title": {
           "font": {
            "color": "#4D5663"
           },
           "text": ""
          },
          "zerolinecolor": "#9499A3"
         },
         "yaxis": {
          "gridcolor": "#9499A3",
          "showgrid": true,
          "tickfont": {
           "color": "#4D5663"
          },
          "title": {
           "font": {
            "color": "#4D5663"
           },
           "text": ""
          },
          "zerolinecolor": "#9499A3"
         },
         "zaxis": {
          "gridcolor": "#9499A3",
          "showgrid": true,
          "tickfont": {
           "color": "#4D5663"
          },
          "title": {
           "font": {
            "color": "#4D5663"
           },
           "text": ""
          },
          "zerolinecolor": "#9499A3"
         }
        },
        "template": {
         "data": {
          "bar": [
           {
            "error_x": {
             "color": "#2a3f5f"
            },
            "error_y": {
             "color": "#2a3f5f"
            },
            "marker": {
             "line": {
              "color": "#E5ECF6",
              "width": 0.5
             },
             "pattern": {
              "fillmode": "overlay",
              "size": 10,
              "solidity": 0.2
             }
            },
            "type": "bar"
           }
          ],
          "barpolar": [
           {
            "marker": {
             "line": {
              "color": "#E5ECF6",
              "width": 0.5
             },
             "pattern": {
              "fillmode": "overlay",
              "size": 10,
              "solidity": 0.2
             }
            },
            "type": "barpolar"
           }
          ],
          "carpet": [
           {
            "aaxis": {
             "endlinecolor": "#2a3f5f",
             "gridcolor": "white",
             "linecolor": "white",
             "minorgridcolor": "white",
             "startlinecolor": "#2a3f5f"
            },
            "baxis": {
             "endlinecolor": "#2a3f5f",
             "gridcolor": "white",
             "linecolor": "white",
             "minorgridcolor": "white",
             "startlinecolor": "#2a3f5f"
            },
            "type": "carpet"
           }
          ],
          "choropleth": [
           {
            "colorbar": {
             "outlinewidth": 0,
             "ticks": ""
            },
            "type": "choropleth"
           }
          ],
          "contour": [
           {
            "colorbar": {
             "outlinewidth": 0,
             "ticks": ""
            },
            "colorscale": [
             [
              0,
              "#0d0887"
             ],
             [
              0.1111111111111111,
              "#46039f"
             ],
             [
              0.2222222222222222,
              "#7201a8"
             ],
             [
              0.3333333333333333,
              "#9c179e"
             ],
             [
              0.4444444444444444,
              "#bd3786"
             ],
             [
              0.5555555555555556,
              "#d8576b"
             ],
             [
              0.6666666666666666,
              "#ed7953"
             ],
             [
              0.7777777777777778,
              "#fb9f3a"
             ],
             [
              0.8888888888888888,
              "#fdca26"
             ],
             [
              1,
              "#f0f921"
             ]
            ],
            "type": "contour"
           }
          ],
          "contourcarpet": [
           {
            "colorbar": {
             "outlinewidth": 0,
             "ticks": ""
            },
            "type": "contourcarpet"
           }
          ],
          "heatmap": [
           {
            "colorbar": {
             "outlinewidth": 0,
             "ticks": ""
            },
            "colorscale": [
             [
              0,
              "#0d0887"
             ],
             [
              0.1111111111111111,
              "#46039f"
             ],
             [
              0.2222222222222222,
              "#7201a8"
             ],
             [
              0.3333333333333333,
              "#9c179e"
             ],
             [
              0.4444444444444444,
              "#bd3786"
             ],
             [
              0.5555555555555556,
              "#d8576b"
             ],
             [
              0.6666666666666666,
              "#ed7953"
             ],
             [
              0.7777777777777778,
              "#fb9f3a"
             ],
             [
              0.8888888888888888,
              "#fdca26"
             ],
             [
              1,
              "#f0f921"
             ]
            ],
            "type": "heatmap"
           }
          ],
          "heatmapgl": [
           {
            "colorbar": {
             "outlinewidth": 0,
             "ticks": ""
            },
            "colorscale": [
             [
              0,
              "#0d0887"
             ],
             [
              0.1111111111111111,
              "#46039f"
             ],
             [
              0.2222222222222222,
              "#7201a8"
             ],
             [
              0.3333333333333333,
              "#9c179e"
             ],
             [
              0.4444444444444444,
              "#bd3786"
             ],
             [
              0.5555555555555556,
              "#d8576b"
             ],
             [
              0.6666666666666666,
              "#ed7953"
             ],
             [
              0.7777777777777778,
              "#fb9f3a"
             ],
             [
              0.8888888888888888,
              "#fdca26"
             ],
             [
              1,
              "#f0f921"
             ]
            ],
            "type": "heatmapgl"
           }
          ],
          "histogram": [
           {
            "marker": {
             "pattern": {
              "fillmode": "overlay",
              "size": 10,
              "solidity": 0.2
             }
            },
            "type": "histogram"
           }
          ],
          "histogram2d": [
           {
            "colorbar": {
             "outlinewidth": 0,
             "ticks": ""
            },
            "colorscale": [
             [
              0,
              "#0d0887"
             ],
             [
              0.1111111111111111,
              "#46039f"
             ],
             [
              0.2222222222222222,
              "#7201a8"
             ],
             [
              0.3333333333333333,
              "#9c179e"
             ],
             [
              0.4444444444444444,
              "#bd3786"
             ],
             [
              0.5555555555555556,
              "#d8576b"
             ],
             [
              0.6666666666666666,
              "#ed7953"
             ],
             [
              0.7777777777777778,
              "#fb9f3a"
             ],
             [
              0.8888888888888888,
              "#fdca26"
             ],
             [
              1,
              "#f0f921"
             ]
            ],
            "type": "histogram2d"
           }
          ],
          "histogram2dcontour": [
           {
            "colorbar": {
             "outlinewidth": 0,
             "ticks": ""
            },
            "colorscale": [
             [
              0,
              "#0d0887"
             ],
             [
              0.1111111111111111,
              "#46039f"
             ],
             [
              0.2222222222222222,
              "#7201a8"
             ],
             [
              0.3333333333333333,
              "#9c179e"
             ],
             [
              0.4444444444444444,
              "#bd3786"
             ],
             [
              0.5555555555555556,
              "#d8576b"
             ],
             [
              0.6666666666666666,
              "#ed7953"
             ],
             [
              0.7777777777777778,
              "#fb9f3a"
             ],
             [
              0.8888888888888888,
              "#fdca26"
             ],
             [
              1,
              "#f0f921"
             ]
            ],
            "type": "histogram2dcontour"
           }
          ],
          "mesh3d": [
           {
            "colorbar": {
             "outlinewidth": 0,
             "ticks": ""
            },
            "type": "mesh3d"
           }
          ],
          "parcoords": [
           {
            "line": {
             "colorbar": {
              "outlinewidth": 0,
              "ticks": ""
             }
            },
            "type": "parcoords"
           }
          ],
          "pie": [
           {
            "automargin": true,
            "type": "pie"
           }
          ],
          "scatter": [
           {
            "fillpattern": {
             "fillmode": "overlay",
             "size": 10,
             "solidity": 0.2
            },
            "type": "scatter"
           }
          ],
          "scatter3d": [
           {
            "line": {
             "colorbar": {
              "outlinewidth": 0,
              "ticks": ""
             }
            },
            "marker": {
             "colorbar": {
              "outlinewidth": 0,
              "ticks": ""
             }
            },
            "type": "scatter3d"
           }
          ],
          "scattercarpet": [
           {
            "marker": {
             "colorbar": {
              "outlinewidth": 0,
              "ticks": ""
             }
            },
            "type": "scattercarpet"
           }
          ],
          "scattergeo": [
           {
            "marker": {
             "colorbar": {
              "outlinewidth": 0,
              "ticks": ""
             }
            },
            "type": "scattergeo"
           }
          ],
          "scattergl": [
           {
            "marker": {
             "colorbar": {
              "outlinewidth": 0,
              "ticks": ""
             }
            },
            "type": "scattergl"
           }
          ],
          "scattermapbox": [
           {
            "marker": {
             "colorbar": {
              "outlinewidth": 0,
              "ticks": ""
             }
            },
            "type": "scattermapbox"
           }
          ],
          "scatterpolar": [
           {
            "marker": {
             "colorbar": {
              "outlinewidth": 0,
              "ticks": ""
             }
            },
            "type": "scatterpolar"
           }
          ],
          "scatterpolargl": [
           {
            "marker": {
             "colorbar": {
              "outlinewidth": 0,
              "ticks": ""
             }
            },
            "type": "scatterpolargl"
           }
          ],
          "scatterternary": [
           {
            "marker": {
             "colorbar": {
              "outlinewidth": 0,
              "ticks": ""
             }
            },
            "type": "scatterternary"
           }
          ],
          "surface": [
           {
            "colorbar": {
             "outlinewidth": 0,
             "ticks": ""
            },
            "colorscale": [
             [
              0,
              "#0d0887"
             ],
             [
              0.1111111111111111,
              "#46039f"
             ],
             [
              0.2222222222222222,
              "#7201a8"
             ],
             [
              0.3333333333333333,
              "#9c179e"
             ],
             [
              0.4444444444444444,
              "#bd3786"
             ],
             [
              0.5555555555555556,
              "#d8576b"
             ],
             [
              0.6666666666666666,
              "#ed7953"
             ],
             [
              0.7777777777777778,
              "#fb9f3a"
             ],
             [
              0.8888888888888888,
              "#fdca26"
             ],
             [
              1,
              "#f0f921"
             ]
            ],
            "type": "surface"
           }
          ],
          "table": [
           {
            "cells": {
             "fill": {
              "color": "#EBF0F8"
             },
             "line": {
              "color": "white"
             }
            },
            "header": {
             "fill": {
              "color": "#C8D4E3"
             },
             "line": {
              "color": "white"
             }
            },
            "type": "table"
           }
          ]
         },
         "layout": {
          "annotationdefaults": {
           "arrowcolor": "#2a3f5f",
           "arrowhead": 0,
           "arrowwidth": 1
          },
          "autotypenumbers": "strict",
          "coloraxis": {
           "colorbar": {
            "outlinewidth": 0,
            "ticks": ""
           }
          },
          "colorscale": {
           "diverging": [
            [
             0,
             "#8e0152"
            ],
            [
             0.1,
             "#c51b7d"
            ],
            [
             0.2,
             "#de77ae"
            ],
            [
             0.3,
             "#f1b6da"
            ],
            [
             0.4,
             "#fde0ef"
            ],
            [
             0.5,
             "#f7f7f7"
            ],
            [
             0.6,
             "#e6f5d0"
            ],
            [
             0.7,
             "#b8e186"
            ],
            [
             0.8,
             "#7fbc41"
            ],
            [
             0.9,
             "#4d9221"
            ],
            [
             1,
             "#276419"
            ]
           ],
           "sequential": [
            [
             0,
             "#0d0887"
            ],
            [
             0.1111111111111111,
             "#46039f"
            ],
            [
             0.2222222222222222,
             "#7201a8"
            ],
            [
             0.3333333333333333,
             "#9c179e"
            ],
            [
             0.4444444444444444,
             "#bd3786"
            ],
            [
             0.5555555555555556,
             "#d8576b"
            ],
            [
             0.6666666666666666,
             "#ed7953"
            ],
            [
             0.7777777777777778,
             "#fb9f3a"
            ],
            [
             0.8888888888888888,
             "#fdca26"
            ],
            [
             1,
             "#f0f921"
            ]
           ],
           "sequentialminus": [
            [
             0,
             "#0d0887"
            ],
            [
             0.1111111111111111,
             "#46039f"
            ],
            [
             0.2222222222222222,
             "#7201a8"
            ],
            [
             0.3333333333333333,
             "#9c179e"
            ],
            [
             0.4444444444444444,
             "#bd3786"
            ],
            [
             0.5555555555555556,
             "#d8576b"
            ],
            [
             0.6666666666666666,
             "#ed7953"
            ],
            [
             0.7777777777777778,
             "#fb9f3a"
            ],
            [
             0.8888888888888888,
             "#fdca26"
            ],
            [
             1,
             "#f0f921"
            ]
           ]
          },
          "colorway": [
           "#636efa",
           "#EF553B",
           "#00cc96",
           "#ab63fa",
           "#FFA15A",
           "#19d3f3",
           "#FF6692",
           "#B6E880",
           "#FF97FF",
           "#FECB52"
          ],
          "font": {
           "color": "#2a3f5f"
          },
          "geo": {
           "bgcolor": "white",
           "lakecolor": "white",
           "landcolor": "#E5ECF6",
           "showlakes": true,
           "showland": true,
           "subunitcolor": "white"
          },
          "hoverlabel": {
           "align": "left"
          },
          "hovermode": "closest",
          "mapbox": {
           "style": "light"
          },
          "paper_bgcolor": "white",
          "plot_bgcolor": "#E5ECF6",
          "polar": {
           "angularaxis": {
            "gridcolor": "white",
            "linecolor": "white",
            "ticks": ""
           },
           "bgcolor": "#E5ECF6",
           "radialaxis": {
            "gridcolor": "white",
            "linecolor": "white",
            "ticks": ""
           }
          },
          "scene": {
           "xaxis": {
            "backgroundcolor": "#E5ECF6",
            "gridcolor": "white",
            "gridwidth": 2,
            "linecolor": "white",
            "showbackground": true,
            "ticks": "",
            "zerolinecolor": "white"
           },
           "yaxis": {
            "backgroundcolor": "#E5ECF6",
            "gridcolor": "white",
            "gridwidth": 2,
            "linecolor": "white",
            "showbackground": true,
            "ticks": "",
            "zerolinecolor": "white"
           },
           "zaxis": {
            "backgroundcolor": "#E5ECF6",
            "gridcolor": "white",
            "gridwidth": 2,
            "linecolor": "white",
            "showbackground": true,
            "ticks": "",
            "zerolinecolor": "white"
           }
          },
          "shapedefaults": {
           "line": {
            "color": "#2a3f5f"
           }
          },
          "ternary": {
           "aaxis": {
            "gridcolor": "white",
            "linecolor": "white",
            "ticks": ""
           },
           "baxis": {
            "gridcolor": "white",
            "linecolor": "white",
            "ticks": ""
           },
           "bgcolor": "#E5ECF6",
           "caxis": {
            "gridcolor": "white",
            "linecolor": "white",
            "ticks": ""
           }
          },
          "title": {
           "x": 0.05
          },
          "xaxis": {
           "automargin": true,
           "gridcolor": "white",
           "linecolor": "white",
           "ticks": "",
           "title": {
            "standoff": 15
           },
           "zerolinecolor": "white",
           "zerolinewidth": 2
          },
          "yaxis": {
           "automargin": true,
           "gridcolor": "white",
           "linecolor": "white",
           "ticks": "",
           "title": {
            "standoff": 15
           },
           "zerolinecolor": "white",
           "zerolinewidth": 2
          }
         }
        },
        "title": {
         "font": {
          "color": "#4D5663"
         }
        }
       }
      },
      "text/html": [
       "<div>                            <div id=\"9ca52c11-dc12-42b0-9be3-29096d803ed3\" class=\"plotly-graph-div\" style=\"height:525px; width:100%;\"></div>            <script type=\"text/javascript\">                require([\"plotly\"], function(Plotly) {                    window.PLOTLYENV=window.PLOTLYENV || {};\n",
       "                    window.PLOTLYENV.BASE_URL='https://plot.ly';                                    if (document.getElementById(\"9ca52c11-dc12-42b0-9be3-29096d803ed3\")) {                    Plotly.newPlot(                        \"9ca52c11-dc12-42b0-9be3-29096d803ed3\",                        [{\"marker\":{\"color\":\"rgba(255, 153, 51, 1.0)\",\"line\":{\"width\":1.3},\"opacity\":0.8,\"size\":12,\"symbol\":\"circle\"},\"mode\":\"markers\",\"name\":\"\\u88fd\\u54c11\",\"textfont\":{\"color\":\"#4D5663\"},\"x\":[-8.387699072518666],\"y\":[9.905429227497494],\"z\":[-3.3954345948505544],\"type\":\"scatter3d\"},{\"marker\":{\"color\":\"rgba(55, 128, 191, 1.0)\",\"line\":{\"width\":1.3},\"opacity\":0.8,\"size\":12,\"symbol\":\"circle\"},\"mode\":\"markers\",\"name\":\"\\u88fd\\u54c12\",\"textfont\":{\"color\":\"#4D5663\"},\"x\":[6.5719496284028445],\"y\":[1.8664360203728925],\"z\":[9.237201668448646],\"type\":\"scatter3d\"},{\"marker\":{\"color\":\"rgba(50, 171, 96, 1.0)\",\"line\":{\"width\":1.3},\"opacity\":0.8,\"size\":12,\"symbol\":\"circle\"},\"mode\":\"markers\",\"name\":\"\\u88fd\\u54c13\",\"textfont\":{\"color\":\"#4D5663\"},\"x\":[-12.876206858874115],\"y\":[-8.842423212202418],\"z\":[0.12185509339873735],\"type\":\"scatter3d\"},{\"marker\":{\"color\":\"rgba(128, 0, 128, 1.0)\",\"line\":{\"width\":1.3},\"opacity\":0.8,\"size\":12,\"symbol\":\"circle\"},\"mode\":\"markers\",\"name\":\"\\u88fd\\u54c14\",\"textfont\":{\"color\":\"#4D5663\"},\"x\":[14.691956302989933],\"y\":[-2.929442035667966],\"z\":[-5.96362216699682],\"type\":\"scatter3d\"}],                        {\"legend\":{\"bgcolor\":\"#F5F6F9\",\"font\":{\"color\":\"#4D5663\"}},\"paper_bgcolor\":\"#F5F6F9\",\"plot_bgcolor\":\"#F5F6F9\",\"scene\":{\"xaxis\":{\"gridcolor\":\"#9499A3\",\"showgrid\":true,\"tickfont\":{\"color\":\"#4D5663\"},\"title\":{\"font\":{\"color\":\"#4D5663\"},\"text\":\"\"},\"zerolinecolor\":\"#9499A3\"},\"yaxis\":{\"gridcolor\":\"#9499A3\",\"showgrid\":true,\"tickfont\":{\"color\":\"#4D5663\"},\"title\":{\"font\":{\"color\":\"#4D5663\"},\"text\":\"\"},\"zerolinecolor\":\"#9499A3\"},\"zaxis\":{\"gridcolor\":\"#9499A3\",\"showgrid\":true,\"tickfont\":{\"color\":\"#4D5663\"},\"title\":{\"font\":{\"color\":\"#4D5663\"},\"text\":\"\"},\"zerolinecolor\":\"#9499A3\"}},\"template\":{\"data\":{\"barpolar\":[{\"marker\":{\"line\":{\"color\":\"#E5ECF6\",\"width\":0.5},\"pattern\":{\"fillmode\":\"overlay\",\"size\":10,\"solidity\":0.2}},\"type\":\"barpolar\"}],\"bar\":[{\"error_x\":{\"color\":\"#2a3f5f\"},\"error_y\":{\"color\":\"#2a3f5f\"},\"marker\":{\"line\":{\"color\":\"#E5ECF6\",\"width\":0.5},\"pattern\":{\"fillmode\":\"overlay\",\"size\":10,\"solidity\":0.2}},\"type\":\"bar\"}],\"carpet\":[{\"aaxis\":{\"endlinecolor\":\"#2a3f5f\",\"gridcolor\":\"white\",\"linecolor\":\"white\",\"minorgridcolor\":\"white\",\"startlinecolor\":\"#2a3f5f\"},\"baxis\":{\"endlinecolor\":\"#2a3f5f\",\"gridcolor\":\"white\",\"linecolor\":\"white\",\"minorgridcolor\":\"white\",\"startlinecolor\":\"#2a3f5f\"},\"type\":\"carpet\"}],\"choropleth\":[{\"colorbar\":{\"outlinewidth\":0,\"ticks\":\"\"},\"type\":\"choropleth\"}],\"contourcarpet\":[{\"colorbar\":{\"outlinewidth\":0,\"ticks\":\"\"},\"type\":\"contourcarpet\"}],\"contour\":[{\"colorbar\":{\"outlinewidth\":0,\"ticks\":\"\"},\"colorscale\":[[0.0,\"#0d0887\"],[0.1111111111111111,\"#46039f\"],[0.2222222222222222,\"#7201a8\"],[0.3333333333333333,\"#9c179e\"],[0.4444444444444444,\"#bd3786\"],[0.5555555555555556,\"#d8576b\"],[0.6666666666666666,\"#ed7953\"],[0.7777777777777778,\"#fb9f3a\"],[0.8888888888888888,\"#fdca26\"],[1.0,\"#f0f921\"]],\"type\":\"contour\"}],\"heatmapgl\":[{\"colorbar\":{\"outlinewidth\":0,\"ticks\":\"\"},\"colorscale\":[[0.0,\"#0d0887\"],[0.1111111111111111,\"#46039f\"],[0.2222222222222222,\"#7201a8\"],[0.3333333333333333,\"#9c179e\"],[0.4444444444444444,\"#bd3786\"],[0.5555555555555556,\"#d8576b\"],[0.6666666666666666,\"#ed7953\"],[0.7777777777777778,\"#fb9f3a\"],[0.8888888888888888,\"#fdca26\"],[1.0,\"#f0f921\"]],\"type\":\"heatmapgl\"}],\"heatmap\":[{\"colorbar\":{\"outlinewidth\":0,\"ticks\":\"\"},\"colorscale\":[[0.0,\"#0d0887\"],[0.1111111111111111,\"#46039f\"],[0.2222222222222222,\"#7201a8\"],[0.3333333333333333,\"#9c179e\"],[0.4444444444444444,\"#bd3786\"],[0.5555555555555556,\"#d8576b\"],[0.6666666666666666,\"#ed7953\"],[0.7777777777777778,\"#fb9f3a\"],[0.8888888888888888,\"#fdca26\"],[1.0,\"#f0f921\"]],\"type\":\"heatmap\"}],\"histogram2dcontour\":[{\"colorbar\":{\"outlinewidth\":0,\"ticks\":\"\"},\"colorscale\":[[0.0,\"#0d0887\"],[0.1111111111111111,\"#46039f\"],[0.2222222222222222,\"#7201a8\"],[0.3333333333333333,\"#9c179e\"],[0.4444444444444444,\"#bd3786\"],[0.5555555555555556,\"#d8576b\"],[0.6666666666666666,\"#ed7953\"],[0.7777777777777778,\"#fb9f3a\"],[0.8888888888888888,\"#fdca26\"],[1.0,\"#f0f921\"]],\"type\":\"histogram2dcontour\"}],\"histogram2d\":[{\"colorbar\":{\"outlinewidth\":0,\"ticks\":\"\"},\"colorscale\":[[0.0,\"#0d0887\"],[0.1111111111111111,\"#46039f\"],[0.2222222222222222,\"#7201a8\"],[0.3333333333333333,\"#9c179e\"],[0.4444444444444444,\"#bd3786\"],[0.5555555555555556,\"#d8576b\"],[0.6666666666666666,\"#ed7953\"],[0.7777777777777778,\"#fb9f3a\"],[0.8888888888888888,\"#fdca26\"],[1.0,\"#f0f921\"]],\"type\":\"histogram2d\"}],\"histogram\":[{\"marker\":{\"pattern\":{\"fillmode\":\"overlay\",\"size\":10,\"solidity\":0.2}},\"type\":\"histogram\"}],\"mesh3d\":[{\"colorbar\":{\"outlinewidth\":0,\"ticks\":\"\"},\"type\":\"mesh3d\"}],\"parcoords\":[{\"line\":{\"colorbar\":{\"outlinewidth\":0,\"ticks\":\"\"}},\"type\":\"parcoords\"}],\"pie\":[{\"automargin\":true,\"type\":\"pie\"}],\"scatter3d\":[{\"line\":{\"colorbar\":{\"outlinewidth\":0,\"ticks\":\"\"}},\"marker\":{\"colorbar\":{\"outlinewidth\":0,\"ticks\":\"\"}},\"type\":\"scatter3d\"}],\"scattercarpet\":[{\"marker\":{\"colorbar\":{\"outlinewidth\":0,\"ticks\":\"\"}},\"type\":\"scattercarpet\"}],\"scattergeo\":[{\"marker\":{\"colorbar\":{\"outlinewidth\":0,\"ticks\":\"\"}},\"type\":\"scattergeo\"}],\"scattergl\":[{\"marker\":{\"colorbar\":{\"outlinewidth\":0,\"ticks\":\"\"}},\"type\":\"scattergl\"}],\"scattermapbox\":[{\"marker\":{\"colorbar\":{\"outlinewidth\":0,\"ticks\":\"\"}},\"type\":\"scattermapbox\"}],\"scatterpolargl\":[{\"marker\":{\"colorbar\":{\"outlinewidth\":0,\"ticks\":\"\"}},\"type\":\"scatterpolargl\"}],\"scatterpolar\":[{\"marker\":{\"colorbar\":{\"outlinewidth\":0,\"ticks\":\"\"}},\"type\":\"scatterpolar\"}],\"scatter\":[{\"fillpattern\":{\"fillmode\":\"overlay\",\"size\":10,\"solidity\":0.2},\"type\":\"scatter\"}],\"scatterternary\":[{\"marker\":{\"colorbar\":{\"outlinewidth\":0,\"ticks\":\"\"}},\"type\":\"scatterternary\"}],\"surface\":[{\"colorbar\":{\"outlinewidth\":0,\"ticks\":\"\"},\"colorscale\":[[0.0,\"#0d0887\"],[0.1111111111111111,\"#46039f\"],[0.2222222222222222,\"#7201a8\"],[0.3333333333333333,\"#9c179e\"],[0.4444444444444444,\"#bd3786\"],[0.5555555555555556,\"#d8576b\"],[0.6666666666666666,\"#ed7953\"],[0.7777777777777778,\"#fb9f3a\"],[0.8888888888888888,\"#fdca26\"],[1.0,\"#f0f921\"]],\"type\":\"surface\"}],\"table\":[{\"cells\":{\"fill\":{\"color\":\"#EBF0F8\"},\"line\":{\"color\":\"white\"}},\"header\":{\"fill\":{\"color\":\"#C8D4E3\"},\"line\":{\"color\":\"white\"}},\"type\":\"table\"}]},\"layout\":{\"annotationdefaults\":{\"arrowcolor\":\"#2a3f5f\",\"arrowhead\":0,\"arrowwidth\":1},\"autotypenumbers\":\"strict\",\"coloraxis\":{\"colorbar\":{\"outlinewidth\":0,\"ticks\":\"\"}},\"colorscale\":{\"diverging\":[[0,\"#8e0152\"],[0.1,\"#c51b7d\"],[0.2,\"#de77ae\"],[0.3,\"#f1b6da\"],[0.4,\"#fde0ef\"],[0.5,\"#f7f7f7\"],[0.6,\"#e6f5d0\"],[0.7,\"#b8e186\"],[0.8,\"#7fbc41\"],[0.9,\"#4d9221\"],[1,\"#276419\"]],\"sequential\":[[0.0,\"#0d0887\"],[0.1111111111111111,\"#46039f\"],[0.2222222222222222,\"#7201a8\"],[0.3333333333333333,\"#9c179e\"],[0.4444444444444444,\"#bd3786\"],[0.5555555555555556,\"#d8576b\"],[0.6666666666666666,\"#ed7953\"],[0.7777777777777778,\"#fb9f3a\"],[0.8888888888888888,\"#fdca26\"],[1.0,\"#f0f921\"]],\"sequentialminus\":[[0.0,\"#0d0887\"],[0.1111111111111111,\"#46039f\"],[0.2222222222222222,\"#7201a8\"],[0.3333333333333333,\"#9c179e\"],[0.4444444444444444,\"#bd3786\"],[0.5555555555555556,\"#d8576b\"],[0.6666666666666666,\"#ed7953\"],[0.7777777777777778,\"#fb9f3a\"],[0.8888888888888888,\"#fdca26\"],[1.0,\"#f0f921\"]]},\"colorway\":[\"#636efa\",\"#EF553B\",\"#00cc96\",\"#ab63fa\",\"#FFA15A\",\"#19d3f3\",\"#FF6692\",\"#B6E880\",\"#FF97FF\",\"#FECB52\"],\"font\":{\"color\":\"#2a3f5f\"},\"geo\":{\"bgcolor\":\"white\",\"lakecolor\":\"white\",\"landcolor\":\"#E5ECF6\",\"showlakes\":true,\"showland\":true,\"subunitcolor\":\"white\"},\"hoverlabel\":{\"align\":\"left\"},\"hovermode\":\"closest\",\"mapbox\":{\"style\":\"light\"},\"paper_bgcolor\":\"white\",\"plot_bgcolor\":\"#E5ECF6\",\"polar\":{\"angularaxis\":{\"gridcolor\":\"white\",\"linecolor\":\"white\",\"ticks\":\"\"},\"bgcolor\":\"#E5ECF6\",\"radialaxis\":{\"gridcolor\":\"white\",\"linecolor\":\"white\",\"ticks\":\"\"}},\"scene\":{\"xaxis\":{\"backgroundcolor\":\"#E5ECF6\",\"gridcolor\":\"white\",\"gridwidth\":2,\"linecolor\":\"white\",\"showbackground\":true,\"ticks\":\"\",\"zerolinecolor\":\"white\"},\"yaxis\":{\"backgroundcolor\":\"#E5ECF6\",\"gridcolor\":\"white\",\"gridwidth\":2,\"linecolor\":\"white\",\"showbackground\":true,\"ticks\":\"\",\"zerolinecolor\":\"white\"},\"zaxis\":{\"backgroundcolor\":\"#E5ECF6\",\"gridcolor\":\"white\",\"gridwidth\":2,\"linecolor\":\"white\",\"showbackground\":true,\"ticks\":\"\",\"zerolinecolor\":\"white\"}},\"shapedefaults\":{\"line\":{\"color\":\"#2a3f5f\"}},\"ternary\":{\"aaxis\":{\"gridcolor\":\"white\",\"linecolor\":\"white\",\"ticks\":\"\"},\"baxis\":{\"gridcolor\":\"white\",\"linecolor\":\"white\",\"ticks\":\"\"},\"bgcolor\":\"#E5ECF6\",\"caxis\":{\"gridcolor\":\"white\",\"linecolor\":\"white\",\"ticks\":\"\"}},\"title\":{\"x\":0.05},\"xaxis\":{\"automargin\":true,\"gridcolor\":\"white\",\"linecolor\":\"white\",\"ticks\":\"\",\"title\":{\"standoff\":15},\"zerolinecolor\":\"white\",\"zerolinewidth\":2},\"yaxis\":{\"automargin\":true,\"gridcolor\":\"white\",\"linecolor\":\"white\",\"ticks\":\"\",\"title\":{\"standoff\":15},\"zerolinecolor\":\"white\",\"zerolinewidth\":2}}},\"title\":{\"font\":{\"color\":\"#4D5663\"}}},                        {\"showLink\": true, \"linkText\": \"Export to plot.ly\", \"plotlyServerURL\": \"https://plot.ly\", \"responsive\": true}                    ).then(function(){\n",
       "                            \n",
       "var gd = document.getElementById('9ca52c11-dc12-42b0-9be3-29096d803ed3');\n",
       "var x = new MutationObserver(function (mutations, observer) {{\n",
       "        var display = window.getComputedStyle(gd).display;\n",
       "        if (!display || display === 'none') {{\n",
       "            console.log([gd, 'removed!']);\n",
       "            Plotly.purge(gd);\n",
       "            observer.disconnect();\n",
       "        }}\n",
       "}});\n",
       "\n",
       "// Listen for the removal of the full notebook cells\n",
       "var notebookContainer = gd.closest('#notebook-container');\n",
       "if (notebookContainer) {{\n",
       "    x.observe(notebookContainer, {childList: true});\n",
       "}}\n",
       "\n",
       "// Listen for the clearing of the current output cell\n",
       "var outputEl = gd.closest('.output');\n",
       "if (outputEl) {{\n",
       "    x.observe(outputEl, {childList: true});\n",
       "}}\n",
       "\n",
       "                        })                };                });            </script>        </div>"
      ]
     },
     "metadata": {},
     "output_type": "display_data"
    }
   ],
   "source": [
    "df0 = pd.DataFrame(data=design_policy[:,3,:],index=['製品1', '製品2', '製品3', '製品4'],columns=[\"Fm{}\".format(x + 1) for x in range(n_fm)])\n",
    "# import seaborn as sns\n",
    "# sns.pairplot(df0)\n",
    "\n",
    "# 主成分分析の実行\n",
    "pca = PCA(n_components=3)\n",
    "x = pca.fit_transform(df0.values)   # PCAで次元圧縮\n",
    "embed3 = pd.DataFrame(x,index=['製品1', '製品2', '製品3', '製品4']) # 可視化のためにデータフレームに変換\n",
    "embed3[\"label\"] = ['製品1', '製品2', '製品3', '製品4']              \n",
    "# embed3  # データフレームの先頭を表示\n",
    "\n",
    "import cufflinks as cf\n",
    "cf.go_offline()\n",
    "cf.set_config_file(offline=False, world_readable=True)\n",
    "embed3.iplot(kind=\"scatter3d\", x=0,y=1,z=2, categories=\"label\")"
   ]
  },
  {
   "attachments": {},
   "cell_type": "markdown",
   "metadata": {},
   "source": [
    "# 初期化"
   ]
  },
  {
   "attachments": {},
   "cell_type": "markdown",
   "metadata": {},
   "source": [
    "## 染色体の初期化"
   ]
  },
  {
   "cell_type": "code",
   "execution_count": 11,
   "metadata": {},
   "outputs": [],
   "source": [
    "def comb_index(n1, n2):\n",
    "    #-----------------------\n",
    "    # 組み合わせ番号から2つの組み合わせのインデックスを返す\n",
    "    #  n1: 組み合わせ番号 (1~)\n",
    "    #  n2: インデックスの最大値（1~n2)\n",
    "    #-----------------------\n",
    "\n",
    "    cnt = 0\n",
    "    for i in range(n2-1):\n",
    "        for j in range(i+1, n2):\n",
    "            cnt += 1\n",
    "            if cnt == n1:\n",
    "\n",
    "                return [i+1, j+1]"
   ]
  },
  {
   "cell_type": "code",
   "execution_count": 12,
   "metadata": {},
   "outputs": [
    {
     "name": "stdout",
     "output_type": "stream",
     "text": [
      "構成部位1, 製品2 x 製品4\n",
      "構成部位2, 製品1 x 製品2\n",
      "構成部位2, 製品2 x 製品4\n",
      "構成部位3, 製品1 x 製品2\n",
      "構成部位3, 製品3 x 製品4\n",
      "構成部位4, 製品1 x 製品2\n",
      "構成部位4, 製品3 x 製品4\n",
      "構成部位5, 製品1 x 製品4\n",
      "構成部位5, 製品2 x 製品3\n",
      "構成部位5, 製品2 x 製品4\n",
      "構成部位6, 製品1 x 製品3\n",
      "構成部位6, 製品1 x 製品4\n",
      "構成部位6, 製品2 x 製品4\n",
      "構成部位6, 製品3 x 製品4\n",
      "構成部位7, 製品1 x 製品3\n",
      "構成部位7, 製品1 x 製品4\n",
      "構成部位7, 製品2 x 製品3\n",
      "構成部位7, 製品2 x 製品4\n",
      "構成部位8, 製品1 x 製品2\n",
      "構成部位8, 製品1 x 製品4\n",
      "構成部位9, 製品1 x 製品2\n",
      "構成部位9, 製品1 x 製品4\n",
      "構成部位9, 製品2 x 製品3\n",
      "構成部位9, 製品2 x 製品4\n",
      "構成部位9, 製品3 x 製品4\n",
      "構成部位10, 製品1 x 製品2\n",
      "構成部位10, 製品1 x 製品4\n",
      "構成部位10, 製品2 x 製品3\n"
     ]
    }
   ],
   "source": [
    "# 構成部位が共通か個別かを判断する染色体の遺伝子座の長さは，(n_pr)_C_2 * n_cp である．ただし，nは製品数．\n",
    "chromosome = np.zeros(math.comb(n_pr, 2) * n_cp, dtype=int)\n",
    "\n",
    "# 遺伝子の初期化ランダム\n",
    "for i, c in enumerate(chromosome):\n",
    "    chromosome[i] = random.randrange(2)\n",
    "\n",
    "for i, c in enumerate(chromosome):\n",
    "    if c == 1:\n",
    "        icp = math.floor(float(i) / math.comb(n_pr, 2))+1\n",
    "        icmb = i % math.comb(n_pr, 2) + 1\n",
    "        iprs = comb_index(icmb,n_pr)\n",
    "        print('構成部位' + str(icp) + ', 製品' + str(iprs[0]) + ' x 製品' + str(iprs[1]))"
   ]
  },
  {
   "cell_type": "code",
   "execution_count": 13,
   "metadata": {},
   "outputs": [],
   "source": [
    "#1\n",
    "chromosome[0]=1 #1x2\n",
    "chromosome[1]=0 #1x3\n",
    "chromosome[2]=0 #1x4\n",
    "chromosome[3]=0 #2x3\n",
    "chromosome[4]=0 #2x4\n",
    "chromosome[5]=1 #3x4\n",
    "#2\n",
    "chromosome[6]=0 #1x2\n",
    "chromosome[7]=1 #1x3\n",
    "chromosome[8]=0 #1x4\n",
    "chromosome[9]=0 #2x3\n",
    "chromosome[10]=1 #2x4\n",
    "chromosome[11]=1 #3x4\n"
   ]
  },
  {
   "attachments": {},
   "cell_type": "markdown",
   "metadata": {},
   "source": [
    "## 共通設計変数$D_p$のリスト化"
   ]
  },
  {
   "cell_type": "code",
   "execution_count": 15,
   "metadata": {},
   "outputs": [
    {
     "name": "stdout",
     "output_type": "stream",
     "text": [
      "4\n"
     ]
    },
    {
     "data": {
      "text/plain": [
       "[['Cp1', 'Dp1', ['Pr1', 'Pr2']],\n",
       " ['Cp1', 'Dp2', ['Pr1', 'Pr2']],\n",
       " ['Cp1', 'Dp3', ['Pr1', 'Pr2']],\n",
       " ['Cp1', 'Dp1', ['Pr3', 'Pr4']],\n",
       " ['Cp1', 'Dp2', ['Pr3', 'Pr4']],\n",
       " ['Cp1', 'Dp3', ['Pr3', 'Pr4']],\n",
       " ['Cp2', 'Dp4', ['Pr2', 'Pr4', 'Pr1', 'Pr3']],\n",
       " ['Cp2', 'Dp5', ['Pr2', 'Pr4', 'Pr1', 'Pr3']],\n",
       " ['Cp2', 'Dp6', ['Pr2', 'Pr4', 'Pr1', 'Pr3']],\n",
       " ['Cp3', 'Dp7', ['Pr1', 'Pr2']],\n",
       " ['Cp3', 'Dp8', ['Pr1', 'Pr2']],\n",
       " ['Cp3', 'Dp9', ['Pr1', 'Pr2']],\n",
       " ['Cp3', 'Dp7', ['Pr3', 'Pr4']],\n",
       " ['Cp3', 'Dp8', ['Pr3', 'Pr4']],\n",
       " ['Cp3', 'Dp9', ['Pr3', 'Pr4']],\n",
       " ['Cp4', 'Dp10', ['Pr1', 'Pr2']],\n",
       " ['Cp4', 'Dp11', ['Pr1', 'Pr2']],\n",
       " ['Cp4', 'Dp12', ['Pr1', 'Pr2']],\n",
       " ['Cp4', 'Dp10', ['Pr3', 'Pr4']],\n",
       " ['Cp4', 'Dp11', ['Pr3', 'Pr4']],\n",
       " ['Cp4', 'Dp12', ['Pr3', 'Pr4']],\n",
       " ['Cp5', 'Dp13', ['Pr2', 'Pr3', 'Pr1', 'Pr4']],\n",
       " ['Cp6', 'Dp14', ['Pr1', 'Pr2', 'Pr3', 'Pr4']],\n",
       " ['Cp6', 'Dp15', ['Pr1', 'Pr2', 'Pr3', 'Pr4']],\n",
       " ['Cp7', 'Dp16', ['Pr2', 'Pr3', 'Pr1', 'Pr4']],\n",
       " ['Cp7', 'Dp17', ['Pr2', 'Pr3', 'Pr1', 'Pr4']],\n",
       " ['Cp8', 'Dp18', ['Pr2', 'Pr1', 'Pr4']],\n",
       " ['Cp8', 'Dp19', ['Pr2', 'Pr1', 'Pr4']],\n",
       " ['Cp9', 'Dp20', ['Pr1', 'Pr2', 'Pr3', 'Pr4']],\n",
       " ['Cp9', 'Dp21', ['Pr1', 'Pr2', 'Pr3', 'Pr4']],\n",
       " ['Cp10', 'Dp22', ['Pr1', 'Pr2', 'Pr3', 'Pr4']],\n",
       " ['Cp10', 'Dp23', ['Pr1', 'Pr2', 'Pr3', 'Pr4']]]"
      ]
     },
     "execution_count": 15,
     "metadata": {},
     "output_type": "execute_result"
    }
   ],
   "source": [
    "\n",
    "def common_dp_list(chromosome):\n",
    "    # 共通化される設計変数を格納する\n",
    "    common_dp = []\n",
    "    tmp_1 = [] # [構成部位番号, 設計変数番号, [共通化される製品番号(複数)]] <- このリストを作成ための1次元目のリスト\n",
    "\n",
    "    for i, c in enumerate(chromosome):\n",
    "        if c == 1:\n",
    "            icp = math.floor(float(i) / math.comb(n_pr, 2))+1 # 構成部位番号\n",
    "            icmb = i % math.comb(n_pr, 2) + 1 # 組み合わせ番号（構成部位ごとに繰り返すので）\n",
    "            iprs = comb_index(icmb,n_pr) # [製品i, 製品j]のリスト\n",
    "            prs = ['Pr' + str(iprs[0]), 'Pr' + str(iprs[1])]\n",
    "\n",
    "            # 設計変数のループ\n",
    "            for dp in df_dp[df_dp.component_id == 'Cp' + str(icp)]['design_parameter_id']:\n",
    "                # 既配列で，設計変数が同じ，且つ，製品が同じものがあれば，そこに製品番号を追加する\n",
    "                # なければ，新規に配列を作成して追加する\n",
    "\n",
    "                # リストの連結役かどうかを判断\n",
    "                cnt = 0\n",
    "                save = []\n",
    "                for j, l1 in enumerate(common_dp):\n",
    "                    # 他の2要素をつなぐようなprsだったとき，それらのリストを連結する．\n",
    "                    # common_dp[X] > l1[2][0] == prs[0]\n",
    "                    # common_dp[Y] > l1[2][0] == prs[1]\n",
    "                    # となったときは，XとYを連結する必要あり．ただし，両方ともl1[1] == dpのときに限る．\n",
    "                    if l1[1] == dp:\n",
    "                        if prs[0] in l1[2] or prs[1] in l1[2]:\n",
    "                            cnt += 1\n",
    "                            save.append(j)\n",
    "\n",
    "                # リストの連結役のとき\n",
    "                is_comb = True\n",
    "                if cnt == 2:\n",
    "                    is_comb = False\n",
    "                    # 片方のリストを上書きして，もう片方のリストを削除する\n",
    "                    common_dp[save[0]][2] = list(set(common_dp[save[0]][2] + common_dp[save[1]][2])).copy()\n",
    "                    del common_dp[save[1]]\n",
    "\n",
    "                # リストの連結役ではないとき\n",
    "                if is_comb:\n",
    "                    is_new = True\n",
    "\n",
    "                    # 設計変数が同一 且つ 重複する製品番号が存在する場合，そのリストを更新する\n",
    "                    for j, l1 in enumerate(common_dp):\n",
    "                        if l1[1] == dp and len(set(prs) & set(l1[2])) != 0:\n",
    "                            is_new = False\n",
    "                            # 重複を削除(set)して上書きする\n",
    "                            l1[2] = list(set(prs + l1[2])).copy()\n",
    "                            break\n",
    "                        \n",
    "                    # 新規作成(追加)する場合の処理\n",
    "                    if is_new:\n",
    "                        tmp_1 = []\n",
    "                        tmp_1.append('Cp' + str(icp)) # 構成部位番号の追加\n",
    "                        tmp_1.append(dp) # 設計変数の追加\n",
    "                        tmp_1.append(prs) # 製品組み合わせリストの追加\n",
    "                        common_dp.append(tmp_1) \n",
    "    return common_dp\n",
    "\n",
    "common_dp = common_dp_list(chromosome)\n",
    "common_dp"
   ]
  },
  {
   "attachments": {},
   "cell_type": "markdown",
   "metadata": {},
   "source": [
    "## 共通構成部位$C_p$のリスト化"
   ]
  },
  {
   "cell_type": "code",
   "execution_count": 15,
   "metadata": {},
   "outputs": [
    {
     "data": {
      "text/plain": [
       "[['Cp1', ['Pr1', 'Pr2']],\n",
       " ['Cp1', ['Pr3', 'Pr4']],\n",
       " ['Cp2', ['Pr4', 'Pr2', 'Pr3', 'Pr1']],\n",
       " ['Cp3', ['Pr4', 'Pr2', 'Pr3', 'Pr1']],\n",
       " ['Cp4', ['Pr4', 'Pr2', 'Pr3']],\n",
       " ['Cp5', ['Pr4', 'Pr2', 'Pr3']],\n",
       " ['Cp6', ['Pr4', 'Pr2', 'Pr3', 'Pr1']],\n",
       " ['Cp7', ['Pr2', 'Pr4']],\n",
       " ['Cp8', ['Pr4', 'Pr3', 'Pr1']],\n",
       " ['Cp9', ['Pr4', 'Pr2', 'Pr3', 'Pr1']],\n",
       " ['Cp10', ['Pr4', 'Pr2', 'Pr3', 'Pr1']]]"
      ]
     },
     "execution_count": 15,
     "metadata": {},
     "output_type": "execute_result"
    }
   ],
   "source": [
    "# 共通化する構成部位単位でのリストを作成\n",
    "seen_cp = []\n",
    "seen_pr = []\n",
    "common_cp = []\n",
    "for l in common_dp:\n",
    "    #1. Cpにないとき，addする\n",
    "    #2(1). Cpにあるとき，Prになければaddする．\n",
    "    #2(2). Cpにあるとき，Prが定義されていなければaddする．\n",
    "    if l[0] not in seen_cp:\n",
    "        seen_cp.append(l[0])\n",
    "        seen_pr.append(l[2].copy())\n",
    "        common_cp.append([l[0], l[2].copy()])\n",
    "    else:\n",
    "        if seen_pr == []:\n",
    "            seen_cp.append(l[0])\n",
    "            seen_pr.append(l[2].copy())\n",
    "            common_cp.append([l[0], l[2].copy()])\n",
    "        else:\n",
    "            is_exist = False\n",
    "            for s in seen_pr:\n",
    "                if set(s) == set(l[2]):\n",
    "                    is_exist = True\n",
    "                    break\n",
    "            if is_exist == False:\n",
    "                seen_cp.append(l[0])\n",
    "                seen_pr.append(l[2].copy())\n",
    "                common_cp.append([l[0], l[2].copy()])\n",
    "common_cp"
   ]
  },
  {
   "attachments": {},
   "cell_type": "markdown",
   "metadata": {},
   "source": [
    "## モジュール分割構造のリスト化"
   ]
  },
  {
   "cell_type": "code",
   "execution_count": 104,
   "metadata": {},
   "outputs": [
    {
     "name": "stdout",
     "output_type": "stream",
     "text": [
      "40\n"
     ]
    },
    {
     "data": {
      "text/plain": [
       "[['Cp4,Pr1', 'Cp5,Pr1', 'Cp7,Pr1'],\n",
       " ['Cp8,Pr2'],\n",
       " ['Cp7,Pr3'],\n",
       " ['Cp1,Pr1', 'Cp1,Pr2'],\n",
       " ['Cp1,Pr3', 'Cp1,Pr4'],\n",
       " ['Cp2,Pr4',\n",
       "  'Cp2,Pr2',\n",
       "  'Cp2,Pr3',\n",
       "  'Cp2,Pr1',\n",
       "  'Cp3,Pr4',\n",
       "  'Cp3,Pr2',\n",
       "  'Cp3,Pr3',\n",
       "  'Cp3,Pr1',\n",
       "  'Cp6,Pr4',\n",
       "  'Cp6,Pr2',\n",
       "  'Cp6,Pr3',\n",
       "  'Cp6,Pr1',\n",
       "  'Cp9,Pr4',\n",
       "  'Cp9,Pr2',\n",
       "  'Cp9,Pr3',\n",
       "  'Cp9,Pr1',\n",
       "  'Cp10,Pr4',\n",
       "  'Cp10,Pr2',\n",
       "  'Cp10,Pr3',\n",
       "  'Cp10,Pr1'],\n",
       " ['Cp4,Pr4', 'Cp4,Pr2', 'Cp4,Pr3', 'Cp5,Pr4', 'Cp5,Pr2', 'Cp5,Pr3'],\n",
       " ['Cp7,Pr2', 'Cp7,Pr4'],\n",
       " ['Cp8,Pr4', 'Cp8,Pr3', 'Cp8,Pr1']]"
      ]
     },
     "execution_count": 104,
     "metadata": {},
     "output_type": "execute_result"
    }
   ],
   "source": [
    "\n",
    "def module_list(common_cp, n_pr, n_cp):\n",
    "    # common_cpから一意にみちびかれるはずである\n",
    "    mod = []\n",
    "    \n",
    "    # 各製品に対して個別かどうかを調査\n",
    "    for ipr in range(n_pr):\n",
    "        mod_tmp = []\n",
    "\n",
    "        # 各構成部位に対して調査\n",
    "        for icp in range(n_cp):\n",
    "\n",
    "            # 共通化リストの中にipr製品が存在しないかどうかを確認する\n",
    "            tmp = [r[0] for r in common_cp]\n",
    "            idxs = [i for i, x in enumerate(tmp) if x == 'Cp' + str(icp+1)]\n",
    "            is_no_common = True\n",
    "\n",
    "            for idx in idxs:\n",
    "                if 'Pr' + str(ipr+1) in common_cp[idx][1]:\n",
    "                    is_no_common = False\n",
    "                    break\n",
    "        \n",
    "            if is_no_common == True:\n",
    "                mod_tmp.append('Cp'+str(icp+1)+',Pr'+str(ipr+1))\n",
    "        if mod_tmp:\n",
    "            mod.append(mod_tmp)\n",
    "\n",
    "    fin = []\n",
    "    for i1, l1 in enumerate(common_cp):\n",
    "        if i1 in fin:\n",
    "            continue\n",
    "\n",
    "        fin.append(i1)\n",
    "\n",
    "        mod_tmp = []\n",
    "        for ll in l1[1]:\n",
    "            mod_tmp.append(l1[0] + ',' + ll)\n",
    "\n",
    "        for i2, l2 in enumerate(common_cp):\n",
    "            if i1 >= i2 or i2 in fin:\n",
    "                continue\n",
    "\n",
    "            if set(l1[1]) == set(l2[1]):\n",
    "                fin.append(i2)\n",
    "                for ll in l2[1]:\n",
    "                    mod_tmp.append(l2[0] + ',' + ll)\n",
    "\n",
    "        mod.append(mod_tmp)\n",
    "    return(mod)\n",
    "\n",
    "mod = module_list(common_cp, n_pr, n_cp)\n",
    "\n",
    "print(sum(len(v) for v in mod))\n",
    "mod"
   ]
  },
  {
   "attachments": {},
   "cell_type": "markdown",
   "metadata": {},
   "source": [
    "### モジュール分割構造の可視化"
   ]
  },
  {
   "cell_type": "code",
   "execution_count": 102,
   "metadata": {},
   "outputs": [
    {
     "name": "stdout",
     "output_type": "stream",
     "text": [
      "      product1  product2  product3  product4\n",
      "Cp1          3         3         4         4\n",
      "Cp2          5         5         5         5\n",
      "Cp3          5         5         5         5\n",
      "Cp4          0         6         6         6\n",
      "Cp5          0         6         6         6\n",
      "Cp6          5         5         5         5\n",
      "Cp7          0         7         2         7\n",
      "Cp8          8         1         8         8\n",
      "Cp9          5         5         5         5\n",
      "Cp10         5         5         5         5\n"
     ]
    },
    {
     "data": {
      "image/png": "[encoded data removed]",
      "text/plain": [
       "<Figure size 640x480 with 1 Axes>"
      ]
     },
     "metadata": {},
     "output_type": "display_data"
    }
   ],
   "source": [
    "indexs = df_dp[\"component_id\"].drop_duplicates().tolist()\n",
    "columns = df_product_definition.columns.values.tolist()[2:]\n",
    "\n",
    "lists = []\n",
    "for icp in range(len(indexs)):\n",
    "    l = []\n",
    "    for ipr in range(len(columns)):\n",
    "        l.append(0)\n",
    "    lists.append(l)\n",
    "\n",
    "for idx, m in enumerate(mod):\n",
    "    for s in m:\n",
    "        cp_num = s[:s.find(\",\")]\n",
    "        icp = int(cp_num.replace('Cp','')) - 1\n",
    "        pr_num = s[s.find(\",\")+1:]\n",
    "        ipr = int(pr_num.replace('Pr','')) - 1\n",
    "        lists[icp][ipr] = idx\n",
    "\n",
    "df_mod = pd.DataFrame(data=lists, index=indexs, columns=columns)\n",
    "print(df_mod)\n",
    "\n",
    "%matplotlib inline\n",
    "plt.figure()\n",
    "plot_mod = sns.heatmap(df_mod, annot=True, cbar=False, cmap='jet')\n",
    "plot_mod.set_xticklabels(plot_mod.get_xticklabels(),rotation = 0)\n",
    "plot_mod.set_yticklabels(plot_mod.get_yticklabels(),rotation = 0)\n",
    "plt.show(plot_mod)"
   ]
  },
  {
   "attachments": {},
   "cell_type": "markdown",
   "metadata": {},
   "source": [
    "# 評価"
   ]
  },
  {
   "attachments": {
    "image.png": {
     "image/png": "[encoded data removed]"
    }
   },
   "cell_type": "markdown",
   "metadata": {},
   "source": [
    "## 総妥協度の算出\n",
    "![image.png](attachment:image.png)"
   ]
  },
  {
   "attachments": {},
   "cell_type": "markdown",
   "metadata": {},
   "source": [
    "#### $CD_{ljk}$の算出"
   ]
  },
  {
   "cell_type": "code",
   "execution_count": 18,
   "metadata": {},
   "outputs": [
    {
     "data": {
      "text/plain": [
       "[['Cp1',\n",
       "  'Dp1',\n",
       "  ['Pr1', 'Pr2'],\n",
       "  array([ 5.,  5.,  0.,  0., 21., 21.,  1.,  1.,  1.,  1.,  9.,  9.])],\n",
       " ['Cp1',\n",
       "  'Dp2',\n",
       "  ['Pr1', 'Pr2'],\n",
       "  array([ 5.,  5.,  0.,  0., 21., 21.,  1.,  1.,  1.,  1.,  9.,  9.])],\n",
       " ['Cp1',\n",
       "  'Dp3',\n",
       "  ['Pr1', 'Pr2'],\n",
       "  array([ 5.,  5.,  0.,  0., 21., 21.,  1.,  1.,  1.,  1.,  9.,  9.])],\n",
       " ['Cp1',\n",
       "  'Dp1',\n",
       "  ['Pr3', 'Pr4'],\n",
       "  array([ 1.,  1.,  0.,  0., 15., 15.,  5.,  5.,  5.,  5., 15., 15.])],\n",
       " ['Cp1',\n",
       "  'Dp2',\n",
       "  ['Pr3', 'Pr4'],\n",
       "  array([ 1.,  1.,  0.,  0., 15., 15.,  5.,  5.,  5.,  5., 15., 15.])],\n",
       " ['Cp1',\n",
       "  'Dp3',\n",
       "  ['Pr3', 'Pr4'],\n",
       "  array([ 1.,  1.,  0.,  0., 15., 15.,  5.,  5.,  5.,  5., 15., 15.])],\n",
       " ['Cp2',\n",
       "  'Dp4',\n",
       "  ['Pr4', 'Pr2', 'Pr3', 'Pr1'],\n",
       "  array([9., 3., 6., 6., 6., 6., 3., 3., 3., 3., 0., 0.])],\n",
       " ['Cp2',\n",
       "  'Dp5',\n",
       "  ['Pr4', 'Pr2', 'Pr3', 'Pr1'],\n",
       "  array([9., 3., 6., 6., 6., 6., 3., 3., 3., 3., 0., 0.])],\n",
       " ['Cp2',\n",
       "  'Dp6',\n",
       "  ['Pr4', 'Pr2', 'Pr3', 'Pr1'],\n",
       "  array([9., 3., 6., 6., 6., 6., 3., 3., 3., 3., 0., 0.])],\n",
       " ['Cp3',\n",
       "  'Dp7',\n",
       "  ['Pr4', 'Pr2', 'Pr3', 'Pr1'],\n",
       "  array([3., 3., 6., 6., 6., 6., 0., 0., 0., 0., 0., 0.])],\n",
       " ['Cp3',\n",
       "  'Dp8',\n",
       "  ['Pr4', 'Pr2', 'Pr3', 'Pr1'],\n",
       "  array([3., 3., 6., 6., 6., 6., 0., 0., 0., 0., 0., 0.])],\n",
       " ['Cp3',\n",
       "  'Dp9',\n",
       "  ['Pr4', 'Pr2', 'Pr3', 'Pr1'],\n",
       "  array([3., 3., 6., 6., 6., 6., 0., 0., 0., 0., 0., 0.])],\n",
       " ['Cp4',\n",
       "  'Dp10',\n",
       "  ['Pr4', 'Pr2', 'Pr3'],\n",
       "  array([ 1.        ,  1.        ,  6.33333333,  6.33333333,  0.        ,\n",
       "         19.        ,  3.66666667,  3.66666667,  3.66666667,  3.66666667,\n",
       "         15.        ,  0.        ])],\n",
       " ['Cp4',\n",
       "  'Dp11',\n",
       "  ['Pr4', 'Pr2', 'Pr3'],\n",
       "  array([ 1.        ,  1.        ,  6.33333333,  6.33333333,  0.        ,\n",
       "         19.        ,  3.66666667,  3.66666667,  3.66666667,  3.66666667,\n",
       "         15.        ,  0.        ])],\n",
       " ['Cp4',\n",
       "  'Dp12',\n",
       "  ['Pr4', 'Pr2', 'Pr3'],\n",
       "  array([ 1.        ,  1.        ,  6.33333333,  6.33333333,  0.        ,\n",
       "         19.        ,  3.66666667,  3.66666667,  3.66666667,  3.66666667,\n",
       "         15.        ,  0.        ])],\n",
       " ['Cp5',\n",
       "  'Dp13',\n",
       "  ['Pr4', 'Pr2', 'Pr3'],\n",
       "  array([1.        , 1.        , 6.33333333, 6.33333333, 0.        ,\n",
       "         6.33333333, 3.66666667, 3.66666667, 3.66666667, 3.66666667,\n",
       "         0.        , 0.        ])],\n",
       " ['Cp6',\n",
       "  'Dp14',\n",
       "  ['Pr4', 'Pr2', 'Pr3', 'Pr1'],\n",
       "  array([3., 3., 0., 0., 0., 6., 0., 0., 0., 0., 0., 0.])],\n",
       " ['Cp6',\n",
       "  'Dp15',\n",
       "  ['Pr4', 'Pr2', 'Pr3', 'Pr1'],\n",
       "  array([3., 3., 0., 0., 0., 6., 0., 0., 0., 0., 0., 0.])],\n",
       " ['Cp7',\n",
       "  'Dp16',\n",
       "  ['Pr2', 'Pr4'],\n",
       "  array([1., 3., 7., 7., 0., 0., 1., 1., 1., 1., 7., 7.])],\n",
       " ['Cp7',\n",
       "  'Dp17',\n",
       "  ['Pr2', 'Pr4'],\n",
       "  array([1., 3., 7., 7., 0., 0., 1., 1., 1., 1., 7., 7.])],\n",
       " ['Cp8',\n",
       "  'Dp18',\n",
       "  ['Pr4', 'Pr3', 'Pr1'],\n",
       "  array([ 3.66666667, 11.        , 15.        , 15.        ,  5.        ,\n",
       "          5.        ,  3.66666667,  3.66666667,  3.66666667,  3.66666667,\n",
       "          3.66666667,  3.66666667])],\n",
       " ['Cp8',\n",
       "  'Dp19',\n",
       "  ['Pr4', 'Pr3', 'Pr1'],\n",
       "  array([ 3.66666667, 11.        , 15.        , 15.        ,  5.        ,\n",
       "          5.        ,  3.66666667,  3.66666667,  3.66666667,  3.66666667,\n",
       "          3.66666667,  3.66666667])],\n",
       " ['Cp9',\n",
       "  'Dp20',\n",
       "  ['Pr4', 'Pr2', 'Pr3', 'Pr1'],\n",
       "  array([3., 3., 6., 6., 6., 6., 0., 0., 0., 0., 4., 4.])],\n",
       " ['Cp9',\n",
       "  'Dp21',\n",
       "  ['Pr4', 'Pr2', 'Pr3', 'Pr1'],\n",
       "  array([3., 3., 6., 6., 6., 6., 0., 0., 0., 0., 4., 4.])],\n",
       " ['Cp10',\n",
       "  'Dp22',\n",
       "  ['Pr4', 'Pr2', 'Pr3', 'Pr1'],\n",
       "  array([3., 3., 6., 6., 0., 0., 3., 3., 3., 3., 4., 4.])],\n",
       " ['Cp10',\n",
       "  'Dp23',\n",
       "  ['Pr4', 'Pr2', 'Pr3', 'Pr1'],\n",
       "  array([3., 3., 6., 6., 0., 0., 3., 3., 3., 3., 4., 4.])]]"
      ]
     },
     "execution_count": 18,
     "metadata": {},
     "output_type": "execute_result"
    }
   ],
   "source": [
    "# 重心ベクトルを算出してcomon_dpに追加\n",
    "for l in common_dp:\n",
    "    idp = int(l[1].replace('Dp','')) - 1\n",
    "\n",
    "    # 共通化される製品番号を抽出する\n",
    "    iprs_common = [int(s.replace('Pr',''))-1 for s in l[2]]\n",
    "    icp = int(l[0].replace('Cp',''))-1\n",
    "    design_policy_center = np.average(design_policy[iprs_common, icp, :], axis=0)\n",
    "    l.append(design_policy_center)\n",
    "common_dp"
   ]
  },
  {
   "attachments": {
    "image.png": {
     "image/png": "[encoded data removed]"
    }
   },
   "cell_type": "markdown",
   "metadata": {},
   "source": [
    "### 妥協ベクトル$C_{lijk}$・総妥協度の算出\n",
    "\n",
    "![image.png](attachment:image.png)"
   ]
  },
  {
   "cell_type": "code",
   "execution_count": 19,
   "metadata": {},
   "outputs": [
    {
     "name": "stdout",
     "output_type": "stream",
     "text": [
      "総妥協度:2210.0\n"
     ]
    }
   ],
   "source": [
    "# 妥協ベクトルの算出（1パターン分を格納）\n",
    "compromise = np.zeros((n_pr, n_dp, n_fm))\n",
    "\n",
    "# ipr:製品，idp:設計変数，ifm:機能尺度\n",
    "for idp in range(n_dp):\n",
    "    for ipr in range(n_pr):\n",
    "\n",
    "        is_common = False\n",
    "        for l in common_dp:\n",
    "            iprs_common = [int(s.replace('Pr','')) - 1 for s in l[2]]\n",
    "\n",
    "            # 共通化される組み合わせの場合\n",
    "            if ipr in iprs_common:\n",
    "                is_common = True\n",
    "                \n",
    "                # 機能尺度が，妥協しているもののみ，差分算出する\n",
    "                for ifm in range(n_fm):\n",
    "                    if design_policy[ipr,idp,ifm] > l[3][ifm]:\n",
    "                        compromise[ipr,idp,ifm] = design_policy[ipr,idp,ifm] - l[3][ifm] #たぶんいけるはず？\n",
    "                    else:\n",
    "                        compromise[ipr,idp,ifm] = 0\n",
    "                break\n",
    "\n",
    "        # 共通化されない組み合わせの場合\n",
    "        if is_common == False:\n",
    "            compromise[ipr,idp,:] = 0\n",
    "\n",
    "total_compromise_degree = np.sum(compromise)\n",
    "print('総妥協度:' + str(total_compromise_degree))"
   ]
  },
  {
   "attachments": {},
   "cell_type": "markdown",
   "metadata": {},
   "source": [
    "## 部品共通率(PCR)の算出"
   ]
  },
  {
   "cell_type": "code",
   "execution_count": 20,
   "metadata": {},
   "outputs": [
    {
     "name": "stdout",
     "output_type": "stream",
     "text": [
      "16\n"
     ]
    },
    {
     "data": {
      "text/plain": [
       "[['Cp1', ['Pr1', 'Pr2']],\n",
       " ['Cp1', ['Pr3', 'Pr4']],\n",
       " ['Cp2', ['Pr4', 'Pr2', 'Pr3', 'Pr1']],\n",
       " ['Cp3', ['Pr4', 'Pr2', 'Pr3', 'Pr1']],\n",
       " ['Cp4', ['Pr4', 'Pr2', 'Pr3']],\n",
       " ['Cp5', ['Pr4', 'Pr2', 'Pr3']],\n",
       " ['Cp6', ['Pr4', 'Pr2', 'Pr3', 'Pr1']],\n",
       " ['Cp7', ['Pr2', 'Pr4']],\n",
       " ['Cp8', ['Pr4', 'Pr3', 'Pr1']],\n",
       " ['Cp9', ['Pr4', 'Pr2', 'Pr3', 'Pr1']],\n",
       " ['Cp10', ['Pr4', 'Pr2', 'Pr3', 'Pr1']]]"
      ]
     },
     "execution_count": 20,
     "metadata": {},
     "output_type": "execute_result"
    }
   ],
   "source": [
    "# 総構成部位数（#CompType）を算出する\n",
    "# #CompType = \\Sigma{icp} [#Pr + 共通化された構成部品\"種類\"数 - 共通化された構成部品数]\n",
    "n_comp_type = 0\n",
    "for icp in range(n_cp):\n",
    "    n_common_pr_type = 0 # 共通化された構成部品種類数\n",
    "    n_common_pr = 0 # 共通化された構成部品数\n",
    "    for l in common_cp:\n",
    "        if int(l[0].replace('Cp','')) - 1 == icp:\n",
    "            n_common_pr_type += 1\n",
    "            n_common_pr += len(l[1])\n",
    "\n",
    "    # print('共通化された構成部品種類数' + str(n_common_pr_type))\n",
    "    # print('共通化された構成部品数' + str(n_common_pr))\n",
    "    n_comp_type += n_pr + n_common_pr_type - n_common_pr\n",
    "print(n_comp_type)\n",
    "common_cp"
   ]
  },
  {
   "attachments": {
    "image.png": {
     "image/png": "[encoded data removed]"
    }
   },
   "cell_type": "markdown",
   "metadata": {},
   "source": [
    "![image.png](attachment:image.png)"
   ]
  },
  {
   "cell_type": "code",
   "execution_count": 21,
   "metadata": {},
   "outputs": [
    {
     "name": "stdout",
     "output_type": "stream",
     "text": [
      "PCR: 0.5\n"
     ]
    }
   ],
   "source": [
    "pcr = 1 - (n_cp*n_pr - n_comp_type) / ((n_pr * n_comp_type) - n_comp_type)\n",
    "print('PCR: ' + str(pcr))"
   ]
  },
  {
   "attachments": {},
   "cell_type": "markdown",
   "metadata": {},
   "source": [
    "## 構造共通化率(SCR)の算出"
   ]
  },
  {
   "cell_type": "code",
   "execution_count": 30,
   "metadata": {},
   "outputs": [
    {
     "data": {
      "text/plain": [
       "0.9777777777777777"
      ]
     },
     "execution_count": 30,
     "metadata": {},
     "output_type": "execute_result"
    }
   ],
   "source": [
    "cnt = 0\n",
    "scr = 0\n",
    "\n",
    "for icp1 in range(n_cp-1):\n",
    "    for icp2 in range(icp1+1, n_cp):\n",
    "        for ipr1 in range(n_pr-1):\n",
    "\n",
    "            # ipr1において，icp1とicp2は同一モジュールか異モジュールか？\n",
    "            is_mc1 = False\n",
    "            for l in mod:\n",
    "\n",
    "                # 同一モジュール内にcp1/2が存在するかどうかを判別する\n",
    "                is_cp1 = False\n",
    "                is_cp2 = False\n",
    "                for s in l:\n",
    "                    if s == 'Cp' + str(icp1+1) + ',' + 'Pr' + str(ipr1+1):\n",
    "                        is_cp1 = True\n",
    "                    if s == 'Cp' + str(icp2+1) + ',' + 'Pr' + str(ipr1+1):\n",
    "                        is_cp2 = True\n",
    "\n",
    "                if is_cp1 == True and is_cp2 == True:\n",
    "                    is_mc1 = True\n",
    "\n",
    "            for ipr2 in range(ipr1+1, n_pr):\n",
    "\n",
    "                # ipr2において，icp1とicp2は同一モジュールか異モジュールか？\n",
    "                is_mc2 = False\n",
    "                for l in mod:\n",
    "\n",
    "                    # 同一モジュール内にcp1/2が存在するかどうかを判別する\n",
    "                    is_cp1 = False\n",
    "                    is_cp2 = False\n",
    "                    for s in l:\n",
    "                        if s == 'Cp' + str(icp1+1) + ',' + 'Pr' + str(ipr2+1):\n",
    "                            is_cp1 = True\n",
    "                        if s == 'Cp' + str(icp2+1) + ',' + 'Pr' + str(ipr2+1):\n",
    "                            is_cp2 = True\n",
    "\n",
    "                    if is_cp1 == True and is_cp2 == True:\n",
    "                        is_mc2 = True\n",
    "\n",
    "                cnt += 1\n",
    "                # 2製品でともに同一モジュールに含まれる場合か，異モジュールに含まれる場合，+1\n",
    "                if is_mc1 == is_mc2:\n",
    "                    scr += 1\n",
    "\n",
    "scr = scr / cnt\n",
    "scr"
   ]
  },
  {
   "attachments": {},
   "cell_type": "markdown",
   "metadata": {},
   "source": [
    "## 調整阻害度の算出"
   ]
  },
  {
   "cell_type": "code",
   "execution_count": 36,
   "metadata": {},
   "outputs": [
    {
     "name": "stdout",
     "output_type": "stream",
     "text": [
      "pr1: 4839\n",
      "pr2: 8578\n",
      "pr3: 14777\n",
      "pr4: 17832\n"
     ]
    },
    {
     "data": {
      "text/plain": [
       "17832"
      ]
     },
     "execution_count": 36,
     "metadata": {},
     "output_type": "execute_result"
    }
   ],
   "source": [
    "inh_coord = 0\n",
    "\n",
    "for ipr in range(n_pr):\n",
    "    for icp1 in range(n_cp-1):\n",
    "        for icp2 in range(icp1+1, n_cp):\n",
    "\n",
    "            # iprにおいて，icp1とicp2が異なるモジュールに属するかどうかを判別\n",
    "            is_same_mod = False\n",
    "            for l in mod:\n",
    "                # 同一モジュール内にcp1/2が存在するかどうかを判別する\n",
    "                is_cp1 = False\n",
    "                is_cp2 = False\n",
    "                for s in l:\n",
    "                    if s == 'Cp' + str(icp1+1) + ',' + 'Pr' + str(ipr1+1):\n",
    "                        is_cp1 = True\n",
    "                    if s == 'Cp' + str(icp2+1) + ',' + 'Pr' + str(ipr1+1):\n",
    "                        is_cp2 = True\n",
    "\n",
    "                if is_cp1 == True and is_cp2 == True:\n",
    "                    is_same_mod = True\n",
    "            # iprにおいて，icp1とicp2が異なるモジュールに属する場合\n",
    "            if is_same_mod == False:\n",
    "                inh_coord += cp_dsms[ipr][comb_index2(icp1+1, icp2+1, n_cp) - 1]\n",
    "\n",
    "    print('pr'+str(ipr+1)+': '+str(inh_coord))\n",
    "inh_coord"
   ]
  }
 ],
 "metadata": {
  "kernelspec": {
   "display_name": "Python 3",
   "language": "python",
   "name": "python3"
  },
  "language_info": {
   "codemirror_mode": {
    "name": "ipython",
    "version": 3
   },
   "file_extension": ".py",
   "mimetype": "text/x-python",
   "name": "python",
   "nbconvert_exporter": "python",
   "pygments_lexer": "ipython3",
   "version": "3.10.9"
  },
  "orig_nbformat": 4,
  "vscode": {
   "interpreter": {
    "hash": "4f2ce2489340f4480ed50cb2a034e1fb97842cd444ee7510d01ca2a3599e2494"
   }
  }
 },
 "nbformat": 4,
 "nbformat_minor": 2
}
